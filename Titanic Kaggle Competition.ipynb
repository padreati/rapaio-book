{
 "cells": [
  {
   "cell_type": "markdown",
   "metadata": {},
   "source": [
    "## 1. Getting started: Kaggle's Titanic Competition\n",
    "\n",
    "Kaggle is already established as the best place which hosts machine learning competitions. If you do not know it already, then it's time to do it.\n",
    "\n",
    "__[Titanic Competition](https://www.kaggle.com/c/titanic)__ is perhaps the first competition which one should try. Of course, if you are already an experienced data scientist, than you can skip to an advanced competition.\n",
    "\n",
    "The purpose of the competition is to learn if a passenger has survived or not. We illustrate some steps and ideas one can apply to compete in this learning competition using the available tools one can find in rapaio library."
   ]
  },
  {
   "cell_type": "code",
   "execution_count": 1,
   "metadata": {},
   "outputs": [],
   "source": [
    "%load rapaio-bootstrap"
   ]
  },
  {
   "cell_type": "markdown",
   "metadata": {},
   "source": [
    "### 1.2 Get the data\n",
    "\n",
    "The purpose of the competition is to predict which passengers have survived or not. The available data has two parts. The first part consists in a data set which contains what happened with some passengers and some related information like sex, cabin, age, class, etc. This data set contains information regarding their survival. The purpose why this data set contains survival data is because it will be used to train a model which learns how to decide if a passenger survives or not. This is the `train.csv`. The other file is a data set which contains data about another set of passenger, this time without knowing if they survived or not. They contain, however an identification number. This data set is `test.csv` and this is used to make predictions. Those predictions should be similar with the provided `gendermodel.csv`.\n",
    "\n",
    "We also have to take a look of the data description provided on __[contest dedicated page](https://www.kaggle.com/c/titanic/data)__:\n",
    "\n",
    "```\n",
    "VARIABLE DESCRIPTIONS:\n",
    "survival Survival\n",
    "(0 = No; 1 = Yes)\n",
    "pclass Passenger Class\n",
    "(1 = 1st; 2 = 2nd; 3 = 3rd)\n",
    "name Name\n",
    "sex Sex\n",
    "age Age\n",
    "sibsp Number of Siblings/Spouses Aboard\n",
    "parch Number of Parents/Children Aboard\n",
    "ticket Ticket Number\n",
    "fare Passenger Fare\n",
    "cabin Cabin\n",
    "embarked Port of Embarkation\n",
    "(C = Cherbourg; Q = Queenstown; S = Southampton)\n",
    "\n",
    "SPECIAL NOTES:\n",
    "Pclass is a proxy for socio-economic status (SES)\n",
    "1st ~ Upper; 2nd ~ Middle; 3rd ~ Lower\n",
    "\n",
    "Age is in Years; Fractional if Age less than One (1)\n",
    "If the Age is Estimated, it is in the form xx.5\n",
    "\n",
    "With respect to the family relation variables (i.e. sibsp and parch)\n",
    "some relations were ignored. The following are the definitions used\n",
    "for sibsp and parch.\n",
    "\n",
    "Sibling: Brother, Sister, Stepbrother, or Stepsister of Passenger Aboard Titanic\n",
    "Spouse: Husband or Wife of Passenger Aboard Titanic (Mistresses and Fiances Ignored)\n",
    "Parent: Mother or Father of Passenger Aboard Titanic\n",
    "Child: Son, Daughter, Stepson, or Stepdaughter of Passenger Aboard Titanic\n",
    "\n",
    "Other family relatives excluded from this study include cousins,\n",
    "nephews/nieces, aunts/uncles, and in-laws. Some children travelled\n",
    "only with a nanny, therefore parch=0 for them. As well, some\n",
    "travelled with very close friends or neighbors in a village, however,\n",
    "the definitions do not support such relations.\n",
    "```\n",
    "\n",
    "The first step in our adventure is to download those 3 data file in *csv* format. You can do it from __[data section](https://www.kaggle.com/c/titanic/data)__ of the competition. Let's suppose you downloaded somewhere in a local folder. We will name this folder `data` folder, and actually it can have any name you would like.\n",
    "\n",
    "### 1.2 Read train data from csv file\n",
    "\n",
    "Because the data is small we can load the whole data in memory with no problems.\n",
    "\n",
    "Let's see how we can load the data into memory. In rapaio the sets of data are loaded into the form of *frames* (`rapaio.data.Frame`). A frame is basically a tabular data, with columns for each variable (feature) and rows for each instance (in our case for each passenger).\n",
    "\n",
    "\n",
    "A first try of loading the train data set and see what has happened is the following:\n"
   ]
  },
  {
   "cell_type": "code",
   "execution_count": 2,
   "metadata": {},
   "outputs": [
    {
     "name": "stdout",
     "output_type": "stream",
     "text": [
      "Frame Summary\n",
      "=============\n",
      "* rowCount: 891\n",
      "* complete: 183/891\n",
      "* varCount: 12\n",
      "* varNames: \n",
      "\n",
      " 0. PassengerId : dbl |  4.         Sex : nom |  8.      Ticket : nom | \n",
      " 1.    Survived : bin |  5.         Age : dbl |  9.        Fare : dbl | \n",
      " 2.      Pclass : dbl |  6.       SibSp : dbl | 10.       Cabin : nom | \n",
      " 3.        Name : nom |  7.       Parch : dbl | 11.    Embarked : nom | \n",
      "\n",
      "* summary: \n",
      " PassengerId [dbl]        Survived [bin]    Pclass [dbl]                                                        Name [nom]      Sex [nom]       Age [dbl]           SibSp [dbl]         Parch [dbl]         Ticket [nom] \n",
      "      Min. :   1.0000000 0 :         549    Min. : 1.0000000 \"Jacobsohn, Mrs. Sidney Samuel (Amy Frances Christy)\" :     1   male :   577    Min. :   0.4200000    Min. : 0.0000000    Min. : 0.0000000 CA. 2343 :     7 \n",
      "   1st Qu. : 223.5000000 1 :         342 1st Qu. : 2.0000000                                 \"Toomey, Miss. Ellen\" :     1 female :   314 1st Qu. :  20.1250000 1st Qu. : 0.0000000 1st Qu. : 0.0000000   347082 :     7 \n",
      "    Median : 446.0000000 NAs :         0  Median : 3.0000000                           \"de Pelsmaeker, Mr. Alfons\" :     1                 Median :  28.0000000  Median : 0.0000000  Median : 0.0000000     1601 :     7 \n",
      "      Mean : 446.0000000                    Mean : 2.3086420                           \"Jensen, Mr. Svend Lauritz\" :     1                   Mean :  29.6991176    Mean : 0.5230079    Mean : 0.3815937   347088 :     6 \n",
      "   2nd Qu. : 668.5000000                 2nd Qu. : 3.0000000                                 \"Morley, Mr. William\" :     1                2nd Qu. :  38.0000000 2nd Qu. : 1.0000000 2nd Qu. : 0.0000000  3101295 :     6 \n",
      "      Max. : 891.0000000                    Max. : 3.0000000                                               (Other) :   886                   Max. :  80.0000000    Max. : 8.0000000    Max. : 6.0000000  (Other) :   858 \n",
      "                                                                                                                                              NAs : 177.0000000                                                          \n",
      "\n",
      "     Fare [dbl]               Cabin [nom]  Embarked [nom] \n",
      "   Min. :   0.0000000 C23 C25 C27 :     4       S :   644 \n",
      "1st Qu. :   7.9104000     B96 B98 :     4       C :   168 \n",
      " Median :  14.4542000          G6 :     4       Q :    77 \n",
      "   Mean :  32.2042080          F2 :     3                 \n",
      "2nd Qu. :  31.0000000     (Other) :   189                 \n",
      "   Max. : 512.3292000         NAs :   687     NAs :     2 \n",
      "                                                          \n",
      "\n",
      "\n",
      "\n"
     ]
    }
   ],
   "source": [
    "String urlTrain = \"https://raw.githubusercontent.com/padreati/rapaio-notebooks/master/data/titanic/train.csv\";\n",
    "String urlTest = \"https://raw.githubusercontent.com/padreati/rapaio-notebooks/master/data/titanic/test.csv\";\n",
    "Csv.instance().readUrl(urlTrain).printSummary();"
   ]
  },
  {
   "cell_type": "markdown",
   "metadata": {},
   "source": [
    "How can we interpret the output of the frame's summary?\n",
    "\n",
    "* We loaded a frame which has $891$ rows and $12$ columns (variables)\n",
    "* From all the rows, $183$ are complete (non missing data)\n",
    "* The name of the variables are listed, together with their types\n",
    "* It follows a data summary for the frame: 6 number summary for numeric variables, most frequent levels for nominal variables\n",
    "\n",
    "Let's inspect each variable and see how it fits our needs.\n",
    "\n",
    "**PassengedId**\n",
    "\n",
    "The type for this variable is index (integer values). This field looks like an identifier for the passenger, so from our point of view the sorting is not required. What we can do, but is not required, is to change the field type to nominal. Anyway, we do not need this field for learning since it should be unique for each instance, thus the predictive power is null. We will ignore it for now since we will not consider it for learning\n",
    "\n",
    "**Survived**\n",
    "\n",
    "This is our target variable. It is parsed as binary, but since we do classification, we will change it's type to nominal. We do that directly from the csv parsing, by indicating that we want Survived parsed as nominal variable:\n"
   ]
  },
  {
   "cell_type": "code",
   "execution_count": 3,
   "metadata": {},
   "outputs": [
    {
     "name": "stdout",
     "output_type": "stream",
     "text": [
      "Frame Summary\n",
      "=============\n",
      "* rowCount: 891\n",
      "* complete: 183/891\n",
      "* varCount: 12\n",
      "* varNames: \n",
      "\n",
      " 0. PassengerId : dbl |  4.         Sex : nom |  8.      Ticket : nom | \n",
      " 1.    Survived : nom |  5.         Age : dbl |  9.        Fare : dbl | \n",
      " 2.      Pclass : dbl |  6.       SibSp : dbl | 10.       Cabin : nom | \n",
      " 3.        Name : nom |  7.       Parch : dbl | 11.    Embarked : nom | \n",
      "\n",
      "* summary: \n",
      " PassengerId [dbl]        Survived [nom]    Pclass [dbl]                                                        Name [nom]      Sex [nom]       Age [dbl]           SibSp [dbl]         Parch [dbl]         Ticket [nom] \n",
      "      Min. :   1.0000000       0 :   549    Min. : 1.0000000 \"Jacobsohn, Mrs. Sidney Samuel (Amy Frances Christy)\" :     1   male :   577    Min. :   0.4200000    Min. : 0.0000000    Min. : 0.0000000 CA. 2343 :     7 \n",
      "   1st Qu. : 223.5000000       1 :   342 1st Qu. : 2.0000000                                 \"Toomey, Miss. Ellen\" :     1 female :   314 1st Qu. :  20.1250000 1st Qu. : 0.0000000 1st Qu. : 0.0000000   347082 :     7 \n",
      "    Median : 446.0000000                  Median : 3.0000000                           \"de Pelsmaeker, Mr. Alfons\" :     1                 Median :  28.0000000  Median : 0.0000000  Median : 0.0000000     1601 :     7 \n",
      "      Mean : 446.0000000                    Mean : 2.3086420                           \"Jensen, Mr. Svend Lauritz\" :     1                   Mean :  29.6991176    Mean : 0.5230079    Mean : 0.3815937   347088 :     6 \n",
      "   2nd Qu. : 668.5000000                 2nd Qu. : 3.0000000                                 \"Morley, Mr. William\" :     1                2nd Qu. :  38.0000000 2nd Qu. : 1.0000000 2nd Qu. : 0.0000000  3101295 :     6 \n",
      "      Max. : 891.0000000                    Max. : 3.0000000                                               (Other) :   886                   Max. :  80.0000000    Max. : 8.0000000    Max. : 6.0000000  (Other) :   858 \n",
      "                                                                                                                                              NAs : 177.0000000                                                          \n",
      "\n",
      "     Fare [dbl]               Cabin [nom]  Embarked [nom] \n",
      "   Min. :   0.0000000 C23 C25 C27 :     4       S :   644 \n",
      "1st Qu. :   7.9104000     B96 B98 :     4       C :   168 \n",
      " Median :  14.4542000          G6 :     4       Q :    77 \n",
      "   Mean :  32.2042080          F2 :     3                 \n",
      "2nd Qu. :  31.0000000     (Other) :   189                 \n",
      "   Max. : 512.3292000         NAs :   687     NAs :     2 \n",
      "                                                          \n",
      "\n",
      "\n",
      "\n"
     ]
    }
   ],
   "source": [
    "Csv.instance()\n",
    ".types.add(VarType.NOMINAL, \"Survived\")\n",
    ".readUrl(urlTrain)\n",
    ".printSummary();"
   ]
  },
  {
   "cell_type": "markdown",
   "metadata": {},
   "source": [
    "And notice how type of the `Survived` variable changed to nominal.\n",
    "\n",
    "\n",
    "**Pclass**\n",
    "\n",
    "This variable has index type. We can keep it like it is or we can change it to nominal. Both ways can be useful. For example parsed as index could give an interpretation to the order. We can say that somehow, because of ordering class 1 is lower than class 2, and class 2 is between classes 1 and 3. At the same time we can keep it as nominal if we do not want to use the ordering. Let's choose nominal for now, considering that 1,2 and 3 are just labels for type of tickets, with no other meaning attached. We proceed in the same way:"
   ]
  },
  {
   "cell_type": "code",
   "execution_count": 4,
   "metadata": {},
   "outputs": [
    {
     "name": "stdout",
     "output_type": "stream",
     "text": [
      "Frame Summary\n",
      "=============\n",
      "* rowCount: 891\n",
      "* complete: 183/891\n",
      "* varCount: 12\n",
      "* varNames: \n",
      "\n",
      " 0. PassengerId : dbl |  4.         Sex : nom |  8.      Ticket : nom | \n",
      " 1.    Survived : nom |  5.         Age : dbl |  9.        Fare : dbl | \n",
      " 2.      Pclass : nom |  6.       SibSp : dbl | 10.       Cabin : nom | \n",
      " 3.        Name : nom |  7.       Parch : dbl | 11.    Embarked : nom | \n",
      "\n",
      "* summary: \n",
      " PassengerId [dbl]        Survived [nom]  Pclass [nom]                                                    Name [nom]      Sex [nom]       Age [dbl]           SibSp [dbl]         Parch [dbl]         Ticket [nom] \n",
      "      Min. :   1.0000000       0 :   549     3 :   491 \"Jacobsohn, Mrs. Sidney Samuel (Amy Frances Christy)\" :     1   male :   577    Min. :   0.4200000    Min. : 0.0000000    Min. : 0.0000000 CA. 2343 :     7 \n",
      "   1st Qu. : 223.5000000       1 :   342     1 :   216                                 \"Toomey, Miss. Ellen\" :     1 female :   314 1st Qu. :  20.1250000 1st Qu. : 0.0000000 1st Qu. : 0.0000000   347082 :     7 \n",
      "    Median : 446.0000000                     2 :   184                           \"de Pelsmaeker, Mr. Alfons\" :     1                 Median :  28.0000000  Median : 0.0000000  Median : 0.0000000     1601 :     7 \n",
      "      Mean : 446.0000000                                                         \"Jensen, Mr. Svend Lauritz\" :     1                   Mean :  29.6991176    Mean : 0.5230079    Mean : 0.3815937   347088 :     6 \n",
      "   2nd Qu. : 668.5000000                                                               \"Morley, Mr. William\" :     1                2nd Qu. :  38.0000000 2nd Qu. : 1.0000000 2nd Qu. : 0.0000000  3101295 :     6 \n",
      "      Max. : 891.0000000                                                                             (Other) :   886                   Max. :  80.0000000    Max. : 8.0000000    Max. : 6.0000000  (Other) :   858 \n",
      "                                                                                                                                        NAs : 177.0000000                                                          \n",
      "\n",
      "     Fare [dbl]               Cabin [nom]  Embarked [nom] \n",
      "   Min. :   0.0000000 C23 C25 C27 :     4       S :   644 \n",
      "1st Qu. :   7.9104000     B96 B98 :     4       C :   168 \n",
      " Median :  14.4542000          G6 :     4       Q :    77 \n",
      "   Mean :  32.2042080          F2 :     3                 \n",
      "2nd Qu. :  31.0000000     (Other) :   189                 \n",
      "   Max. : 512.3292000         NAs :   687     NAs :     2 \n",
      "                                                          \n",
      "\n",
      "\n",
      "\n"
     ]
    }
   ],
   "source": [
    "Csv.instance()\n",
    ".types.add(VarType.NOMINAL, \"Survived\", \"Pclass\")\n",
    ".readUrl(urlTrain)\n",
    ".printSummary();"
   ]
  },
  {
   "cell_type": "markdown",
   "metadata": {},
   "source": [
    "Notice that we append the variable name after `Survived`. This is possible since the `withTypes` method specify a type, and follows a dynamic array of strings, for the names of variables.\n",
    "\n",
    "**Name**\n",
    "\n",
    "This is the passenger names and the values are unique. As it is, the predictive power of this field is null. We keep it as it is. Note that it contains valuable information, but not in this direct form.\n",
    "\n",
    "**Sex**\n",
    "\n",
    "This field specifies the gender of the passenger. We have $577$ males and $314$ females.\n",
    "\n",
    "**Age**\n",
    "\n",
    "This field specifies the age of an passenger. We would expect that to parse this variable as numeric or at leas index, but is nominal. Why that happened? Notice that the values looks like numbers. But the first value (the most frequent one, $117$ instances) has nothing specified. Well, the variable is nominal has to do with how *Csv* parsing handles missing values. By default, the *csv* parsing considers as missing values only the string \"?\". But the most frequent value in this field is empty string \"\". This means that empty string is not considered a missing value. Because empty string can't produce numbers from parsing, the variable is *promoted* to nominal.\n",
    "\n",
    "We can customize the missing value handling by specifying the valid strings for that purpose. We use `.useNAValues(String...naValues)` to tell the parser all the valid strings which are missing values. In our case we want just the empty string to be a missing value. When the parser will found an empty string it will set the variable value as missing value. It will *not promote* variable to nominal, since a missing value is a legal value."
   ]
  },
  {
   "cell_type": "code",
   "execution_count": 5,
   "metadata": {},
   "outputs": [
    {
     "name": "stdout",
     "output_type": "stream",
     "text": [
      "Frame Summary\n",
      "=============\n",
      "* rowCount: 891\n",
      "* complete: 183/891\n",
      "* varCount: 12\n",
      "* varNames: \n",
      "\n",
      " 0. PassengerId : dbl |  4.         Sex : nom |  8.      Ticket : nom | \n",
      " 1.    Survived : nom |  5.         Age : dbl |  9.        Fare : dbl | \n",
      " 2.      Pclass : nom |  6.       SibSp : dbl | 10.       Cabin : nom | \n",
      " 3.        Name : nom |  7.       Parch : dbl | 11.    Embarked : nom | \n",
      "\n",
      "* summary: \n",
      " PassengerId [dbl]        Survived [nom]  Pclass [nom]                                                    Name [nom]      Sex [nom]       Age [dbl]           SibSp [dbl]         Parch [dbl]         Ticket [nom] \n",
      "      Min. :   1.0000000       0 :   549     3 :   491 \"Jacobsohn, Mrs. Sidney Samuel (Amy Frances Christy)\" :     1   male :   577    Min. :   0.4200000    Min. : 0.0000000    Min. : 0.0000000 CA. 2343 :     7 \n",
      "   1st Qu. : 223.5000000       1 :   342     1 :   216                                 \"Toomey, Miss. Ellen\" :     1 female :   314 1st Qu. :  20.1250000 1st Qu. : 0.0000000 1st Qu. : 0.0000000   347082 :     7 \n",
      "    Median : 446.0000000                     2 :   184                           \"de Pelsmaeker, Mr. Alfons\" :     1                 Median :  28.0000000  Median : 0.0000000  Median : 0.0000000     1601 :     7 \n",
      "      Mean : 446.0000000                                                         \"Jensen, Mr. Svend Lauritz\" :     1                   Mean :  29.6991176    Mean : 0.5230079    Mean : 0.3815937   347088 :     6 \n",
      "   2nd Qu. : 668.5000000                                                               \"Morley, Mr. William\" :     1                2nd Qu. :  38.0000000 2nd Qu. : 1.0000000 2nd Qu. : 0.0000000  3101295 :     6 \n",
      "      Max. : 891.0000000                                                                             (Other) :   886                   Max. :  80.0000000    Max. : 8.0000000    Max. : 6.0000000  (Other) :   858 \n",
      "                                                                                                                                        NAs : 177.0000000                                                          \n",
      "\n",
      "     Fare [dbl]               Cabin [nom]  Embarked [nom] \n",
      "   Min. :   0.0000000 C23 C25 C27 :     4       S :   644 \n",
      "1st Qu. :   7.9104000     B96 B98 :     4       C :   168 \n",
      " Median :  14.4542000          G6 :     4       Q :    77 \n",
      "   Mean :  32.2042080          F2 :     3                 \n",
      "2nd Qu. :  31.0000000     (Other) :   189                 \n",
      "   Max. : 512.3292000         NAs :   687     NAs :     2 \n",
      "                                                          \n",
      "\n",
      "\n",
      "\n"
     ]
    }
   ],
   "source": [
    "Csv.instance()\n",
    ".naValues.add(\"\")\n",
    ".types.add(VarType.NOMINAL, \"Survived\", \"Pclass\")\n",
    ".readUrl(urlTrain)\n",
    ".printSummary();"
   ]
  },
  {
   "cell_type": "markdown",
   "metadata": {},
   "source": [
    "Notice what happened: *Age* field is now numeric and it contains $177$ missing values.\n",
    "\n",
    "**SibSp**\n",
    "\n",
    "It's meaning is \"siblings/spouses\". It's parsed as index, which is natural. In pathological cases with sick imagination we can consider a \"quarter of a wife\" for example.\n",
    "\n",
    "**Parch**\n",
    "\n",
    "It's meaning is \"parents/children\". It is naturally parsed as index.\n",
    "\n",
    "**Ticket**\n",
    "\n",
    "This is the code of the ticket. Probably a family can have the same ticket, thus must be the reason why the frequencies have values up to $$7$$. This field is nominal. It has low predictive power used directly. Perhaps contains valuable information, but used directly in row format would not help much.\n",
    "\n",
    "**Fare**\n",
    "\n",
    "This is the price for passenger fare and should be numeric, like it is.\n",
    "\n",
    "**Cabin**\n",
    "\n",
    "Code of the passenger's cabin, parsed as nominal. Same notes as for `Ticket` variable.\n",
    "\n",
    "**Embarked**\n",
    "\n",
    "Code for the embarking city, which could be: C = Cherbourg, Q = Queenstown, S = Southampton. It's parsed as nominal and has $2$ missing values.\n",
    "\n",
    "If we are content with our parsing, we load data into a data frame for later use:"
   ]
  },
  {
   "cell_type": "code",
   "execution_count": 6,
   "metadata": {},
   "outputs": [
    {
     "name": "stdout",
     "output_type": "stream",
     "text": [
      "Frame Summary\n",
      "=============\n",
      "* rowCount: 891\n",
      "* complete: 183/891\n",
      "* varCount: 12\n",
      "* varNames: \n",
      "\n",
      " 0. PassengerId : dbl |  4.         Sex : nom |  8.      Ticket : nom | \n",
      " 1.    Survived : nom |  5.         Age : dbl |  9.        Fare : dbl | \n",
      " 2.      Pclass : nom |  6.       SibSp : dbl | 10.       Cabin : nom | \n",
      " 3.        Name : nom |  7.       Parch : dbl | 11.    Embarked : nom | \n",
      "\n",
      "* summary: \n",
      " PassengerId [dbl]        Survived [nom]  Pclass [nom]                                                    Name [nom]      Sex [nom]       Age [dbl]           SibSp [dbl]         Parch [dbl]         Ticket [nom] \n",
      "      Min. :   1.0000000       0 :   549     3 :   491 \"Jacobsohn, Mrs. Sidney Samuel (Amy Frances Christy)\" :     1   male :   577    Min. :   0.4200000    Min. : 0.0000000    Min. : 0.0000000 CA. 2343 :     7 \n",
      "   1st Qu. : 223.5000000       1 :   342     1 :   216                                 \"Toomey, Miss. Ellen\" :     1 female :   314 1st Qu. :  20.1250000 1st Qu. : 0.0000000 1st Qu. : 0.0000000   347082 :     7 \n",
      "    Median : 446.0000000                     2 :   184                           \"de Pelsmaeker, Mr. Alfons\" :     1                 Median :  28.0000000  Median : 0.0000000  Median : 0.0000000     1601 :     7 \n",
      "      Mean : 446.0000000                                                         \"Jensen, Mr. Svend Lauritz\" :     1                   Mean :  29.6991176    Mean : 0.5230079    Mean : 0.3815937   347088 :     6 \n",
      "   2nd Qu. : 668.5000000                                                               \"Morley, Mr. William\" :     1                2nd Qu. :  38.0000000 2nd Qu. : 1.0000000 2nd Qu. : 0.0000000  3101295 :     6 \n",
      "      Max. : 891.0000000                                                                             (Other) :   886                   Max. :  80.0000000    Max. : 8.0000000    Max. : 6.0000000  (Other) :   858 \n",
      "                                                                                                                                        NAs : 177.0000000                                                          \n",
      "\n",
      "     Fare [dbl]               Cabin [nom]  Embarked [nom] \n",
      "   Min. :   0.0000000 C23 C25 C27 :     4       S :   644 \n",
      "1st Qu. :   7.9104000     B96 B98 :     4       C :   168 \n",
      " Median :  14.4542000          G6 :     4       Q :    77 \n",
      "   Mean :  32.2042080          F2 :     3                 \n",
      "2nd Qu. :  31.0000000     (Other) :   189                 \n",
      "   Max. : 512.3292000         NAs :   687     NAs :     2 \n",
      "                                                          \n",
      "\n",
      "\n",
      "\n"
     ]
    }
   ],
   "source": [
    "Frame train = Csv.instance().naValues.add(\"\").types.add(VarType.NOMINAL, \"Survived\", \"Pclass\").readUrl(urlTrain);\n",
    "train.printSummary();"
   ]
  },
  {
   "cell_type": "markdown",
   "metadata": {},
   "source": [
    "### 1.3 Read test data from *csv* file\n",
    "\n",
    "Once we have a training frame we can load also the test data. We do that to take a look at the frame and because data is small and there is no memory or time problem cost associated with it. To avoid adding again the *csv* options and to get identical levels nominal variables, we use a different way to parse the data set. We specify variable types by frame templates:"
   ]
  },
  {
   "cell_type": "code",
   "execution_count": 7,
   "metadata": {},
   "outputs": [],
   "source": [
    "Frame test = Csv.instance().naValues.add(\"\").template.set(train).readUrl(urlTest);"
   ]
  },
  {
   "cell_type": "markdown",
   "metadata": {},
   "source": [
    "Instead to specify again the preferred types for variables, we use train frame as a template for variable types. This has also the side effect that the encoding of categorical variables is identical."
   ]
  },
  {
   "cell_type": "code",
   "execution_count": 8,
   "metadata": {},
   "outputs": [
    {
     "name": "stdout",
     "output_type": "stream",
     "text": [
      "Frame Summary\n",
      "=============\n",
      "* rowCount: 418\n",
      "* complete: 87/418\n",
      "* varCount: 11\n",
      "* varNames: \n",
      "\n",
      " 0. PassengerId : dbl |  4.         Age : dbl |  8.        Fare : dbl | \n",
      " 1.      Pclass : nom |  5.       SibSp : dbl |  9.       Cabin : nom | \n",
      " 2.        Name : nom |  6.       Parch : dbl | 10.    Embarked : nom | \n",
      " 3.         Sex : nom |  7.      Ticket : nom | \n",
      "\n",
      "* summary: \n",
      " PassengerId [dbl]          Pclass [nom]                                   Name [nom]      Sex [nom]       Age [dbl]          SibSp [dbl]         Parch [dbl]         Ticket [nom]      Fare [dbl]                   Cabin \n",
      "      Min. :   892.0000000     3 :   218                \"Birnbaum, Mr. Jakob\" :     1   male :   266    Min. :  0.1700000    Min. : 0.0000000    Min. : 0.0000000 PC 17608 :     5    Min. :   0.0000000 B57 B59 B63 B66 : \n",
      "   1st Qu. :   996.2500000     1 :   107 \"Willer, Mr. Aaron (Abi Weller\"\")\"\"\" :     1 female :   152 1st Qu. : 21.0000000 1st Qu. : 0.0000000 1st Qu. : 0.0000000 CA. 2343 :     4 1st Qu. :   7.8958000            C116 : \n",
      "    Median : 1,100.5000000     2 :    93          \"Olsson, Mr. Oscar Wilhelm\" :     1                 Median : 27.0000000  Median : 0.0000000  Median : 0.0000000   113503 :     4  Median :  14.4542000            C101 : \n",
      "      Mean : 1,100.5000000                               \"Barry, Miss. Julia\" :     1                   Mean : 30.2725904    Mean : 0.4473684    Mean : 0.3923445    16966 :     3    Mean :  35.6271885              F4 : \n",
      "   2nd Qu. : 1,204.7500000                                 \"Thomas, Mr. John\" :     1                2nd Qu. : 39.0000000 2nd Qu. : 1.0000000 2nd Qu. : 0.0000000   347077 :     3 2nd Qu. :  31.5000000         (Other) : \n",
      "      Max. : 1,309.0000000                                            (Other) :   413                   Max. : 76.0000000    Max. : 8.0000000    Max. : 9.0000000  (Other) :   399    Max. : 512.3292000             NAs : \n",
      "                                                                                                         NAs : 86.0000000                                                              NAs :   1.0000000                   \n",
      "\n",
      "[nom]  Embarked [nom] \n",
      "    3       S :   270 \n",
      "    2       C :   102 \n",
      "    2       Q :    46 \n",
      "    2                 \n",
      "   82                 \n",
      "  327                 \n",
      "                      \n",
      "\n",
      "\n",
      "\n"
     ]
    }
   ],
   "source": [
    "test.printSummary();"
   ]
  },
  {
   "cell_type": "markdown",
   "metadata": {},
   "source": [
    "We can note that we don't have *Survived* variable anymore. This is correct since this is what we have to predict. Note also that the types for the remaining variables are the same with training data set."
   ]
  },
  {
   "cell_type": "markdown",
   "metadata": {},
   "source": [
    "## 2. Build simple models\n",
    "\n",
    "### 2.1 Build a majority model\n",
    "\n",
    "To make a first submission we will build a very simple model, which classifies with a single value all instances. This value is the majority label.\n",
    "\n",
    "Let's inspect at how target variable look like."
   ]
  },
  {
   "cell_type": "code",
   "execution_count": 9,
   "metadata": {},
   "outputs": [
    {
     "name": "stdout",
     "output_type": "stream",
     "text": [
      "  0   1 \n",
      "  -   - \n",
      "549 342 \n",
      "\n"
     ]
    }
   ],
   "source": [
    "DensityVector.fromLevelCounts(false, train.rvar(\"Survived\")).printSummary();"
   ]
  },
  {
   "cell_type": "markdown",
   "metadata": {},
   "source": [
    "As we already new from the summary, the number of passengers who didn't survived is lower than those who did. Let's see percentages:"
   ]
  },
  {
   "cell_type": "code",
   "execution_count": 10,
   "metadata": {},
   "outputs": [
    {
     "name": "stdout",
     "output_type": "stream",
     "text": [
      "        0         1 \n",
      "        -         - \n",
      "0.6161616 0.3838384 \n",
      "\n"
     ]
    }
   ],
   "source": [
    "DensityVector.fromLevelCounts(false, train.rvar(\"Survived\")).normalize().printSummary();"
   ]
  },
  {
   "cell_type": "markdown",
   "metadata": {},
   "source": [
    "A similar result can be obtined using group functionality."
   ]
  },
  {
   "cell_type": "code",
   "execution_count": 11,
   "metadata": {},
   "outputs": [
    {
     "name": "stdout",
     "output_type": "stream",
     "text": [
      "group by: Survived\n",
      "group count: 2\n",
      "group by functions: GroupByFunction{name=count,varNames=[Survived]}\n",
      "\n",
      "    Survived Survived_count_N1  \n",
      "[0]        0 0.6161616161616161 \n",
      "[1]        1 0.3838383838383838 \n",
      "\n",
      "\n"
     ]
    }
   ],
   "source": [
    "Group.from(train, \"Survived\").aggregate(Group.count(1, \"Survived\")).printContent();"
   ]
  },
  {
   "cell_type": "markdown",
   "metadata": {},
   "source": [
    "We note that there are about $61\\%$ of passengers who did not survived. We will create a submit data set, which we will save for later submission. How we can do that?"
   ]
  },
  {
   "cell_type": "code",
   "execution_count": 12,
   "metadata": {},
   "outputs": [],
   "source": [
    "VarNominal prediction = VarNominal.from(test.rowCount(), row -> \"0\").name(\"Survived\");\n",
    "Frame submit = SolidFrame.byVars(test.rvar(\"PassengerId\"), prediction);\n",
    "\n",
    "Csv.instance().quotes.set(false).write(submit, \"majority_submit.csv\");"
   ]
  },
  {
   "cell_type": "markdown",
   "metadata": {},
   "source": [
    "In the first line we created a new nominal variable. The size of the new variable is the number of rows from the test frame. For each row we produce the same label `\"0\"`. We name this variable `Survived`.\n",
    "\n",
    "In the second line we created a new frame taking the variable named `PassengerId` from the test data set and the new prediction variable.\n",
    "\n",
    "In the last line we wrote a new csv file with the csv parsing utility, taking care to not write quotes. We can submit this file and see which are the results.\n",
    "\n",
    "![Submission result with majority classifierModel](images/titanic-majority-submit.png)"
   ]
  },
  {
   "cell_type": "markdown",
   "metadata": {},
   "source": [
    "### 2.2 Build a simple gender model\n",
    "\n",
    "It has been said that \"women and children first\" really happened during Titanic tragedy. If this was true or not, we do not know. But we can use data to see if we are hearing the same story. For now we will take the gender and see if it had an influence. We will build a contingency table for variables `Sex` and `Survived`."
   ]
  },
  {
   "cell_type": "code",
   "execution_count": 13,
   "metadata": {},
   "outputs": [
    {
     "name": "stdout",
     "output_type": "stream",
     "text": [
      "         0   1 total \n",
      "  male 468 109  577  \n",
      "female  81 233  314  \n",
      " total 549 342  891  \n",
      "\n"
     ]
    }
   ],
   "source": [
    "DensityTable.fromLevelCounts(false, train.rvar(\"Sex\"), train.rvar(\"Survived\")).printSummary();"
   ]
  },
  {
   "cell_type": "markdown",
   "metadata": {},
   "source": [
    "On rows we have levels of `Sex` variable. On columns we have levels of `Sex` variable. Cells are computed as counts. What we see is that there are a lot of men who did not survived and a lot of women who does. We will normalize on rows to take a closer look."
   ]
  },
  {
   "cell_type": "code",
   "execution_count": 14,
   "metadata": {},
   "outputs": [
    {
     "name": "stdout",
     "output_type": "stream",
     "text": [
      "               0         1 total \n",
      "  male 0.8110919 0.1889081   1   \n",
      "female 0.2579618 0.7420382   1   \n",
      " total 1.0690536 0.9309464   2   \n",
      "\n"
     ]
    }
   ],
   "source": [
    "DensityTable.fromLevelCounts(false, train.rvar(\"Sex\"), train.rvar(\"Survived\")).normalizeOnRows().printSummary();"
   ]
  },
  {
   "cell_type": "markdown",
   "metadata": {},
   "source": [
    "It seems that men survived with a rate of $0.19$ and women with $0.74$. The values are so obvious, we need no hypothesis testing to check that this variable is significant for classification. We will build a simple model where we predict as survived all the women and not survived all the men."
   ]
  },
  {
   "cell_type": "code",
   "execution_count": 15,
   "metadata": {},
   "outputs": [],
   "source": [
    "Var prediction = VarNominal.from(test.rowCount(), row -> test.getLabel(row, \"Sex\").equals(\"male\") ? \"0\" : \"1\").name(\"Survived\");\n",
    "Frame submit = SolidFrame.byVars(test.rvar(\"PassengerId\"), prediction);\n",
    "Csv.instance().write(submit, \"gender_submit.csv\");"
   ]
  },
  {
   "cell_type": "markdown",
   "metadata": {},
   "source": [
    "__![Submission result with gender classifierModel](images/titanic-gender-submit.png)__"
   ]
  },
  {
   "cell_type": "markdown",
   "metadata": {},
   "source": [
    "## 3. Tree model\n",
    "\n",
    "Building models in the manual way is often not the way to go. This process is tedious and time consuming. There are already built automated procedures, which incorporate miscellaneous approaches to learn a classifierModel. One of the often used models is the decision tree. Decision trees are greedy local approximations build in a recursive greedy fashion. Often the split decision at node level uses a single feature. At leave nodes a simple majority classifierModel creates the classification rule.\n",
    "\n",
    "### 3.1 Gender model with decision tree\n",
    "Initially we will build a CART decision tree using as input feature the *Sex* variable. We do this to exemplify how a manual rule can be created in an automated fashion."
   ]
  },
  {
   "cell_type": "code",
   "execution_count": 16,
   "metadata": {},
   "outputs": [
    {
     "name": "stdout",
     "output_type": "stream",
     "text": [
      "CTree model\n",
      "================\n",
      "\n",
      "Description:\n",
      "CTree{purity=GiniGain,splitter=Random,varSelector=VarSelector[ALL]}\n",
      "\n",
      "Capabilities:\n",
      "types inputs/targets: NOMINAL,INT,DOUBLE,BINARY/NOMINAL\n",
      "counts inputs/targets: [1,1000000] / [1,1]\n",
      "missing inputs/targets: true/false\n",
      "\n",
      "Learned model:\n",
      "\n",
      "total number of nodes: 3\n",
      "total number of leaves: 2\n",
      "description:\n",
      "split, n/err, classes (densities) [* if is leaf / purity if not]\n",
      "\n",
      "|- 0. root    891/342 0 (0.616 0.384 ) [0.139648]\n",
      "|   |- 1. Sex in ['male']    577/109 0 (0.811 0.189 ) *\n",
      "|   |- 2. Sex not in ['male']    314/81 1 (0.258 0.742 ) *\n",
      "\n"
     ]
    }
   ],
   "source": [
    "Frame tr = train.mapVars(\"Survived,Sex\");\n",
    "CTree tree = CTree.newCART();\n",
    "tree.fit(tr, \"Survived\");\n",
    "tree.printSummary();"
   ]
  },
  {
   "cell_type": "markdown",
   "metadata": {},
   "source": [
    "Taking a closer look at the last three rows from the output, one can identify our manual rule. Basically the interpretation is: *\"all the females survived, all the males did not\"*. For exemplification purposes we build also the submit file."
   ]
  },
  {
   "cell_type": "code",
   "execution_count": 17,
   "metadata": {},
   "outputs": [
    {
     "name": "stdout",
     "output_type": "stream",
     "text": [
      "Model:\n",
      "CTree{purity=GiniGain,splitter=Random,varSelector=VarSelector[ALL]}\n",
      "CV score in training data\n",
      "=========================\n",
      "    dataset  metric    mean       std    \n",
      "[0]    test Accuracy 0.786779  0.0607522 \n",
      "[1]   train Accuracy 0.7867567 0.0067429 \n",
      "\n",
      "\n"
     ]
    }
   ],
   "source": [
    "// do a cross validation\n",
    "ClassifierEvaluation.cv(tr, \"Survived\", tree, 10, Accuracy.newMetric(true)).run().printContent();"
   ]
  },
  {
   "cell_type": "code",
   "execution_count": 18,
   "metadata": {},
   "outputs": [],
   "source": [
    "// fit the tree to test data frame\n",
    "ClassifierResult pred = tree.predict(test);\n",
    "// build teh submission\n",
    "Frame submit = SolidFrame.byVars(test.rvar(\"PassengerId\"),pred.firstClasses().name(\"Survived\"));\n",
    "// write to a submit file\n",
    "Csv.instance().write(submit, \"tree1-model.csv\");"
   ]
  },
  {
   "cell_type": "markdown",
   "metadata": {},
   "source": [
    "### 3.2 Enrich tree by using other features\n",
    "\n",
    "Our training data set has more than a single input feature. Thus We can state we didn't use all the information available. We will add now the class and embarking port and see how it behaves."
   ]
  },
  {
   "cell_type": "code",
   "execution_count": 19,
   "metadata": {},
   "outputs": [
    {
     "name": "stdout",
     "output_type": "stream",
     "text": [
      "CTree model\n",
      "================\n",
      "\n",
      "Description:\n",
      "CTree{purity=GiniGain,splitter=Random,varSelector=VarSelector[ALL]}\n",
      "\n",
      "Capabilities:\n",
      "types inputs/targets: NOMINAL,INT,DOUBLE,BINARY/NOMINAL\n",
      "counts inputs/targets: [1,1000000] / [1,1]\n",
      "missing inputs/targets: true/false\n",
      "\n",
      "Learned model:\n",
      "\n",
      "total number of nodes: 31\n",
      "total number of leaves: 16\n",
      "description:\n",
      "split, n/err, classes (densities) [* if is leaf / purity if not]\n",
      "\n",
      "|- 0. root    891/342 0 (0.616 0.384 ) [0.139648]\n",
      "|   |- 1. Sex in ['male']    577/109 0 (0.811 0.189 ) [0.0173642]\n",
      "|   |   |- 3. Pclass in ['2','3']    455/64 0 (0.859 0.141 ) [0.0008311]\n",
      "|   |   |   |- 7. Embarked in ['S','C']    415/61 0 (0.853 0.147 ) [0.0018473]\n",
      "|   |   |   |   |- 15. Embarked in ['S']    362/49 0 (0.865 0.135 ) [0.0002721]\n",
      "|   |   |   |   |   |- 25. Pclass in ['3']    265/34 0 (0.872 0.128 ) *\n",
      "|   |   |   |   |   |- 26. Pclass not in ['3']    97/15 0 (0.845 0.155 ) *\n",
      "|   |   |   |   |- 16. Embarked not in ['S']    53/12 0 (0.774 0.226 ) [0.0003245]\n",
      "|   |   |   |   |   |- 27. Pclass in ['3']    43/10 0 (0.767 0.233 ) *\n",
      "|   |   |   |   |   |- 28. Pclass not in ['3']    10/2 0 (0.8 0.2 ) *\n",
      "|   |   |   |- 8. Embarked not in ['S','C']    40/3 0 (0.925 0.075 ) *\n",
      "|   |   |- 4. Pclass not in ['2','3']    122/45 0 (0.631 0.369 ) [0.0022488]\n",
      "|   |   |   |- 9. Embarked in ['S','C']    121/45 0 (0.628 0.372 ) [0.0011482]\n",
      "|   |   |   |   |- 17. Embarked in ['S']    79/28 0 (0.646 0.354 ) *\n",
      "|   |   |   |   |- 18. Embarked not in ['S']    42/17 0 (0.595 0.405 ) *\n",
      "|   |   |   |- 10. Embarked not in ['S','C']    1/0 0 (1 0 ) *\n",
      "|   |- 2. Sex not in ['male']    314/81 1 (0.258 0.742 ) [0.0992456]\n",
      "|   |   |- 5. Pclass in ['3']    144/72 0 (0.5 0.5 ) [0.0491071]\n",
      "|   |   |   |- 11. Embarked in ['S']    88/33 0 (0.625 0.375 ) *\n",
      "|   |   |   |- 12. Embarked not in ['S']    56/17 1 (0.304 0.696 ) [0.00273]\n",
      "|   |   |   |   |- 19. Embarked in ['Q']    33/9 1 (0.273 0.727 ) *\n",
      "|   |   |   |   |- 20. Embarked not in ['Q']    23/8 1 (0.348 0.652 ) *\n",
      "|   |   |- 6. Pclass not in ['3']    170/9 1 (0.053 0.947 ) [0.0011101]\n",
      "|   |   |   |- 13. Embarked in ['S']    115/8 1 (0.07 0.93 ) [0.0011152]\n",
      "|   |   |   |   |- 21. Pclass in ['2']    67/6 1 (0.09 0.91 ) *\n",
      "|   |   |   |   |- 22. Pclass not in ['2']    48/2 1 (0.042 0.958 ) *\n",
      "|   |   |   |- 14. Embarked not in ['S']    55/1 1 (0.018 0.982 ) [0.0001294]\n",
      "|   |   |   |   |- 23. Pclass in ['1']    46/1 1 (0.022 0.978 ) [0.000024]\n",
      "|   |   |   |   |   |- 29. Embarked in ['C']    43/1 1 (0.023 0.977 ) *\n",
      "|   |   |   |   |   |- 30. Embarked not in ['C']    3/0 1 (0 1 ) *\n",
      "|   |   |   |   |- 24. Pclass not in ['1']    9/0 1 (0 1 ) *\n",
      "\n",
      "Model:\n",
      "CTree{purity=GiniGain,splitter=Random,varSelector=VarSelector[ALL]}\n",
      "CV score in training data\n",
      "=========================\n",
      "    dataset  metric    mean       std    \n",
      "[0]    test Accuracy 0.8114981 0.0388664 \n",
      "[1]   train Accuracy 0.8114484 0.0043211 \n",
      "\n",
      "\n"
     ]
    }
   ],
   "source": [
    "Frame tr = train.mapVars(\"Survived,Sex,Pclass,Embarked\");\n",
    "\n",
    "CTree tree = CTree.newCART();\n",
    "tree.fit(tr, \"Survived\");\n",
    "tree.printSummary();\n",
    "\n",
    "ClassifierEvaluation.cv(tr, \"Survived\", tree, 10, Accuracy.newMetric(true)).run().printContent();\n",
    "\n",
    "ClassifierResult pred = tree.predict(test);\n",
    "Frame submit = SolidFrame.byVars(test.rvar(\"PassengerId\"),pred.firstClasses().name(\"Survived\"));\n",
    "Csv.instance().quotes.set(false).write(submit, \"tree2-model.csv\");"
   ]
  },
  {
   "cell_type": "markdown",
   "metadata": {},
   "source": [
    "The tree is much richer and there are more chances to be better. This is what happened after submission.\n",
    "\n",
    "__![Results after submission of enriched tree](images/titanic-tree2-submit.png)__\n",
    "\n",
    "**Nice!**. We advanced $704$ positions and improved our score with $0.01435$. On public leader board we have a nice $0.77990$ accuracy score."
   ]
  },
  {
   "cell_type": "markdown",
   "metadata": {},
   "source": [
    "### 3.3 Overfitting with trees\n",
    "\n",
    "What about using other input features to improve our prediction accuracy? There are some of them which we can include directly, with no changes: *Age*,*Fare*,*SibSp* and *Parch*.\n",
    "\n",
    "We can change the script slightly, to include those new input features. But we can do better, we can use cross-validation to estimate what will happen."
   ]
  },
  {
   "cell_type": "code",
   "execution_count": 20,
   "metadata": {},
   "outputs": [
    {
     "name": "stdout",
     "output_type": "stream",
     "text": [
      "Model:\n",
      "CTree{purity=GiniGain,splitter=Random,varSelector=VarSelector[ALL]}\n",
      "CV score in training data\n",
      "=========================\n",
      "    dataset  metric    mean       std    \n",
      "[0]    test Accuracy 0.8114482 0.0381134 \n",
      "[1]   train Accuracy 0.8114478 0.0042295 \n",
      "\n",
      "\n",
      "Model:\n",
      "CTree{purity=GiniGain,splitter=Random,varSelector=VarSelector[ALL]}\n",
      "CV score in training data\n",
      "=========================\n",
      "    dataset  metric    mean       std    \n",
      "[0]    test Accuracy 0.7878277 0.0430671 \n",
      "[1]   train Accuracy 0.9321602 0.007745  \n",
      "\n",
      "\n"
     ]
    }
   ],
   "source": [
    "CTree tree = CTree.newCART();\n",
    "ClassifierEvaluation.cv(train.mapVars(\"Survived,Sex,Pclass,Embarked\"),\"Survived\", tree, 10, Accuracy.newMetric(true)).run().printContent();\n",
    "ClassifierEvaluation.cv(train.mapVars(\"Survived,Sex,Pclass,Embarked,Age,Fare,SibSp,Parch\"),\"Survived\", tree, 10, Accuracy.newMetric(true)).run().printContent();;"
   ]
  },
  {
   "cell_type": "markdown",
   "metadata": {},
   "source": [
    "Notice that the 10-crossfold estimator of the accuracy has dropped with a large quantity. What happens? We can have an idea if we take a look at the learned tree:"
   ]
  },
  {
   "cell_type": "code",
   "execution_count": 21,
   "metadata": {},
   "outputs": [
    {
     "name": "stdout",
     "output_type": "stream",
     "text": [
      "CTree model\n",
      "================\n",
      "\n",
      "Description:\n",
      "CTree{purity=GiniGain,splitter=Random,varSelector=VarSelector[ALL]}\n",
      "\n",
      "Capabilities:\n",
      "types inputs/targets: NOMINAL,INT,DOUBLE,BINARY/NOMINAL\n",
      "counts inputs/targets: [1,1000000] / [1,1]\n",
      "missing inputs/targets: true/false\n",
      "\n",
      "Learned model:\n",
      "\n",
      "total number of nodes: 383\n",
      "total number of leaves: 192\n",
      "description:\n",
      "split, n/err, classes (densities) [* if is leaf / purity if not]\n",
      "\n",
      "|- 0. root    891/342 0 (0.616 0.384 ) [0.139648]\n",
      "|   |- 1. Sex in ['male']    577/109 0 (0.811 0.189 ) [0.0238166]\n",
      "|   |   |- 3. Age<=6.5    87/25 0 (0.713 0.287 ) [0.0893117]\n",
      "|   |   |   |- 7. Parch<=0.5    58/8 0 (0.862 0.138 ) [0.0402845]\n",
      "|   |   |   |   |- 15. Fare<=28.8604    53/5 0 (0.906 0.094 ) [0.0129067]\n",
      "|   |   |   |   |   |- 31. SibSp<=1.5    51/4 0 (0.922 0.078 ) [0.0050103]\n",
      "|   |   |   |   |   |   |- 55. Pclass in ['1','3']    47/3 0 (0.936 0.064 ) [0.0024898]\n",
      "|   |   |   |   |   |   |   |- 89. Fare<=8.2854    36/3 0 (0.917 0.083 ) [0.0480159]\n",
      "|   |   |   |   |   |   |   |   |- 125. Fare<=8.08125    35/2 0 (0.943 0.057 ) [0.0043537]\n",
      "|   |   |   |   |   |   |   |   |   |- 163. Fare<=7.8021    21/2 0 (0.905 0.095 ) [0.0818594]\n",
      "|   |   |   |   |   |   |   |   |   |   |- 199. Fare<=7.7625    20/1 0 (0.95 0.05 ) [0.005]\n",
      "|   |   |   |   |   |   |   |   |   |   |   |- 239. Fare<=7.2396    10/1 0 (0.9 0.1 ) [0.08]\n",
      "|   |   |   |   |   |   |   |   |   |   |   |   |- 285. Fare<=7.2271    8/0 0 (1 0 ) *\n",
      "|   |   |   |   |   |   |   |   |   |   |   |   |- 286. Fare>7.2271    2/1 1 (0.5 0.5 ) *\n",
      "|   |   |   |   |   |   |   |   |   |   |   |- 240. Fare>7.2396    10/0 0 (1 0 ) *\n",
      "|   |   |   |   |   |   |   |   |   |   |- 200. Fare>7.7625    1/0 1 (0 1 ) *\n",
      "|   |   |   |   |   |   |   |   |   |- 164. Fare>7.8021    14/0 0 (1 0 ) *\n",
      "|   |   |   |   |   |   |   |   |- 126. Fare>8.08125    1/0 1 (0 1 ) *\n",
      "|   |   |   |   |   |   |   |- 90. Fare>8.2854    11/0 0 (1 0 ) *\n",
      "|   |   |   |   |   |   |- 56. Pclass not in ['1','3']    4/1 0 (0.75 0.25 ) [0.375]\n",
      "|   |   |   |   |   |   |   |- 91. Fare<=6.5    3/0 0 (1 0 ) *\n",
      "|   |   |   |   |   |   |   |- 92. Fare>6.5    1/0 1 (0 1 ) *\n",
      "|   |   |   |   |   |- 32. SibSp>1.5    2/1 1 (0.5 0.5 ) *\n",
      "|   |   |   |   |- 16. Fare>28.8604    5/2 1 (0.4 0.6 ) [0.08]\n",
      "|   |   |   |   |   |- 33. Pclass in ['1']    4/2 1 (0.5 0.5 ) [0.1666667]\n",
      "|   |   |   |   |   |   |- 57. Fare<=37.55    3/1 1 (0.333 0.667 ) [0.1111111]\n",
      "|   |   |   |   |   |   |   |- 93. Fare<=33.0979    2/1 1 (0.5 0.5 ) *\n",
      "|   |   |   |   |   |   |   |- 94. Fare>33.0979    1/0 1 (0 1 ) *\n",
      "|   |   |   |   |   |   |- 58. Fare>37.55    1/0 0 (1 0 ) *\n",
      "|   |   |   |   |   |- 34. Pclass not in ['1']    1/0 1 (0 1 ) *\n",
      "|   |   |   |- 8. Parch>0.5    29/12 1 (0.414 0.586 ) [0.4214763]\n",
      "|   |   |   |   |- 17. SibSp<=2.5    16/0 1 (0 1 ) *\n",
      "|   |   |   |   |- 18. SibSp>2.5    13/1 0 (0.923 0.077 ) [0.0308642]\n",
      "|   |   |   |   |   |- 35. Age<=2.5    7/0 0 (1 0 ) *\n",
      "|   |   |   |   |   |- 36. Age>2.5    6/1 0 (0.833 0.167 ) [0.0555556]\n",
      "|   |   |   |   |   |   |- 59. Fare<=31.33125    3/0 0 (1 0 ) *\n",
      "|   |   |   |   |   |   |- 60. Fare>31.33125    3/1 0 (0.667 0.333 ) *\n",
      "|   |   |- 4. Age>6.5    490/84 0 (0.829 0.171 ) [0.0219617]\n",
      "|   |   |   |- 9. Pclass in ['2','3']    377/43 0 (0.886 0.114 ) [0.0034936]\n",
      "|   |   |   |   |- 19. Age<=13    39/7 0 (0.821 0.179 ) [0.0808081]\n",
      "|   |   |   |   |   |- 37. Age<=11.5    25/6 0 (0.76 0.24 ) [0.0557851]\n",
      "|   |   |   |   |   |   |- 61. Age<=9.5    17/5 0 (0.706 0.294 ) [0.0943693]\n",
      "|   |   |   |   |   |   |   |- 95. SibSp<=2.5    11/5 0 (0.545 0.455 ) [0.2231405]\n",
      "|   |   |   |   |   |   |   |   |- 127. Parch<=0.5    8/2 0 (0.75 0.25 ) [0.1607143]\n",
      "|   |   |   |   |   |   |   |   |   |- 165. Fare<=40.3229    7/1 0 (0.857 0.143 ) [0.0306122]\n",
      "|   |   |   |   |   |   |   |   |   |   |- 201. Fare<=10.95625    3/0 0 (1 0 ) *\n",
      "|   |   |   |   |   |   |   |   |   |   |- 202. Fare>10.95625    4/1 0 (0.75 0.25 ) [0.125]\n",
      "|   |   |   |   |   |   |   |   |   |   |   |- 241. Fare<=19.6    2/1 1 (0.5 0.5 ) *\n",
      "|   |   |   |   |   |   |   |   |   |   |   |- 242. Fare>19.6    2/0 0 (1 0 ) *\n",
      "|   |   |   |   |   |   |   |   |   |- 166. Fare>40.3229    1/0 1 (0 1 ) *\n",
      "|   |   |   |   |   |   |   |   |- 128. Parch>0.5    3/0 1 (0 1 ) *\n",
      "|   |   |   |   |   |   |   |- 96. SibSp>2.5    6/0 0 (1 0 ) *\n",
      "|   |   |   |   |   |   |- 62. Age>9.5    8/1 0 (0.875 0.125 ) [0.0520833]\n",
      "|   |   |   |   |   |   |   |- 97. Fare<=7.7625    3/1 0 (0.667 0.333 ) [0.4444444]\n",
      "|   |   |   |   |   |   |   |   |- 129. Fare<=3.875    2/0 0 (1 0 ) *\n",
      "|   |   |   |   |   |   |   |   |- 130. Fare>3.875    1/0 1 (0 1 ) *\n",
      "|   |   |   |   |   |   |   |- 98. Fare>7.7625    5/0 0 (1 0 ) *\n",
      "|   |   |   |   |   |- 38. Age>11.5    14/1 0 (0.929 0.071 ) [0.0612245]\n",
      "|   |   |   |   |   |   |- 63. SibSp<=0.5    12/0 0 (1 0 ) *\n",
      "|   |   |   |   |   |   |- 64. SibSp>0.5    2/1 0 (0.5 0.5 ) *\n",
      "|   |   |   |   |- 20. Age>13    338/36 0 (0.893 0.107 ) [0.0027611]\n",
      "|   |   |   |   |   |- 39. Age<=32.25    224/29 0 (0.871 0.129 ) [0.0131093]\n",
      "|   |   |   |   |   |   |- 65. Age<=30.75    200/21 0 (0.895 0.105 ) [0.0042891]\n",
      "|   |   |   |   |   |   |   |- 99. Embarked in ['S']    173/15 0 (0.913 0.087 ) [0.0080858]\n",
      "|   |   |   |   |   |   |   |   |- 131. Fare<=7.0104    4/2 0 (0.5 0.5 ) [0.5]\n",
      "|   |   |   |   |   |   |   |   |   |- 167. Age<=22    2/0 0 (1 0 ) *\n",
      "|   |   |   |   |   |   |   |   |   |- 168. Age>22    2/0 1 (0 1 ) *\n",
      "|   |   |   |   |   |   |   |   |- 132. Fare>7.0104    169/13 0 (0.923 0.077 ) [0.0027229]\n",
      "|   |   |   |   |   |   |   |   |   |- 169. Fare<=11    119/12 0 (0.899 0.101 ) [0.0026161]\n",
      "|   |   |   |   |   |   |   |   |   |   |- 203. Fare<=7.9104    61/4 0 (0.934 0.066 ) [0.0063885]\n",
      "|   |   |   |   |   |   |   |   |   |   |   |- 243. Fare<=7.7979    35/4 0 (0.886 0.114 ) [0.0198546]\n",
      "|   |   |   |   |   |   |   |   |   |   |   |   |- 287. Fare<=7.7854    29/2 0 (0.931 0.069 ) [0.0117077]\n",
      "|   |   |   |   |   |   |   |   |   |   |   |   |   |- 317. Age<=23    16/0 0 (1 0 ) *\n",
      "|   |   |   |   |   |   |   |   |   |   |   |   |   |- 318. Age>23    13/2 0 (0.846 0.154 ) [0.0210388]\n",
      "|   |   |   |   |   |   |   |   |   |   |   |   |   |   |- 341. Age<=25.5    9/2 0 (0.778 0.222 ) [0.0493827]\n",
      "|   |   |   |   |   |   |   |   |   |   |   |   |   |   |   |- 353. Fare<=7.09585    3/0 0 (1 0 ) *\n",
      "|   |   |   |   |   |   |   |   |   |   |   |   |   |   |   |- 354. Fare>7.09585    6/2 0 (0.667 0.333 ) [0.0277778]\n",
      "|   |   |   |   |   |   |   |   |   |   |   |   |   |   |   |   |- 363. Fare<=7.7125    4/1 0 (0.75 0.25 ) [0.125]\n",
      "|   |   |   |   |   |   |   |   |   |   |   |   |   |   |   |   |   |- 371. Age<=24.5    2/1 0 (0.5 0.5 ) *\n",
      "|   |   |   |   |   |   |   |   |   |   |   |   |   |   |   |   |   |- 372. Age>24.5    2/0 0 (1 0 ) *\n",
      "|   |   |   |   |   |   |   |   |   |   |   |   |   |   |   |   |- 364. Fare>7.7125    2/1 0 (0.5 0.5 ) *\n",
      "|   |   |   |   |   |   |   |   |   |   |   |   |   |   |- 342. Age>25.5    4/0 0 (1 0 ) *\n",
      "|   |   |   |   |   |   |   |   |   |   |   |   |- 288. Fare>7.7854    6/2 0 (0.667 0.333 ) [0.0444444]\n",
      "|   |   |   |   |   |   |   |   |   |   |   |   |   |- 319. Age<=27.5    5/2 0 (0.6 0.4 ) [0.18]\n",
      "|   |   |   |   |   |   |   |   |   |   |   |   |   |   |- 343. Age<=25.5    4/1 0 (0.75 0.25 ) [0.125]\n",
      "|   |   |   |   |   |   |   |   |   |   |   |   |   |   |   |- 355. Age<=21.5    2/1 1 (0.5 0.5 ) *\n",
      "|   |   |   |   |   |   |   |   |   |   |   |   |   |   |   |- 356. Age>21.5    2/0 0 (1 0 ) *\n",
      "|   |   |   |   |   |   |   |   |   |   |   |   |   |   |- 344. Age>25.5    1/0 1 (0 1 ) *\n",
      "|   |   |   |   |   |   |   |   |   |   |   |   |   |- 320. Age>27.5    1/0 0 (1 0 ) *\n",
      "|   |   |   |   |   |   |   |   |   |   |   |- 244. Fare>7.7979    26/0 0 (1 0 ) *\n",
      "|   |   |   |   |   |   |   |   |   |   |- 204. Fare>7.9104    58/8 0 (0.862 0.138 ) [0.0091837]\n",
      "|   |   |   |   |   |   |   |   |   |   |   |- 245. Age<=19.5    17/4 0 (0.765 0.235 ) [0.0764391]\n",
      "|   |   |   |   |   |   |   |   |   |   |   |   |- 289. Fare<=8.10415    6/3 0 (0.5 0.5 ) [0.0133333]\n",
      "|   |   |   |   |   |   |   |   |   |   |   |   |   |- 321. Age<=17    3/1 0 (0.667 0.333 ) *\n",
      "|   |   |   |   |   |   |   |   |   |   |   |   |   |- 322. Age>17    3/1 1 (0.333 0.667 ) *\n",
      "|   |   |   |   |   |   |   |   |   |   |   |   |- 290. Fare>8.10415    11/1 0 (0.909 0.091 ) [0.0440771]\n",
      "|   |   |   |   |   |   |   |   |   |   |   |   |   |- 323. Fare<=10.3354    8/0 0 (1 0 ) *\n",
      "|   |   |   |   |   |   |   |   |   |   |   |   |   |- 324. Fare>10.3354    3/1 0 (0.667 0.333 ) *\n",
      "|   |   |   |   |   |   |   |   |   |   |   |- 246. Age>19.5    41/4 0 (0.902 0.098 ) [0.0140659]\n",
      "|   |   |   |   |   |   |   |   |   |   |   |   |- 291. Age<=26.5    27/1 0 (0.963 0.037 ) [0.0342936]\n",
      "|   |   |   |   |   |   |   |   |   |   |   |   |   |- 325. SibSp<=0.5    25/0 0 (1 0 ) *\n",
      "|   |   |   |   |   |   |   |   |   |   |   |   |   |- 326. SibSp>0.5    2/1 0 (0.5 0.5 ) *\n",
      "|   |   |   |   |   |   |   |   |   |   |   |   |- 292. Age>26.5    14/3 0 (0.786 0.214 ) [0.0510204]\n",
      "|   |   |   |   |   |   |   |   |   |   |   |   |   |- 327. Fare<=8.35625    5/0 0 (1 0 ) *\n",
      "|   |   |   |   |   |   |   |   |   |   |   |   |   |- 328. Fare>8.35625    9/3 0 (0.667 0.333 ) [0.1111111]\n",
      "|   |   |   |   |   |   |   |   |   |   |   |   |   |   |- 345. Fare<=10    6/3 0 (0.5 0.5 ) [0.1]\n",
      "|   |   |   |   |   |   |   |   |   |   |   |   |   |   |   |- 357. Age<=29.5    5/2 0 (0.6 0.4 ) [0.0133333]\n",
      "|   |   |   |   |   |   |   |   |   |   |   |   |   |   |   |   |- 365. Age<=28.5    3/1 0 (0.667 0.333 ) *\n",
      "|   |   |   |   |   |   |   |   |   |   |   |   |   |   |   |   |- 366. Age>28.5    2/1 1 (0.5 0.5 ) *\n",
      "|   |   |   |   |   |   |   |   |   |   |   |   |   |   |   |- 358. Age>29.5    1/0 1 (0 1 ) *\n",
      "|   |   |   |   |   |   |   |   |   |   |   |   |   |   |- 346. Fare>10    3/0 0 (1 0 ) *\n",
      "|   |   |   |   |   |   |   |   |   |- 170. Fare>11    50/1 0 (0.98 0.02 ) [0.0058667]\n",
      "|   |   |   |   |   |   |   |   |   |   |- 205. Fare<=51.6979    44/0 0 (1 0 ) *\n",
      "|   |   |   |   |   |   |   |   |   |   |- 206. Fare>51.6979    6/1 0 (0.833 0.167 ) [0.1111111]\n",
      "|   |   |   |   |   |   |   |   |   |   |   |- 247. Age<=25    4/0 0 (1 0 ) *\n",
      "|   |   |   |   |   |   |   |   |   |   |   |- 248. Age>25    2/1 0 (0.5 0.5 ) *\n",
      "|   |   |   |   |   |   |   |- 100. Embarked not in ['S']    27/6 0 (0.778 0.222 ) [0.0197531]\n",
      "|   |   |   |   |   |   |   |   |- 133. Fare<=7.74585    15/2 0 (0.867 0.133 ) [0.0306122]\n",
      "|   |   |   |   |   |   |   |   |   |- 171. Age<=22.75    9/2 0 (0.778 0.222 ) [0.075]\n",
      "|   |   |   |   |   |   |   |   |   |   |- 207. Age<=19.5    3/0 0 (1 0 ) *\n",
      "|   |   |   |   |   |   |   |   |   |   |- 208. Age>19.5    6/2 0 (0.667 0.333 ) [0.1111111]\n",
      "|   |   |   |   |   |   |   |   |   |   |   |- 249. Fare<=7.4792    4/2 1 (0.5 0.5 ) [0]\n",
      "|   |   |   |   |   |   |   |   |   |   |   |   |- 293. Age<=21    2/1 1 (0.5 0.5 ) *\n",
      "|   |   |   |   |   |   |   |   |   |   |   |   |- 294. Age>21    2/1 0 (0.5 0.5 ) *\n",
      "|   |   |   |   |   |   |   |   |   |   |   |- 250. Fare>7.4792    2/0 0 (1 0 ) *\n",
      "|   |   |   |   |   |   |   |   |   |- 172. Age>22.75    6/0 0 (1 0 ) *\n",
      "|   |   |   |   |   |   |   |   |- 134. Fare>7.74585    12/4 0 (0.667 0.333 ) [0.0740741]\n",
      "|   |   |   |   |   |   |   |   |   |- 173. Fare<=11.175    3/1 1 (0.333 0.667 ) [0.1111111]\n",
      "|   |   |   |   |   |   |   |   |   |   |- 209. Embarked in ['C']    2/1 0 (0.5 0.5 ) *\n",
      "|   |   |   |   |   |   |   |   |   |   |- 210. Embarked not in ['C']    1/0 1 (0 1 ) *\n",
      "|   |   |   |   |   |   |   |   |   |- 174. Fare>11.175    9/2 0 (0.778 0.222 ) [0.0790123]\n",
      "|   |   |   |   |   |   |   |   |   |   |- 211. Fare<=15.62085    4/0 0 (1 0 ) *\n",
      "|   |   |   |   |   |   |   |   |   |   |- 212. Fare>15.62085    5/2 0 (0.6 0.4 ) [0.48]\n",
      "|   |   |   |   |   |   |   |   |   |   |   |- 251. Fare<=21.39375    2/0 1 (0 1 ) *\n",
      "|   |   |   |   |   |   |   |   |   |   |   |- 252. Fare>21.39375    3/0 0 (1 0 ) *\n",
      "|   |   |   |   |   |   |- 66. Age>30.75    24/8 0 (0.667 0.333 ) [0.0740741]\n",
      "|   |   |   |   |   |   |   |- 101. Fare<=7.8146    6/0 0 (1 0 ) *\n",
      "|   |   |   |   |   |   |   |- 102. Fare>7.8146    18/8 0 (0.556 0.444 ) [0.0493827]\n",
      "|   |   |   |   |   |   |   |   |- 135. Parch<=0.5    16/8 1 (0.5 0.5 ) [0.0416667]\n",
      "|   |   |   |   |   |   |   |   |   |- 175. Fare<=20.925    12/5 0 (0.583 0.417 ) [0.0670635]\n",
      "|   |   |   |   |   |   |   |   |   |   |- 213. Fare<=8.20625    7/3 1 (0.429 0.571 ) [0.0612245]\n",
      "|   |   |   |   |   |   |   |   |   |   |   |- 253. Fare<=7.9875    6/3 1 (0.5 0.5 ) [0]\n",
      "|   |   |   |   |   |   |   |   |   |   |   |   |- 295. Fare<=7.9104    2/1 1 (0.5 0.5 ) *\n",
      "|   |   |   |   |   |   |   |   |   |   |   |   |- 296. Fare>7.9104    4/2 1 (0.5 0.5 ) *\n",
      "|   |   |   |   |   |   |   |   |   |   |   |- 254. Fare>7.9875    1/0 1 (0 1 ) *\n",
      "|   |   |   |   |   |   |   |   |   |   |- 214. Fare>8.20625    5/1 0 (0.8 0.2 ) [0.12]\n",
      "|   |   |   |   |   |   |   |   |   |   |   |- 255. Age<=31.5    2/1 1 (0.5 0.5 ) *\n",
      "|   |   |   |   |   |   |   |   |   |   |   |- 256. Age>31.5    3/0 0 (1 0 ) *\n",
      "|   |   |   |   |   |   |   |   |   |- 176. Fare>20.925    4/1 1 (0.25 0.75 ) [0.375]\n",
      "|   |   |   |   |   |   |   |   |   |   |- 215. Fare<=64.9979    3/0 1 (0 1 ) *\n",
      "|   |   |   |   |   |   |   |   |   |   |- 216. Fare>64.9979    1/0 0 (1 0 ) *\n",
      "|   |   |   |   |   |   |   |   |- 136. Parch>0.5    2/0 0 (1 0 ) *\n",
      "|   |   |   |   |   |- 40. Age>32.25    114/7 0 (0.939 0.061 ) [0.0034804]\n",
      "|   |   |   |   |   |   |- 67. Fare<=7.9104    36/0 0 (1 0 ) *\n",
      "|   |   |   |   |   |   |- 68. Fare>7.9104    78/7 0 (0.91 0.09 ) [0.0181957]\n",
      "|   |   |   |   |   |   |   |- 103. Fare<=7.9875    4/2 1 (0.5 0.5 ) [0.1666667]\n",
      "|   |   |   |   |   |   |   |   |- 137. SibSp<=1    3/1 1 (0.333 0.667 ) [0.1111111]\n",
      "|   |   |   |   |   |   |   |   |   |- 177. Age<=41.5    2/1 0 (0.5 0.5 ) *\n",
      "|   |   |   |   |   |   |   |   |   |- 178. Age>41.5    1/0 1 (0 1 ) *\n",
      "|   |   |   |   |   |   |   |   |- 138. SibSp>1    1/0 0 (1 0 ) *\n",
      "|   |   |   |   |   |   |   |- 104. Fare>7.9875    74/5 0 (0.932 0.068 ) [0.0068931]\n",
      "|   |   |   |   |   |   |   |   |- 139. Age<=61    68/3 0 (0.956 0.044 ) [0.0034602]\n",
      "|   |   |   |   |   |   |   |   |   |- 179. Fare<=13.25    36/3 0 (0.917 0.083 ) [0.0085354]\n",
      "|   |   |   |   |   |   |   |   |   |   |- 217. Fare<=12.9375    25/1 0 (0.96 0.04 ) [0.0084325]\n",
      "|   |   |   |   |   |   |   |   |   |   |   |- 257. Age<=44.5    17/0 0 (1 0 ) *\n",
      "|   |   |   |   |   |   |   |   |   |   |   |- 258. Age>44.5    8/1 0 (0.875 0.125 ) [0.1020408]\n",
      "|   |   |   |   |   |   |   |   |   |   |   |   |- 297. Age<=48.5    3/1 0 (0.667 0.333 ) [0.1111111]\n",
      "|   |   |   |   |   |   |   |   |   |   |   |   |   |- 329. Fare<=8.525    2/1 0 (0.5 0.5 ) *\n",
      "|   |   |   |   |   |   |   |   |   |   |   |   |   |- 330. Fare>8.525    1/0 0 (1 0 ) *\n",
      "|   |   |   |   |   |   |   |   |   |   |   |   |- 298. Age>48.5    5/0 0 (1 0 ) *\n",
      "|   |   |   |   |   |   |   |   |   |   |- 218. Fare>12.9375    11/2 0 (0.818 0.182 ) [0.0247934]\n",
      "|   |   |   |   |   |   |   |   |   |   |   |- 259. Age<=45    8/2 0 (0.75 0.25 ) [0.0416667]\n",
      "|   |   |   |   |   |   |   |   |   |   |   |   |- 299. Age<=40.5    6/1 0 (0.833 0.167 ) [0.0555556]\n",
      "|   |   |   |   |   |   |   |   |   |   |   |   |   |- 331. Age<=35    3/1 0 (0.667 0.333 ) *\n",
      "|   |   |   |   |   |   |   |   |   |   |   |   |   |- 332. Age>35    3/0 0 (1 0 ) *\n",
      "|   |   |   |   |   |   |   |   |   |   |   |   |- 300. Age>40.5    2/1 1 (0.5 0.5 ) *\n",
      "|   |   |   |   |   |   |   |   |   |   |   |- 260. Age>45    3/0 0 (1 0 ) *\n",
      "|   |   |   |   |   |   |   |   |   |- 180. Fare>13.25    32/0 0 (1 0 ) *\n",
      "|   |   |   |   |   |   |   |   |- 140. Age>61    6/2 0 (0.667 0.333 ) [0.1777778]\n",
      "|   |   |   |   |   |   |   |   |   |- 181. Embarked in ['S']    5/1 0 (0.8 0.2 ) [0.1111111]\n",
      "|   |   |   |   |   |   |   |   |   |   |- 219. Age<=68    3/1 0 (0.667 0.333 ) [0.1111111]\n",
      "|   |   |   |   |   |   |   |   |   |   |   |- 261. Fare<=33.4979    2/1 1 (0.5 0.5 ) *\n",
      "|   |   |   |   |   |   |   |   |   |   |   |- 262. Fare>33.4979    1/0 0 (1 0 ) *\n",
      "|   |   |   |   |   |   |   |   |   |   |- 220. Age>68    2/0 0 (1 0 ) *\n",
      "|   |   |   |   |   |   |   |   |   |- 182. Embarked not in ['S']    1/0 1 (0 1 ) *\n",
      "|   |   |   |- 10. Pclass not in ['2','3']    113/41 0 (0.637 0.363 ) [0.0349964]\n",
      "|   |   |   |   |- 21. Age<=53    82/36 0 (0.561 0.439 ) [0.030433]\n",
      "|   |   |   |   |   |- 41. Fare<=25.9375    6/0 0 (1 0 ) *\n",
      "|   |   |   |   |   |- 42. Fare>25.9375    76/36 0 (0.526 0.474 ) [0.0735875]\n",
      "|   |   |   |   |   |   |- 69. Fare<=27.1354    12/1 1 (0.083 0.917 ) [0.0289256]\n",
      "|   |   |   |   |   |   |   |- 105. Age<=43.5    8/0 1 (0 1 ) *\n",
      "|   |   |   |   |   |   |   |- 106. Age>43.5    4/1 1 (0.25 0.75 ) [0.125]\n",
      "|   |   |   |   |   |   |   |   |- 141. Age<=46.5    2/1 1 (0.5 0.5 ) *\n",
      "|   |   |   |   |   |   |   |   |- 142. Age>46.5    2/0 1 (0 1 ) *\n",
      "|   |   |   |   |   |   |- 70. Fare>27.1354    64/25 0 (0.609 0.391 ) [0.0239573]\n",
      "|   |   |   |   |   |   |   |- 107. Fare<=387.6646    62/23 0 (0.629 0.371 ) [0.0350298]\n",
      "|   |   |   |   |   |   |   |   |- 143. Fare<=134.64165    55/23 0 (0.582 0.418 ) [0.0449985]\n",
      "|   |   |   |   |   |   |   |   |   |- 183. Age<=27.5    13/4 1 (0.308 0.692 ) [0.1622992]\n",
      "|   |   |   |   |   |   |   |   |   |   |- 221. Age<=24.5    7/3 0 (0.571 0.429 ) [0.2755102]\n",
      "|   |   |   |   |   |   |   |   |   |   |   |- 263. Parch<=0.5    3/0 0 (1 0 ) *\n",
      "|   |   |   |   |   |   |   |   |   |   |   |- 264. Parch>0.5    4/1 1 (0.25 0.75 ) [0.125]\n",
      "|   |   |   |   |   |   |   |   |   |   |   |   |- 301. Embarked in ['S']    2/1 0 (0.5 0.5 ) *\n",
      "|   |   |   |   |   |   |   |   |   |   |   |   |- 302. Embarked not in ['S']    2/0 1 (0 1 ) *\n",
      "|   |   |   |   |   |   |   |   |   |   |- 222. Age>24.5    6/0 1 (0 1 ) *\n",
      "|   |   |   |   |   |   |   |   |   |- 184. Age>27.5    42/14 0 (0.667 0.333 ) [0.0444444]\n",
      "|   |   |   |   |   |   |   |   |   |   |- 223. Fare<=115.44165    40/12 0 (0.7 0.3 ) [0.0257143]\n",
      "|   |   |   |   |   |   |   |   |   |   |   |- 265. Fare<=30.25    5/0 0 (1 0 ) *\n",
      "|   |   |   |   |   |   |   |   |   |   |   |- 266. Fare>30.25    35/12 0 (0.657 0.343 ) [0.0809694]\n",
      "|   |   |   |   |   |   |   |   |   |   |   |   |- 303. Fare<=32.5104    3/0 1 (0 1 ) *\n",
      "|   |   |   |   |   |   |   |   |   |   |   |   |- 304. Fare>32.5104    32/9 0 (0.719 0.281 ) [0.0379549]\n",
      "|   |   |   |   |   |   |   |   |   |   |   |   |   |- 333. SibSp<=0.5    11/1 0 (0.909 0.091 ) [0.08]\n",
      "|   |   |   |   |   |   |   |   |   |   |   |   |   |   |- 347. Age<=29.5    3/1 0 (0.667 0.333 ) [0.1111111]\n",
      "|   |   |   |   |   |   |   |   |   |   |   |   |   |   |   |- 359. Fare<=48.55    2/1 1 (0.5 0.5 ) *\n",
      "|   |   |   |   |   |   |   |   |   |   |   |   |   |   |   |- 360. Fare>48.55    1/0 0 (1 0 ) *\n",
      "|   |   |   |   |   |   |   |   |   |   |   |   |   |   |- 348. Age>29.5    8/0 0 (1 0 ) *\n",
      "|   |   |   |   |   |   |   |   |   |   |   |   |   |- 334. SibSp>0.5    21/8 0 (0.619 0.381 ) [0.0483749]\n",
      "|   |   |   |   |   |   |   |   |   |   |   |   |   |   |- 349. Age<=49.5    18/8 0 (0.556 0.444 ) [0.097246]\n",
      "|   |   |   |   |   |   |   |   |   |   |   |   |   |   |   |- 361. Age<=47    13/4 0 (0.692 0.308 ) [0.0798817]\n",
      "|   |   |   |   |   |   |   |   |   |   |   |   |   |   |   |   |- 367. Parch<=0.5    12/3 0 (0.75 0.25 ) [0.0416667]\n",
      "|   |   |   |   |   |   |   |   |   |   |   |   |   |   |   |   |   |- 373. Age<=43    9/3 0 (0.667 0.333 ) [0.1111111]\n",
      "|   |   |   |   |   |   |   |   |   |   |   |   |   |   |   |   |   |   |- 375. Age<=37.5    6/1 0 (0.833 0.167 ) [0.0555556]\n",
      "|   |   |   |   |   |   |   |   |   |   |   |   |   |   |   |   |   |   |   |- 377. Fare<=61.8    3/1 0 (0.667 0.333 ) [0.4444444]\n",
      "|   |   |   |   |   |   |   |   |   |   |   |   |   |   |   |   |   |   |   |   |- 381. Fare<=55.05    2/0 0 (1 0 ) *\n",
      "|   |   |   |   |   |   |   |   |   |   |   |   |   |   |   |   |   |   |   |   |- 382. Fare>55.05    1/0 1 (0 1 ) *\n",
      "|   |   |   |   |   |   |   |   |   |   |   |   |   |   |   |   |   |   |   |- 378. Fare>61.8    3/0 0 (1 0 ) *\n",
      "|   |   |   |   |   |   |   |   |   |   |   |   |   |   |   |   |   |   |- 376. Age>37.5    3/1 1 (0.333 0.667 ) [0.1111111]\n",
      "|   |   |   |   |   |   |   |   |   |   |   |   |   |   |   |   |   |   |   |- 379. Fare<=71.2771    2/1 0 (0.5 0.5 ) *\n",
      "|   |   |   |   |   |   |   |   |   |   |   |   |   |   |   |   |   |   |   |- 380. Fare>71.2771    1/0 1 (0 1 ) *\n",
      "|   |   |   |   |   |   |   |   |   |   |   |   |   |   |   |   |   |- 374. Age>43    3/0 0 (1 0 ) *\n",
      "|   |   |   |   |   |   |   |   |   |   |   |   |   |   |   |   |- 368. Parch>0.5    1/0 1 (0 1 ) *\n",
      "|   |   |   |   |   |   |   |   |   |   |   |   |   |   |   |- 362. Age>47    5/1 1 (0.2 0.8 ) [0.32]\n",
      "|   |   |   |   |   |   |   |   |   |   |   |   |   |   |   |   |- 369. Fare<=99.99375    4/0 1 (0 1 ) *\n",
      "|   |   |   |   |   |   |   |   |   |   |   |   |   |   |   |   |- 370. Fare>99.99375    1/0 0 (1 0 ) *\n",
      "|   |   |   |   |   |   |   |   |   |   |   |   |   |   |- 350. Age>49.5    3/0 0 (1 0 ) *\n",
      "|   |   |   |   |   |   |   |   |   |   |- 224. Fare>115.44165    2/0 1 (0 1 ) *\n",
      "|   |   |   |   |   |   |   |   |- 144. Fare>134.64165    7/0 0 (1 0 ) *\n",
      "|   |   |   |   |   |   |   |- 108. Fare>387.6646    2/0 1 (0 1 ) *\n",
      "|   |   |   |   |- 22. Age>53    31/5 0 (0.839 0.161 ) [0.071035]\n",
      "|   |   |   |   |   |- 43. Age<=75.5    23/3 0 (0.87 0.13 ) [0.0199546]\n",
      "|   |   |   |   |   |   |- 71. Age<=60.5    12/3 0 (0.75 0.25 ) [0.1022727]\n",
      "|   |   |   |   |   |   |   |- 109. SibSp<=0.5    11/2 0 (0.818 0.182 ) [0.0247934]\n",
      "|   |   |   |   |   |   |   |   |- 145. Fare<=30.1    3/0 0 (1 0 ) *\n",
      "|   |   |   |   |   |   |   |   |- 146. Fare>30.1    8/2 0 (0.75 0.25 ) [0.075]\n",
      "|   |   |   |   |   |   |   |   |   |- 185. Fare<=43.68125    5/2 0 (0.6 0.4 ) [0.18]\n",
      "|   |   |   |   |   |   |   |   |   |   |- 225. Fare<=33.25    4/1 0 (0.75 0.25 ) [0.125]\n",
      "|   |   |   |   |   |   |   |   |   |   |   |- 267. Fare<=30.5979    2/1 1 (0.5 0.5 ) *\n",
      "|   |   |   |   |   |   |   |   |   |   |   |- 268. Fare>30.5979    2/0 0 (1 0 ) *\n",
      "|   |   |   |   |   |   |   |   |   |   |- 226. Fare>33.25    1/0 1 (0 1 ) *\n",
      "|   |   |   |   |   |   |   |   |   |- 186. Fare>43.68125    3/0 0 (1 0 ) *\n",
      "|   |   |   |   |   |   |   |- 110. SibSp>0.5    1/0 1 (0 1 ) *\n",
      "|   |   |   |   |   |   |- 72. Age>60.5    11/0 0 (1 0 ) *\n",
      "|   |   |   |   |   |- 44. Age>75.5    8/2 0 (0.75 0.25 ) [0.1607143]\n",
      "|   |   |   |   |   |   |- 73. Embarked in ['S']    7/1 0 (0.857 0.143 ) [0.0306122]\n",
      "|   |   |   |   |   |   |   |- 111. Fare<=28    3/0 0 (1 0 ) *\n",
      "|   |   |   |   |   |   |   |- 112. Fare>28    4/1 0 (0.75 0.25 ) [0.125]\n",
      "|   |   |   |   |   |   |   |   |- 147. Fare<=38.7    2/1 0 (0.5 0.5 ) *\n",
      "|   |   |   |   |   |   |   |   |- 148. Fare>38.7    2/0 0 (1 0 ) *\n",
      "|   |   |   |   |   |   |- 74. Embarked not in ['S']    1/0 1 (0 1 ) *\n",
      "|   |- 2. Sex not in ['male']    314/81 1 (0.258 0.742 ) [0.0992456]\n",
      "|   |   |- 5. Pclass in ['3']    144/72 1 (0.5 0.5 ) [0.0698006]\n",
      "|   |   |   |- 11. Fare<=23.35    117/48 1 (0.41 0.59 ) [0.029742]\n",
      "|   |   |   |   |- 23. Age<=16.5    43/11 1 (0.256 0.744 ) [0.0540305]\n",
      "|   |   |   |   |   |- 45. SibSp<=2.5    41/9 1 (0.22 0.78 ) [0.0398777]\n",
      "|   |   |   |   |   |   |- 75. Fare<=15.3729    29/9 1 (0.31 0.69 ) [0.0711111]\n",
      "|   |   |   |   |   |   |   |- 113. Age<=14.75    17/6 1 (0.353 0.647 ) [0.1794365]\n",
      "|   |   |   |   |   |   |   |   |- 149. Fare<=13.93545    14/3 1 (0.214 0.786 ) [0.0949765]\n",
      "|   |   |   |   |   |   |   |   |   |- 187. Parch<=1.5    13/2 1 (0.154 0.846 ) [0.0757396]\n",
      "|   |   |   |   |   |   |   |   |   |   |- 227. Embarked in ['S']    5/2 1 (0.4 0.6 ) [0.48]\n",
      "|   |   |   |   |   |   |   |   |   |   |   |- 269. Fare<=10.7979    2/0 0 (1 0 ) *\n",
      "|   |   |   |   |   |   |   |   |   |   |   |- 270. Fare>10.7979    3/0 1 (0 1 ) *\n",
      "|   |   |   |   |   |   |   |   |   |   |- 228. Embarked not in ['S']    8/0 1 (0 1 ) *\n",
      "|   |   |   |   |   |   |   |   |   |- 188. Parch>1.5    1/0 0 (1 0 ) *\n",
      "|   |   |   |   |   |   |   |   |- 150. Fare>13.93545    3/0 0 (1 0 ) *\n",
      "|   |   |   |   |   |   |   |- 114. Age>14.75    12/3 1 (0.25 0.75 ) [0.225]\n",
      "|   |   |   |   |   |   |   |   |- 151. Embarked in ['S']    2/0 0 (1 0 ) *\n",
      "|   |   |   |   |   |   |   |   |- 152. Embarked not in ['S']    10/1 1 (0.1 0.9 ) [0.08]\n",
      "|   |   |   |   |   |   |   |   |   |- 189. Fare<=8.08335    8/0 1 (0 1 ) *\n",
      "|   |   |   |   |   |   |   |   |   |- 190. Fare>8.08335    2/1 0 (0.5 0.5 ) *\n",
      "|   |   |   |   |   |   |- 76. Fare>15.3729    12/0 1 (0 1 ) *\n",
      "|   |   |   |   |   |- 46. SibSp>2.5    2/0 0 (1 0 ) *\n",
      "|   |   |   |   |- 24. Age>16.5    74/37 0 (0.5 0.5 ) [0.0276969]\n",
      "|   |   |   |   |   |- 47. Age<=36.5    61/29 1 (0.475 0.525 ) [0.0288786]\n",
      "|   |   |   |   |   |   |- 77. Age<=32.5    57/28 0 (0.509 0.491 ) [0.0275379]\n",
      "|   |   |   |   |   |   |   |- 115. Parch<=1.5    51/23 0 (0.549 0.451 ) [0.0387313]\n",
      "|   |   |   |   |   |   |   |   |- 153. Fare<=7.8875    19/7 1 (0.368 0.632 ) [0.1116071]\n",
      "|   |   |   |   |   |   |   |   |   |- 191. Age<=28.25    16/4 1 (0.25 0.75 ) [0.0791589]\n",
      "|   |   |   |   |   |   |   |   |   |   |- 229. Age<=18.5    4/2 0 (0.5 0.5 ) [0.1666667]\n",
      "|   |   |   |   |   |   |   |   |   |   |   |- 271. Fare<=7.8271    3/1 0 (0.667 0.333 ) [0.1111111]\n",
      "|   |   |   |   |   |   |   |   |   |   |   |   |- 305. Fare<=7.6354    2/1 0 (0.5 0.5 ) *\n",
      "|   |   |   |   |   |   |   |   |   |   |   |   |- 306. Fare>7.6354    1/0 0 (1 0 ) *\n",
      "|   |   |   |   |   |   |   |   |   |   |   |- 272. Fare>7.8271    1/0 1 (0 1 ) *\n",
      "|   |   |   |   |   |   |   |   |   |   |- 230. Age>18.5    12/2 1 (0.167 0.833 ) [0.0449954]\n",
      "|   |   |   |   |   |   |   |   |   |   |   |- 273. Age<=24    10/1 1 (0.1 0.9 ) [0.0466667]\n",
      "|   |   |   |   |   |   |   |   |   |   |   |   |- 307. Embarked in ['Q']    3/1 1 (0.333 0.667 ) [0.1111111]\n",
      "|   |   |   |   |   |   |   |   |   |   |   |   |   |- 335. Age<=21.5    2/1 1 (0.5 0.5 ) *\n",
      "|   |   |   |   |   |   |   |   |   |   |   |   |   |- 336. Age>21.5    1/0 1 (0 1 ) *\n",
      "|   |   |   |   |   |   |   |   |   |   |   |   |- 308. Embarked not in ['Q']    7/0 1 (0 1 ) *\n",
      "|   |   |   |   |   |   |   |   |   |   |   |- 274. Age>24    2/1 1 (0.5 0.5 ) *\n",
      "|   |   |   |   |   |   |   |   |   |- 192. Age>28.25    3/0 0 (1 0 ) *\n",
      "|   |   |   |   |   |   |   |   |- 154. Fare>7.8875    32/11 0 (0.656 0.344 ) [0.0574219]\n",
      "|   |   |   |   |   |   |   |   |   |- 193. Fare<=19.2625    30/9 0 (0.7 0.3 ) [0.0326697]\n",
      "|   |   |   |   |   |   |   |   |   |   |- 231. SibSp<=0.5    17/7 0 (0.588 0.412 ) [0.1191716]\n",
      "|   |   |   |   |   |   |   |   |   |   |   |- 275. Age<=25    10/2 0 (0.8 0.2 ) [0.1234568]\n",
      "|   |   |   |   |   |   |   |   |   |   |   |   |- 309. Age<=19    5/2 0 (0.6 0.4 ) [0.2133333]\n",
      "|   |   |   |   |   |   |   |   |   |   |   |   |   |- 337. Fare<=12.14795    3/1 1 (0.333 0.667 ) [0.1111111]\n",
      "|   |   |   |   |   |   |   |   |   |   |   |   |   |   |- 351. Fare<=9.59585    2/1 0 (0.5 0.5 ) *\n",
      "|   |   |   |   |   |   |   |   |   |   |   |   |   |   |- 352. Fare>9.59585    1/0 1 (0 1 ) *\n",
      "|   |   |   |   |   |   |   |   |   |   |   |   |   |- 338. Fare>12.14795    2/0 0 (1 0 ) *\n",
      "|   |   |   |   |   |   |   |   |   |   |   |   |- 310. Age>19    5/0 0 (1 0 ) *\n",
      "|   |   |   |   |   |   |   |   |   |   |   |- 276. Age>25    7/2 1 (0.286 0.714 ) [0.122449]\n",
      "|   |   |   |   |   |   |   |   |   |   |   |   |- 311. Age<=27.5    3/0 1 (0 1 ) *\n",
      "|   |   |   |   |   |   |   |   |   |   |   |   |- 312. Age>27.5    4/2 1 (0.5 0.5 ) [0.5]\n",
      "|   |   |   |   |   |   |   |   |   |   |   |   |   |- 339. Fare<=8.6729    2/0 0 (1 0 ) *\n",
      "|   |   |   |   |   |   |   |   |   |   |   |   |   |- 340. Fare>8.6729    2/0 1 (0 1 ) *\n",
      "|   |   |   |   |   |   |   |   |   |   |- 232. SibSp>0.5    13/2 0 (0.846 0.154 ) [0.0552268]\n",
      "|   |   |   |   |   |   |   |   |   |   |   |- 277. Fare<=15.675    7/0 0 (1 0 ) *\n",
      "|   |   |   |   |   |   |   |   |   |   |   |- 278. Fare>15.675    6/2 0 (0.667 0.333 ) [0.2222222]\n",
      "|   |   |   |   |   |   |   |   |   |   |   |   |- 313. Fare<=16.95    3/1 1 (0.333 0.667 ) *\n",
      "|   |   |   |   |   |   |   |   |   |   |   |   |- 314. Fare>16.95    3/0 0 (1 0 ) *\n",
      "|   |   |   |   |   |   |   |   |   |- 194. Fare>19.2625    2/0 1 (0 1 ) *\n",
      "|   |   |   |   |   |   |   |- 116. Parch>1.5    6/1 1 (0.167 0.833 ) [0.2777778]\n",
      "|   |   |   |   |   |   |   |   |- 155. Fare<=20.16665    5/0 1 (0 1 ) *\n",
      "|   |   |   |   |   |   |   |   |- 156. Fare>20.16665    1/0 0 (1 0 ) *\n",
      "|   |   |   |   |   |   |- 78. Age>32.5    4/0 1 (0 1 ) *\n",
      "|   |   |   |   |   |- 48. Age>36.5    13/5 0 (0.615 0.385 ) [0.244898]\n",
      "|   |   |   |   |   |   |- 79. Age<=55    11/3 0 (0.727 0.273 ) [0.1785124]\n",
      "|   |   |   |   |   |   |   |- 117. Fare<=8.6521    5/2 1 (0.4 0.6 ) [0.08]\n",
      "|   |   |   |   |   |   |   |   |- 157. Fare<=7.7896    4/2 1 (0.5 0.5 ) *\n",
      "|   |   |   |   |   |   |   |   |- 158. Fare>7.7896    1/0 1 (0 1 ) *\n",
      "|   |   |   |   |   |   |   |- 118. Fare>8.6521    6/0 0 (1 0 ) *\n",
      "|   |   |   |   |   |   |- 80. Age>55    2/0 1 (0 1 ) *\n",
      "|   |   |   |- 12. Fare>23.35    27/3 0 (0.889 0.111 ) [0.0241975]\n",
      "|   |   |   |   |- 25. Embarked in ['S']    25/2 0 (0.92 0.08 ) [0.0197531]\n",
      "|   |   |   |   |   |- 49. Age<=5.5    5/1 0 (0.8 0.2 ) [0.4444444]\n",
      "|   |   |   |   |   |   |- 81. Age<=3.5    3/0 0 (1 0 ) *\n",
      "|   |   |   |   |   |   |- 82. Age>3.5    2/1 1 (0.5 0.5 ) *\n",
      "|   |   |   |   |   |- 50. Age>5.5    20/1 0 (0.95 0.05 ) [0.02]\n",
      "|   |   |   |   |   |   |- 83. Parch<=4.5    16/0 0 (1 0 ) *\n",
      "|   |   |   |   |   |   |- 84. Parch>4.5    4/1 0 (0.75 0.25 ) [0.125]\n",
      "|   |   |   |   |   |   |   |- 119. Age<=40    2/1 0 (0.5 0.5 ) *\n",
      "|   |   |   |   |   |   |   |- 120. Age>40    2/0 0 (1 0 ) *\n",
      "|   |   |   |   |- 26. Embarked not in ['S']    2/1 1 (0.5 0.5 ) *\n",
      "|   |   |- 6. Pclass not in ['3']    170/9 1 (0.053 0.947 ) [0.0050089]\n",
      "|   |   |   |- 13. Age<=2.5    8/1 1 (0.125 0.875 ) [0.21875]\n",
      "|   |   |   |   |- 27. Fare<=149.0354    7/0 1 (0 1 ) *\n",
      "|   |   |   |   |- 28. Fare>149.0354    1/0 0 (1 0 ) *\n",
      "|   |   |   |- 14. Age>2.5    162/8 1 (0.049 0.951 ) [0.0041502]\n",
      "|   |   |   |   |- 29. Fare<=28.85625    68/7 1 (0.103 0.897 ) [0.0240213]\n",
      "|   |   |   |   |   |- 51. Fare<=28.23125    67/6 1 (0.09 0.91 ) [0.0103672]\n",
      "|   |   |   |   |   |   |- 85. Age<=56    65/5 1 (0.077 0.923 ) [0.0041497]\n",
      "|   |   |   |   |   |   |   |- 121. SibSp<=0.5    44/2 1 (0.045 0.955 ) [0.0034435]\n",
      "|   |   |   |   |   |   |   |   |- 159. Fare<=13.25    24/2 1 (0.083 0.917 ) [0.0099206]\n",
      "|   |   |   |   |   |   |   |   |   |- 195. Fare<=12.825    10/0 1 (0 1 ) *\n",
      "|   |   |   |   |   |   |   |   |   |- 196. Fare>12.825    14/2 1 (0.143 0.857 ) [0.0197897]\n",
      "|   |   |   |   |   |   |   |   |   |   |- 233. Age<=26    3/1 1 (0.333 0.667 ) [0.1111111]\n",
      "|   |   |   |   |   |   |   |   |   |   |   |- 279. Parch<=1    2/1 1 (0.5 0.5 ) *\n",
      "|   |   |   |   |   |   |   |   |   |   |   |- 280. Parch>1    1/0 1 (0 1 ) *\n",
      "|   |   |   |   |   |   |   |   |   |   |- 234. Age>26    11/1 1 (0.091 0.909 ) [0.0440771]\n",
      "|   |   |   |   |   |   |   |   |   |   |   |- 281. Age<=37    8/0 1 (0 1 ) *\n",
      "|   |   |   |   |   |   |   |   |   |   |   |- 282. Age>37    3/1 1 (0.333 0.667 ) [0.1111111]\n",
      "|   |   |   |   |   |   |   |   |   |   |   |   |- 315. Age<=41    2/1 0 (0.5 0.5 ) *\n",
      "|   |   |   |   |   |   |   |   |   |   |   |   |- 316. Age>41    1/0 1 (0 1 ) *\n",
      "|   |   |   |   |   |   |   |   |- 160. Fare>13.25    20/0 1 (0 1 ) *\n",
      "|   |   |   |   |   |   |   |- 122. SibSp>0.5    21/3 1 (0.143 0.857 ) [0.0163265]\n",
      "|   |   |   |   |   |   |   |   |- 161. Age<=25    6/0 1 (0 1 ) *\n",
      "|   |   |   |   |   |   |   |   |- 162. Age>25    15/3 1 (0.2 0.8 ) [0.1088889]\n",
      "|   |   |   |   |   |   |   |   |   |- 197. Age<=27.5    3/1 0 (0.667 0.333 ) [0.1111111]\n",
      "|   |   |   |   |   |   |   |   |   |   |- 235. Fare<=23.5    2/1 0 (0.5 0.5 ) *\n",
      "|   |   |   |   |   |   |   |   |   |   |- 236. Fare>23.5    1/0 0 (1 0 ) *\n",
      "|   |   |   |   |   |   |   |   |   |- 198. Age>27.5    12/1 1 (0.083 0.917 ) [0.0416667]\n",
      "|   |   |   |   |   |   |   |   |   |   |- 237. Age<=43    9/0 1 (0 1 ) *\n",
      "|   |   |   |   |   |   |   |   |   |   |- 238. Age>43    3/1 1 (0.333 0.667 ) [0.1111111]\n",
      "|   |   |   |   |   |   |   |   |   |   |   |- 283. Age<=49.5    2/1 0 (0.5 0.5 ) *\n",
      "|   |   |   |   |   |   |   |   |   |   |   |- 284. Age>49.5    1/0 1 (0 1 ) *\n",
      "|   |   |   |   |   |   |- 86. Age>56    2/1 0 (0.5 0.5 ) *\n",
      "|   |   |   |   |   |- 52. Fare>28.23125    1/0 0 (1 0 ) *\n",
      "|   |   |   |   |- 30. Fare>28.85625    94/1 1 (0.011 0.989 ) [0.0011921]\n",
      "|   |   |   |   |   |- 53. Parch<=1.5    79/0 1 (0 1 ) *\n",
      "|   |   |   |   |   |- 54. Parch>1.5    15/1 1 (0.067 0.933 ) [0.0177778]\n",
      "|   |   |   |   |   |   |- 87. Age<=24.5    10/0 1 (0 1 ) *\n",
      "|   |   |   |   |   |   |- 88. Age>24.5    5/1 1 (0.2 0.8 ) [0.12]\n",
      "|   |   |   |   |   |   |   |- 123. Age<=33.5    2/1 0 (0.5 0.5 ) *\n",
      "|   |   |   |   |   |   |   |- 124. Age>33.5    3/0 1 (0 1 ) *\n",
      "\n"
     ]
    }
   ],
   "source": [
    "tree.fit(train.mapVars(\"Survived,Sex,Pclass,Embarked,Age,Fare,SibSp,Parch\"), \"Survived\");\n",
    "tree.printSummary();"
   ]
  },
  {
   "cell_type": "markdown",
   "metadata": {},
   "source": [
    "\n",
    "Notice how large is the tree. Basically the tree was full grown and overfit the training data set too much. We can ask ourselves why that happens? Why it happens now, and did not happened when we had fewer inputs? The answer is that it happened also before. But it's consequences were not so drastic.\n",
    "\n",
    "The first tree used for training just $3$ input nominal features. Notice that all three features are nominal. The maximum number of groups which one can form is given by the product of the number of levels for each feature. This total maximal number is $2*3*3=18$. It practically exhausted the discrimination potential of those features. It did overfit in that reduced space of features. When we apply the model to the whole data set, the effect of exhaustion is not seen anymore.\n",
    "\n",
    "The second tree does the same thing, but this time in a richer space, with added input dimensions. Compared with the full feature space, we see the effect.\n",
    "\n",
    "There are two approaches to avoid overfit for a decision tree. The first approach is to stop learning up to the moment when we exhaust the data. The name for this approach is *early stop*. We can do that by specifying some parameters of the tree model:\n",
    "\n",
    "* Set a minimum number of instances for leaf node\n",
    "* Set a maximal depth for the tree\n",
    "* Not implemented yet, but easy to do: complexity threshold, maximal number of nodes in a tree\n",
    "\n",
    "The second approach is to prune the tree. Pruning procedure consists of growing the full tree and later on removing some nodes if they do not provide some type of gain. Currently we implemented only *reduced error pruning strategy*.\n",
    "\n",
    "We will test with 10-fold cross validation an early-stopping strategy to see how it works."
   ]
  },
  {
   "cell_type": "code",
   "execution_count": 22,
   "metadata": {},
   "outputs": [
    {
     "name": "stdout",
     "output_type": "stream",
     "text": [
      "Model:\n",
      "CTree{maxDepth=8,minCount=4,purity=GiniGain,splitter=Random,varSelector=VarSelector[ALL]}\n",
      "CV score in training data\n",
      "=========================\n",
      "    dataset  metric    mean       std    \n",
      "[0]    test Accuracy 0.803608  0.0321981 \n",
      "[1]   train Accuracy 0.8734263 0.0061285 \n",
      "\n",
      "\n"
     ]
    }
   ],
   "source": [
    "ClassifierEvaluation.cv(train.mapVars(\"Survived,Sex,Pclass,Embarked,Age,Fare,SibSp,Parch\"),\"Survived\",\n",
    "                        tree.maxDepth.set(8).minCount.set(4), 10, Accuracy.newMetric(true)).run().printContent();"
   ]
  },
  {
   "cell_type": "markdown",
   "metadata": {},
   "source": [
    "\n",
    "I tried some values, just to show that we can do something about it, but the progress did not appear. We should try a different approach, and that is an ensemble. Next session contains directions on how to build such an ensemble."
   ]
  },
  {
   "cell_type": "markdown",
   "metadata": {},
   "source": [
    "## 4. CForest model\n",
    "\n",
    "Random forests are well-known to work well when the irreducible error from the training data is high. This is probably the case of this Titanic data set. We have reasons to believe that this is the situation since it was a tragedy. A lot of random or not-so-expected things happened. That happened despite of the bravery and the sacrifice of the crew and others.\n",
    "\n",
    "Random forests are the invention of [Leo Breiman](https://en.wikipedia.org/wiki/Leo_Breiman). The first design was a joint effort together with [Adele Cutler](http://www.math.usu.edu/adele/). The base of random forests is bagging (or **b**ootstrapp **ag**gregation). On top of that, selecting just a random limited number of variables at each node is the core of the algorithm.\n",
    "\n",
    "We will work with random forests for now. This ensemble is mode robust and is capable of obtaining much better results than a single tree. At the same time we will introduce 10-fold cross validation to check our progress and estimate the error produced.\n",
    "\n",
    "In the beginning we will use 10-fold cross validation for estimating the accuracy on public leader board.\n",
    "\n",
    "We will test first with 10 fold cv the tree model."
   ]
  },
  {
   "cell_type": "code",
   "execution_count": 23,
   "metadata": {},
   "outputs": [
    {
     "name": "stdout",
     "output_type": "stream",
     "text": [
      "Model:\n",
      "CTree{purity=GiniGain,splitter=Random,varSelector=VarSelector[ALL]}\n",
      "CV score in training data\n",
      "=========================\n",
      "    dataset  metric    mean       std    \n",
      "[0]    test Accuracy 0.8114732 0.0444276 \n",
      "[1]   train Accuracy 0.8114481 0.004932  \n",
      "\n",
      "\n"
     ]
    }
   ],
   "source": [
    "ClassifierEvaluation.cv(train.mapVars(\"Survived,Sex,Pclass,Embarked\"), \"Survived\", CTree.newCART(), 10, Accuracy.newMetric(true)).run().printContent();"
   ]
  },
  {
   "cell_type": "markdown",
   "metadata": {},
   "source": [
    "### 4.1 Our first random forest\n",
    "\n",
    "The name of the random forest implementation is `CForest`. To build a new ensemble of trees, one have to instantiate it in the following way:"
   ]
  },
  {
   "cell_type": "code",
   "execution_count": 24,
   "metadata": {},
   "outputs": [],
   "source": [
    "CForest rf = CForest.newModel();"
   ]
  },
  {
   "cell_type": "markdown",
   "metadata": {},
   "source": [
    "There are a lot of things which can be customized for a random forest. Among them one can change:\n",
    "\n",
    "* Number of trees for classification\n",
    "* Which kind of weak classifierModel to use (you can customize this customized accordingly, like any other classifierModel)\n",
    "* Number of threads in pool (if you want to use parallelism)\n",
    "* What to do after each running step\n",
    "\n",
    "Let's build one and use ore new cross validation procedure to estimate it's error."
   ]
  },
  {
   "cell_type": "code",
   "execution_count": 25,
   "metadata": {},
   "outputs": [
    {
     "name": "stdout",
     "output_type": "stream",
     "text": [
      "Model:\n",
      "CForest{poolSize=3,rowSampler=Bootstrap(p=1),runs=100}\n",
      "CV score in training data\n",
      "=========================\n",
      "    dataset  metric    mean       std    \n",
      "[0]    test Accuracy 0.8114981 0.0385038 \n",
      "[1]   train Accuracy 0.8114484 0.0042809 \n",
      "\n",
      "\n"
     ]
    }
   ],
   "source": [
    "RandomSource.setSeed(123);\n",
    "Frame tr = train.mapVars(\"Survived,Sex,Pclass,Embarked\");\n",
    "CForest rf = CForest.newModel().runs.set(100).poolSize.set(3);\n",
    "ClassifierEvaluation.cv(tr, \"Survived\", rf, 10, Accuracy.newMetric(true)).run().printContent();"
   ]
  },
  {
   "cell_type": "markdown",
   "metadata": {},
   "source": [
    "Well, an identical output. This is due to the fact that our variables are already exhausted by the tree. It looks like an underfit. If one consider bias variance trade off, one can see this as high bias. We need to enrich our feature space to improve our performance.\n",
    "\n",
    "Let's be direct and test what would happen if we would use all our directly usable features? This time we will fit also the training data set, to see the distribution of the training error."
   ]
  },
  {
   "cell_type": "code",
   "execution_count": 26,
   "metadata": {},
   "outputs": [
    {
     "name": "stdout",
     "output_type": "stream",
     "text": [
      "Model:\n",
      "CForest{poolSize=3,rowSampler=Bootstrap(p=1),runs=100}\n",
      "CV score in training data\n",
      "=========================\n",
      "    dataset  metric    mean       std    \n",
      "[0]    test Accuracy 0.8238452 0.046814  \n",
      "[1]   train Accuracy 0.927174  0.0044682 \n",
      "\n",
      "\n",
      "> Confusion matrix\n",
      " - Frequency table\n",
      "Ac\\Pr |    0    1 | total \n",
      "----- |    -    - | ----- \n",
      "    0 | >534   15 |   549 \n",
      "    1 |   47 >295 |   342 \n",
      "----- |    -    - | ----- \n",
      "total |  581  310 |   891 \n",
      " - Probability table\n",
      "Ac\\Pr |      0      1 | total \n",
      "----- |      -      - | ----- \n",
      "    0 | >0.599  0.017 | 0.616 \n",
      "    1 |  0.053 >0.331 | 0.384 \n",
      "----- |      -      - | ----- \n",
      "total |  0.652  0.348 | 1.000 \n",
      "\n",
      "\n",
      "Complete cases 891 from 891\n",
      "Acc: 0.9304153         (Accuracy )\n",
      "F1:  0.9451327         (F1 score / F-measure)\n",
      "MCC: 0.8527999         (Matthew correlation coefficient)\n",
      "Pre: 0.919105         (Precision)\n",
      "Rec: 0.9726776         (Recall)\n",
      "G:   0.9455119         (G-measure)\n",
      "\n"
     ]
    }
   ],
   "source": [
    "RandomSource.setSeed(123);\n",
    "Frame tr = train.mapVars(\"Survived,Sex,Pclass,Embarked,Age,Fare,SibSp,Parch\");\n",
    "CForest rf = CForest.newModel().runs.set(100).poolSize.set(3);\n",
    "ClassifierEvaluation.cv(tr, \"Survived\", rf, 10, Accuracy.newMetric(true)).run().printContent();\n",
    "\n",
    "rf.fit(tr, \"Survived\");\n",
    "ClassifierResult fit = rf.predict(test);\n",
    "Confusion.from(tr.rvar(\"Survived\"), rf.predict(tr).firstClasses()).printSummary();"
   ]
  },
  {
   "cell_type": "markdown",
   "metadata": {},
   "source": [
    "This time we have a good example of overfit. Why is that? Look at the confusion matrix on the training set. We fit too well the training data. This data set is well known for its high irreducible error. And there is an explanation for that. During the tragic event a lot of exceptional things happened. For example I read somewhere that an old lady which had a dog was not allowed to embark with her pet due to regulations. As a consequence she decided to not leave it and she chose to die with him. It's close to impossible to learn those kind of things, even if the information would be available. \n",
    "\n",
    "We should reduce the error somehow. We can try to decrease the overfit by adding more learners. Let's see if that would be enough for our purpose."
   ]
  },
  {
   "cell_type": "code",
   "execution_count": 27,
   "metadata": {},
   "outputs": [
    {
     "name": "stdout",
     "output_type": "stream",
     "text": [
      "Model:\n",
      "CForest{poolSize=3,rowSampler=Bootstrap(p=1),runs=500}\n",
      "CV score in training data\n",
      "=========================\n",
      "    dataset  metric    mean       std    \n",
      "[0]    test Accuracy 0.8283396 0.0505348 \n",
      "[1]   train Accuracy 0.9280466 0.0032055 \n",
      "\n",
      "\n",
      "> Confusion matrix\n",
      " - Frequency table\n",
      "Ac\\Pr |    0    1 | total \n",
      "----- |    -    - | ----- \n",
      "    0 | >533   16 |   549 \n",
      "    1 |   47 >295 |   342 \n",
      "----- |    -    - | ----- \n",
      "total |  580  311 |   891 \n",
      " - Probability table\n",
      "Ac\\Pr |      0      1 | total \n",
      "----- |      -      - | ----- \n",
      "    0 | >0.598  0.018 | 0.616 \n",
      "    1 |  0.053 >0.331 | 0.384 \n",
      "----- |      -      - | ----- \n",
      "total |  0.651  0.349 | 1.000 \n",
      "\n",
      "\n",
      "Complete cases 891 from 891\n",
      "Acc: 0.9292929         (Accuracy )\n",
      "F1:  0.9441984         (F1 score / F-measure)\n",
      "MCC: 0.8503031         (Matthew correlation coefficient)\n",
      "Pre: 0.9189655         (Precision)\n",
      "Rec: 0.9708561         (Recall)\n",
      "G:   0.9445545         (G-measure)\n",
      "\n"
     ]
    }
   ],
   "source": [
    "RandomSource.setSeed(123);\n",
    "Frame tr = train.mapVars(\"Survived,Sex,Pclass,Embarked,Age,Fare,SibSp,Parch\");\n",
    "CForest rf = CForest.newModel().runs.set(500).poolSize.set(3);\n",
    "ClassifierEvaluation.cv(tr, \"Survived\", rf, 10, Accuracy.newMetric(true)).run().printContent();\n",
    "\n",
    "rf.fit(tr, \"Survived\");\n",
    "ClassifierResult fit = rf.predict(test);\n",
    "Confusion.from(tr.rvar(\"Survived\"), rf.predict(tr).firstClasses()).printSummary();"
   ]
  },
  {
   "cell_type": "markdown",
   "metadata": {},
   "source": [
    "This is slightly better than before. But the difference does not look significantly better than previous. We will use a simple pre-pruning strategy is to limit the number instances in leaf nodes. We set the minimum count to $3$."
   ]
  },
  {
   "cell_type": "code",
   "execution_count": 28,
   "metadata": {},
   "outputs": [
    {
     "name": "stdout",
     "output_type": "stream",
     "text": [
      "Model:\n",
      "CForest{model=CTree,rowSampler=Bootstrap(p=1),runs=100}\n",
      "Raw scores:\n",
      "===========\n",
      "     dataset round fold Accuracy       dataset round fold Accuracy       dataset round fold Accuracy       dataset round fold Accuracy  \n",
      " [0]    test     0    0 0.7555556  [5]    test     0    5 0.8314607 [10]   train     0    0 0.9138577 [15]   train     0    5 0.9077307 \n",
      " [1]    test     0    1 0.7977528  [6]    test     0    6 0.8314607 [11]   train     0    1 0.9077307 [16]   train     0    6 0.9052369 \n",
      " [2]    test     0    2 0.9101124  [7]    test     0    7 0.8089888 [12]   train     0    2 0.9027431 [17]   train     0    7 0.90399   \n",
      " [3]    test     0    3 0.8764045  [8]    test     0    8 0.8202247 [13]   train     0    3 0.9064838 [18]   train     0    8 0.9052369 \n",
      " [4]    test     0    4 0.8651685  [9]    test     0    9 0.7303371 [14]   train     0    4 0.9102244 [19]   train     0    9 0.9014963 \n",
      "\n",
      "Round scores:\n",
      "=============\n",
      "    dataset round Accuracy_mean Accuracy_std \n",
      "[0]    test     0   0.8227466    0.0513205   \n",
      "[1]   train     0   0.906473     0.0034594   \n",
      "\n",
      "CV score in training data\n",
      "=========================\n",
      "    dataset  metric    mean       std    \n",
      "[0]    test Accuracy 0.8227466 0.0540965 \n",
      "[1]   train Accuracy 0.906473  0.0036465 \n",
      "\n",
      "\n",
      "> Confusion matrix\n",
      " - Frequency table\n",
      "Ac\\Pr |    0    1 | total \n",
      "----- |    -    - | ----- \n",
      "    0 | >527   22 |   549 \n",
      "    1 |   59 >283 |   342 \n",
      "----- |    -    - | ----- \n",
      "total |  586  305 |   891 \n",
      " - Probability table\n",
      "Ac\\Pr |      0      1 | total \n",
      "----- |      -      - | ----- \n",
      "    0 | >0.591  0.025 | 0.616 \n",
      "    1 |  0.066 >0.318 | 0.384 \n",
      "----- |      -      - | ----- \n",
      "total |  0.658  0.342 | 1.000 \n",
      "\n",
      "\n",
      "Complete cases 891 from 891\n",
      "Acc: 0.9090909         (Accuracy )\n",
      "F1:  0.9286344         (F1 score / F-measure)\n",
      "MCC: 0.8070544         (Matthew correlation coefficient)\n",
      "Pre: 0.8993174         (Precision)\n",
      "Rec: 0.9599271         (Recall)\n",
      "G:   0.9291282         (G-measure)\n",
      "\n"
     ]
    }
   ],
   "source": [
    "RandomSource.setSeed(123);\n",
    "Frame tr = train.mapVars(\"Survived,Sex,Pclass,Embarked,Age,Fare,SibSp,Parch\");\n",
    "CForest rf = CForest.newModel().model.set(CTree.newCART().minCount.set(3)).runs.set(100);\n",
    "ClassifierEvaluation.cv(tr, \"Survived\", rf, 10, Accuracy.newMetric(true)).run().printFullContent();\n",
    "\n",
    "rf.fit(tr, \"Survived\");\n",
    "ClassifierResult fit = rf.predict(test);\n",
    "Confusion.from(tr.rvar(\"Survived\"), rf.predict(tr).firstClasses()).printSummary();"
   ]
  },
  {
   "cell_type": "markdown",
   "metadata": {},
   "source": [
    "Notice that we changed the classifierModel used by `CForest`. This is the same classifierModel used by default by random forest. We do this because we customized the classifierModel by changing the min count parameter."
   ]
  },
  {
   "cell_type": "markdown",
   "metadata": {},
   "source": [
    "That had indeed some effect. However after submitting to competition we did not saw any improvement. We should look forward to engineer a little bit our features for further improvements."
   ]
  },
  {
   "cell_type": "markdown",
   "metadata": {},
   "source": [
    "## 5. Feature engineering\n",
    "\n",
    "### 5.1 Title feature\n",
    "\n",
    "It is clear that we can't use directly the `\"Name\"` variable. This is due to the fact that names are almost unique, and that leads to a tiny generalization power. To understand that we should see that even if we learned that a passenger with a given name survived or not. We can't decide if another passenger survived, using only the name of the new passenger.\n",
    "\n",
    "Lets inspect some of the values from `\"Name\"` variable."
   ]
  },
  {
   "cell_type": "code",
   "execution_count": 29,
   "metadata": {},
   "outputs": [
    {
     "name": "stdout",
     "output_type": "stream",
     "text": [
      "VarNominal [name:\"Name\", rowCount:891]\n",
      " row                             value                             row                             value                             row                             value                            \n",
      "  [0]                  \"Braund, Mr. Owen Harris\"                   [34]                  \"Meyer, Mr. Edgar Joseph\"                   [68]              \"Andersson, Miss. Erna Alexandra\"              \n",
      "  [1]    \"Cumings, Mrs. John Bradley (Florence Briggs Thayer)\"     [35]              \"Holverson, Mr. Alexander Oskar\"                [69]                     \"Kink, Mr. Vincenz\"                     \n",
      "  [2]                  \"Heikkinen, Miss. Laina\"                    [36]                     \"Mamee, Mr. Hanna\"                       [70]                \"Jenkin, Mr. Stephen Curnow\"                 \n",
      "  [3]       \"Futrelle, Mrs. Jacques Heath (Lily May Peel)\"         [37]                 \"Cann, Mr. Ernest Charles\"                   [71]                \"Goodwin, Miss. Lillian Amy\"                 \n",
      "  [4]                 \"Allen, Mr. William Henry\"                   [38]            \"Vander Planke, Miss. Augusta Maria\"              [72]                   \"Hood, Mr. Ambrose Jr\"                    \n",
      "  [5]                     \"Moran, Mr. James\"                       [39]                \"Nicola-Yarred, Miss. Jamila\"                 [73]                \"Chronopoulos, Mr. Apostolos\"                \n",
      "  [6]                  \"McCarthy, Mr. Timothy J\"                   [40]      \"Ahlin, Mrs. Johan (Johanna Persdotter Larsson)\"        [74]                       \"Bing, Mr. Lee\"                       \n",
      "  [7]              \"Palsson, Master. Gosta Leonard\"                [41] \"Turpin, Mrs. William John Robert (Dorothy Ann Wonnacott)\"   [75]                  \"Moen, Mr. Sigurd Hansen\"                  \n",
      "  [8]     \"Johnson, Mrs. Oscar W (Elisabeth Vilhelmina Berg)\"      [42]                    \"Kraeff, Mr. Theodor\"                     [76]                     \"Staneff, Mr. Ivan\"                     \n",
      "  [9]            \"Nasser, Mrs. Nicholas (Adele Achem)\"             [43]         \"Laroche, Miss. Simonne Marie Anne Andree\"           [77]                 \"Moutal, Mr. Rahamin Haim\"                  \n",
      " [10]              \"Sandstrom, Miss. Marguerite Rut\"               [44]               \"Devaney, Miss. Margaret Delia\"                [78]               \"Caldwell, Master. Alden Gates\"               \n",
      " [11]                 \"Bonnell, Miss. Elizabeth\"                   [45]                 \"Rogers, Mr. William John\"                   ...                              ...                             \n",
      " [12]              \"Saundercock, Mr. William Henry\"                [46]                     \"Lennon, Mr. Denis\"                     [871]     \"Beckwith, Mrs. Richard Leonard (Sallie Monypeny)\"      \n",
      " [13]                \"Andersson, Mr. Anders Johan\"                 [47]                 \"O'Driscoll, Miss. Bridget\"                 [872]                 \"Carlsson, Mr. Frans Olof\"                  \n",
      " [14]           \"Vestrom, Miss. Hulda Amanda Adolfina\"             [48]                    \"Samaan, Mr. Youssef\"                    [873]                \"Vander Cruyssen, Mr. Victor\"                \n",
      " [15]             \"Hewlett, Mrs. (Mary D Kingcome) \"               [49]       \"Arnold-Franchi, Mrs. Josef (Josefine Franchi)\"       [874]           \"Abelson, Mrs. Samuel (Hannah Wizosky)\"           \n",
      " [16]                   \"Rice, Master. Eugene\"                     [50]                \"Panula, Master. Juha Niilo\"                 [875]            \"Najib, Miss. Adele Kiamie \"\"Jane\"\"\"             \n",
      " [17]               \"Williams, Mr. Charles Eugene\"                 [51]               \"Nosworthy, Mr. Richard Cater\"                [876]               \"Gustafsson, Mr. Alfred Ossian\"               \n",
      " [18]  \"Vander Planke, Mrs. Julius (Emelia Maria Vandemoortele)\"   [52]         \"Harper, Mrs. Henry Sleeper (Myna Haxtun)\"          [877]                   \"Petroff, Mr. Nedelio\"                    \n",
      " [19]                  \"Masselmani, Mrs. Fatima\"                   [53]    \"Faunthorpe, Mrs. Lizzie (Elizabeth Anne Wilkinson)\"     [878]                    \"Laleff, Mr. Kristo\"                     \n",
      " [20]                   \"Fynney, Mr. Joseph J\"                     [54]              \"Ostby, Mr. Engelhart Cornelius\"               [879]       \"Potter, Mrs. Thomas Jr (Lily Alexenia Wilson)\"       \n",
      " [21]                   \"Beesley, Mr. Lawrence\"                    [55]                     \"Woolner, Mr. Hugh\"                     [880]       \"Shelley, Mrs. William (Imanita Parrish Hall)\"        \n",
      " [22]               \"McGowan, Miss. Anna \"\"Annie\"\"\"                [56]                     \"Rugg, Miss. Emily\"                     [881]                    \"Markun, Mr. Johann\"                     \n",
      " [23]               \"Sloper, Mr. William Thompson\"                 [57]                    \"Novel, Mr. Mansouer\"                    [882]               \"Dahlberg, Miss. Gerda Ulrika\"                \n",
      " [24]               \"Palsson, Miss. Torborg Danira\"                [58]               \"West, Miss. Constance Mirium\"                [883]               \"Banfield, Mr. Frederick James\"               \n",
      " [25] \"Asplund, Mrs. Carl Oscar (Selma Augusta Emilia Johansson)\"  [59]            \"Goodwin, Master. William Frederick\"             [884]                  \"Sutehall, Mr. Henry Jr\"                   \n",
      " [26]                  \"Emir, Mr. Farred Chehab\"                   [60]                   \"Sirayanian, Mr. Orsen\"                   [885]           \"Rice, Mrs. William (Margaret Norton)\"            \n",
      " [27]              \"Fortune, Mr. Charles Alexander\"                [61]                    \"Icard, Miss. Amelie\"                    [886]                   \"Montvila, Rev. Juozas\"                   \n",
      " [28]              \"O'Dwyer, Miss. Ellen \"\"Nellie\"\"\"               [62]                \"Harris, Mr. Henry Birkhardt\"                [887]               \"Graham, Miss. Margaret Edith\"                \n",
      " [29]                    \"Todoroff, Mr. Lalio\"                     [63]                   \"Skoog, Master. Harald\"                   [888]        \"Johnston, Miss. Catherine Helen \"\"Carrie\"\"\"         \n",
      " [30]                 \"Uruchurtu, Don. Manuel E\"                   [64]                   \"Stewart, Mr. Albert A\"                   [889]                   \"Behr, Mr. Karl Howell\"                   \n",
      " [31]      \"Spencer, Mrs. William Augustus (Marie Eugenie)\"        [65]                 \"Moubarek, Master. Gerios\"                  [890]                    \"Dooley, Mr. Patrick\"                    \n",
      " [32]                 \"Glynn, Miss. Mary Agatha\"                   [66]               \"Nye, Mrs. (Elizabeth Ramell)\"                                                                                  \n",
      " [33]                   \"Wheadon, Mr. Edward H\"                    [67]                 \"Crease, Mr. Ernest James\"                  \n",
      "\n"
     ]
    }
   ],
   "source": [
    "train.rvar(\"Name\").printContent();"
   ]
  },
  {
   "cell_type": "markdown",
   "metadata": {},
   "source": [
    "We notice that the names contains title information of the individual. This is valuable, but how can we benefit from that? First of all see that the format of that string is clear: space + title + dot + space. We can try to model a regular expression or we can take a simpler, but manual path. Intuition tells us that there should not be too many keys.\n",
    "\n",
    "We build a set with known keys. After that we filter out names with known titles, and print first twenty of them. We see that we have already `\"Mrs\"` and `\"Mr\"`. Let's find others."
   ]
  },
  {
   "cell_type": "code",
   "execution_count": 30,
   "metadata": {},
   "outputs": [
    {
     "name": "stdout",
     "output_type": "stream",
     "text": [
      "\"Heikkinen, Miss. Laina\"\n",
      "\"Palsson, Master. Gosta Leonard\"\n",
      "\"Sandstrom, Miss. Marguerite Rut\"\n",
      "\"Bonnell, Miss. Elizabeth\"\n",
      "\"Vestrom, Miss. Hulda Amanda Adolfina\"\n",
      "\"Rice, Master. Eugene\"\n",
      "\"McGowan, Miss. Anna \"\"Annie\"\"\"\n",
      "\"Palsson, Miss. Torborg Danira\"\n",
      "\"O'Dwyer, Miss. Ellen \"\"Nellie\"\"\"\n",
      "\"Uruchurtu, Don. Manuel E\"\n",
      "\"Glynn, Miss. Mary Agatha\"\n",
      "\"Vander Planke, Miss. Augusta Maria\"\n",
      "\"Nicola-Yarred, Miss. Jamila\"\n",
      "\"Laroche, Miss. Simonne Marie Anne Andree\"\n",
      "\"Devaney, Miss. Margaret Delia\"\n",
      "\"O'Driscoll, Miss. Bridget\"\n",
      "\"Panula, Master. Juha Niilo\"\n",
      "\"Rugg, Miss. Emily\"\n",
      "\"West, Miss. Constance Mirium\"\n",
      "\"Goodwin, Master. William Frederick\"\n"
     ]
    }
   ],
   "source": [
    "// build incrementally a set with known keys\n",
    "HashSet<String> keys = new HashSet<>();\n",
    "keys.add(\"Mrs\");\n",
    "keys.add(\"Mr\");\n",
    "\n",
    "boolean inSet(String value, Set<String> set) {\n",
    "    for(String key : set) {\n",
    "        if(value.contains(key))\n",
    "            return false;\n",
    "    }\n",
    "    return true;\n",
    "}\n",
    "\n",
    "// filter out names with known keys\n",
    "// print first twenty to inspect and see other keys\n",
    "train.rvar(\"Name\").stream().mapToString().filter(txt -> inSet(txt,keys))\n",
    "    .limit(20).forEach(WS::println);"
   ]
  },
  {
   "cell_type": "markdown",
   "metadata": {},
   "source": [
    "\n",
    "\n",
    "\n",
    "\n",
    "\n"
   ]
  },
  {
   "cell_type": "markdown",
   "metadata": {},
   "source": [
    "We reduced our search and found other titles like `\"Miss\"`, `\"Master\"`. We arrive at the following set of keys:"
   ]
  },
  {
   "cell_type": "code",
   "execution_count": 31,
   "metadata": {},
   "outputs": [
    {
     "name": "stdout",
     "output_type": "stream",
     "text": [
      "?  Mr Mrs Miss Master Don Rev Dr Mme Ms Major Lady Sir Mlle Col Capt Countess Jonkheer \n",
      "-  -- --- ---- ------ --- --- -- --- -- ----- ---- --- ---- --- ---- -------- -------- \n",
      "0 517 125 182    40    1   6  7   1  1    2    1    1   2    2   1      1        1     \n",
      "\n"
     ]
    }
   ],
   "source": [
    "HashSet<String> keys = new HashSet<>();\n",
    "keys.addAll(Arrays.asList(\"Mrs\", \"Mme\", \"Lady\", \"Countess\", \"Mr\", \"Sir\",\"Don\", \"Ms\", \"Miss\", \n",
    "\"Mlle\", \"Master\", \"Dr\",\"Col\", \"Major\", \"Jonkheer\", \"Capt\", \"Rev\"));\n",
    "\n",
    "VarNominal title = train.rvar(\"Name\").stream().mapToString().map(txt -> {\n",
    "    for(String key : keys)\n",
    "        if(txt.contains(\" \" + key + \". \"))\n",
    "            return key;\n",
    "    return \"?\";\n",
    "}).collect(VarNominal.collector());\n",
    "DensityVector.fromLevelCounts(true, title).printSummary();"
   ]
  },
  {
   "cell_type": "markdown",
   "metadata": {},
   "source": [
    "We note that we exhausted training data. This is enough. It is possible that in test data to appear new titles. We will consider them missing values. That is why we return `\"?\"` when no matching is found. Another thing to notice is that some of the labels have few number of appearances. We will merge them in a greater category.\n",
    "\n",
    "Another useful feature built in `rapaio` is filters. There are two types of filters: variable filters and frame filters. The nice part of frame filters is that learning algorithms are able to use frame filters naturally, in order to make feature transformations on data. This kind of filters are called *input filters* from the learning algorithm perspective. It is important that you know that input filters transforms features before train phase and also on fit phase.\n",
    "\n",
    "We will build a learning filter to create a new feature."
   ]
  },
  {
   "cell_type": "code",
   "execution_count": 32,
   "metadata": {},
   "outputs": [],
   "source": [
    "class TitleFilter implements FFilter {\n",
    "    private final Map<String, String[]> replaceMap = Map.of(\n",
    "            \"Mrs\", new String[]{\"Mrs\", \"Mme\", \"Lady\", \"Countess\"},\n",
    "            \"Mr\", new String[]{\"Mr\", \"Sir\", \"Don\", \"Ms\"},\n",
    "            \"Miss\", new String[]{\"Miss\", \"Mlle\"},\n",
    "            \"Master\", new String[]{\"Master\"},\n",
    "            \"Dr\", new String[]{\"Dr\"},\n",
    "            \"Military\", new String[]{\"Col\", \"Major\", \"Jonkheer\", \"Capt\"},\n",
    "            \"Rev\", new String[]{\"Rev\"}\n",
    "    );\n",
    "    private final Function<String, String> titleFun = txt -> {\n",
    "        for (Map.Entry<String, String[]> e : replaceMap.entrySet()) {\n",
    "            for (int i = 0; i < e.getValue().length; i++) {\n",
    "                if (txt.contains(\" \" + e.getValue()[i] + \". \"))\n",
    "                    return e.getKey();\n",
    "            }\n",
    "        }\n",
    "        return \"?\";\n",
    "    };\n",
    "\n",
    "    @Override\n",
    "    public void fit(Frame df) {\n",
    "    }\n",
    "\n",
    "    @Override\n",
    "    public Frame apply(Frame df) {\n",
    "        VarNominal title = VarNominal.empty(0, new ArrayList<>(replaceMap.keySet())).name(\"Title\");\n",
    "        df.rvar(\"Name\").stream().mapToString().forEach(name -> title.addLabel(titleFun.apply(name)));\n",
    "        return df.bindVars(title);\n",
    "    }\n",
    "\n",
    "    @Override\n",
    "    public TitleFilter newInstance() {\n",
    "        return new TitleFilter();\n",
    "    }\n",
    "\n",
    "    public String[] varNames() {\n",
    "        return new String[0];\n",
    "    }\n",
    "}"
   ]
  },
  {
   "cell_type": "markdown",
   "metadata": {},
   "source": [
    "Now let's try a new random forest on the reduced data set and also on title."
   ]
  },
  {
   "cell_type": "code",
   "execution_count": 33,
   "metadata": {},
   "outputs": [
    {
     "name": "stdout",
     "output_type": "stream",
     "text": [
      "Model:\n",
      "CForest{model=CTree,poolSize=4,rowSampler=Bootstrap(p=1),runs=300}\n",
      "CV score in training data\n",
      "=========================\n",
      "    dataset  metric    mean       std    \n",
      "[0]    test Accuracy 0.8360549 0.0470154 \n",
      "[1]   train Accuracy 0.9102123 0.0034569 \n",
      "\n",
      "\n"
     ]
    }
   ],
   "source": [
    "RandomSource.setSeed(124);\n",
    "\n",
    "\n",
    "FrameTransform transform = FrameTransform.newTransform()\n",
    "    .filters.add(FCopy.filter())\n",
    "    .filters.add(new TitleFilter());\n",
    "\n",
    "Frame df_train = transform.fapply(train);\n",
    "Frame df_test = transform.apply(test);\n",
    "\n",
    "CForest rf = CForest.newModel().model.set(CTree.newCART().minCount.set(3)).runs.set(300).poolSize.set(4);\n",
    "\n",
    "ClassifierEvaluation.cv(df_train.mapVars(\"Survived,Sex,Pclass,Embarked,Age,Fare,SibSp,Parch,Title\"), \"Survived\", rf, 10, Accuracy.newMetric(true)).run().printContent();"
   ]
  },
  {
   "cell_type": "markdown",
   "metadata": {},
   "source": [
    "Now that looks slightly better than our best classifierModel. We submit that to kaggle to see if there is any improvement.\n",
    "\n",
    "![Progress after incorporating title name into input features](images/titanic-rf1-model.png)\n",
    "\n",
    "### 5.2 Other features\n",
    "\n",
    "There are various authors which published their work on solving this kaggle competition. Most interesting part of their work is the feature engineering section. I developed here some ideas in order to show how one can do this with the library.\n",
    "\n",
    "#### 5.2.1 Family size\n",
    "\n",
    "Using directly `\"SibSp\"` and `\"Parch\"` fields yields no value for a random forest classifierModel. Studying this two features it looks like those values can be both combined into a single one by summation. This would give us a family size estimator.\n",
    "\n",
    "In order to have an idea of the performance of this new estimator I used a ChiSquare independence test. The idea is to study if those features taken separately worth less than combined."
   ]
  },
  {
   "cell_type": "code",
   "execution_count": 34,
   "metadata": {},
   "outputs": [
    {
     "name": "stdout",
     "output_type": "stream",
     "text": [
      "> ChiSqIndependence\n",
      "\n",
      "Pearson's Chi-squared test with Yates' continuity correction\n",
      "\n",
      "X-squared = 31.9279202, df = 6, p-value = 0.0000168\n",
      "\n",
      "Observed data:\n",
      "      1.0 0.0 3.0 4.0 2.0 5.0 8.0 total \n",
      "    0  97 398 12  15  15   5   7   549  \n",
      "    1 112 210  4   3  13   0   0   342  \n",
      "total 209 608 16  18  28   5   7   891  \n",
      "\n",
      "Expected data:\n",
      "              1.0         0.0        3.0        4.0        2.0       5.0       8.0 total \n",
      "    0 128.7777778 374.6262626  9.8585859 11.0909091 17.2525253 3.0808081 4.3131313  549  \n",
      "    1  80.2222222 233.3737374  6.1414141  6.9090909 10.7474747 1.9191919 2.6868687  342  \n",
      "total 209         608         16         18         28         5         7          891  \n",
      "\n",
      "\n",
      "> ChiSqIndependence\n",
      "\n",
      "Pearson's Chi-squared test with Yates' continuity correction\n",
      "\n",
      "X-squared = 23.3892671, df = 6, p-value = 0.0006761\n",
      "\n",
      "Observed data:\n",
      "      0.0 1.0 2.0 5.0 3.0 4.0 6.0 total \n",
      "    0 445  53 40   4   2   4   1   549  \n",
      "    1 233  65 40   1   3   0   0   342  \n",
      "total 678 118 80   5   5   4   1   891  \n",
      "\n",
      "Expected data:\n",
      "              0.0         1.0        2.0       5.0       3.0       4.0       6.0 total \n",
      "    0 417.7575758  72.7070707 49.2929293 3.0808081 3.0808081 2.4646465 0.6161616  549  \n",
      "    1 260.2424242  45.2929293 30.7070707 1.9191919 1.9191919 1.5353535 0.3838384  342  \n",
      "total 678         118         80         5         5         4         1          891  \n",
      "\n",
      "\n",
      "> ChiSqIndependence\n",
      "\n",
      "Pearson's Chi-squared test with Yates' continuity correction\n",
      "\n",
      "X-squared = 72.6627665, df = 8, p-value =   1.45e-12\n",
      "\n",
      "Observed data:\n",
      "        2   1  5   3  7  6  4 8 11 total \n",
      "    0  72 374 12  43  8 19  8 6 7   549  \n",
      "    1  89 163  3  59  4  3 21 0 0   342  \n",
      "total 161 537 15 102 12 22 29 6 7   891  \n",
      "\n",
      "Expected data:\n",
      "                2           1          5           3          7          6          4         8        11 total \n",
      "    0  99.2020202 330.8787879  9.2424242  62.8484848  7.3939394 13.5555556 17.8686869 3.6969697 4.3131313  549  \n",
      "    1  61.7979798 206.1212121  5.7575758  39.1515152  4.6060606  8.4444444 11.1313131 2.3030303 2.6868687  342  \n",
      "total 161         537         15         102         12         22         29         6         7          891  \n",
      "\n",
      "\n"
     ]
    }
   ],
   "source": [
    "// convert sibsp and parch to nominal types to be able to use a chi-square test\n",
    "Var sibsp = VarNominal.from(train.rowCount(), row -> train.getLabel(row, \"SibSp\"));\n",
    "Var parch = VarNominal.from(train.rowCount(), row -> train.getLabel(row, \"Parch\"));\n",
    "\n",
    "// test individually each feature\n",
    "ChiSqIndependence.from(train.rvar(\"Survived\"), sibsp, true).printSummary();\n",
    "ChiSqIndependence.from(train.rvar(\"Survived\"), parch, true).printSummary();\n",
    "\n",
    "// build a combined feature by summation, as nominal\n",
    "VarNominal familySize = VarNominal.from(train.rowCount(),\n",
    "row -> \"\" + (1 + train.getInt(row, \"SibSp\") + train.getInt(row, \"Parch\")));\n",
    "\n",
    "// run the chi-square test on sumation\n",
    "ChiSqIndependence.from(train.rvar(\"Survived\"), familySize, true).printSummary();"
   ]
  },
  {
   "cell_type": "markdown",
   "metadata": {},
   "source": [
    "How we can interpret the result? The test says that each feature brings value separately. The *p-value* associated with both test could be considered significant. That means there are string evidence that those features are not independent of target class. As a conclusion, those features are useful. The last test is made for their summation. It looks like he test is more significant than the previous two. As a consequence we can use the summation instead of those two values taken independently.\n",
    "\n",
    "### 5.3 Cabin and Ticket\n",
    "\n",
    "It seems that cabin and ticket denominations are not useful as they are. There are some various reasons why not to do so. First of all they have many missing values. But a stringer reason is that both have too many levels to contain solid generalization base for learning.\n",
    "\n",
    "If we take only the first letter from each of those two fields, more generalization can happen. This is probably due to the fact that perhaps there is some localization information encoded in those. Perhaps information about the deck, the comfort level, auxiliary functions is encoded in there. As a conclusion it worth a try so we proceed with this thing.\n",
    "\n",
    "To combine all those things we can do it in a single filter or into many filters applied on data. I chose to do a single custom filter to solve all those problems."
   ]
  },
  {
   "cell_type": "code",
   "execution_count": 35,
   "metadata": {},
   "outputs": [],
   "source": [
    "class CustomFilter implements FFilter {\n",
    "\n",
    "    private final Map<String, String[]> replaceMap = Map.of(\n",
    "            \"Mrs\", new String[] {\"Mrs\", \"Mme\", \"Lady\", \"Countess\"},\n",
    "            \"Mr\", new String[] {\"Mr\", \"Sir\", \"Don\", \"Ms\"},\n",
    "            \"Miss\", new String[] {\"Miss\", \"Mlle\"},\n",
    "            \"Master\", new String[] {\"Master\"},\n",
    "            \"Dr\", new String[] {\"Dr\"},\n",
    "            \"Military\", new String[] {\"Col\", \"Major\", \"Jonkheer\", \"Capt\"},\n",
    "            \"Rev\", new String[] {\"Rev\"}\n",
    "    );\n",
    "    private final Function<String, String> titleFun = txt -> {\n",
    "        for (var e : replaceMap.entrySet()) {\n",
    "            for (int i = 0; i < e.getValue().length; i++) {\n",
    "                if (txt.contains(\" \" + e.getValue()[i] + \". \"))\n",
    "                    return e.getKey();\n",
    "            }\n",
    "        }\n",
    "        return \"?\";\n",
    "    };\n",
    "\n",
    "    public void fit(Frame df) {\n",
    "    }\n",
    "\n",
    "    public Frame apply(Frame df) {\n",
    "        VarNominal title = VarNominal.empty(0, new ArrayList<>(replaceMap.keySet())).name(\"Title\");\n",
    "        df.rvar(\"Name\").stream().mapToString().forEach(name -> title.addLabel(titleFun.apply(name)));\n",
    "\n",
    "        Var famSize = VarDouble.from(df.rowCount(), r -> 1.0 + df.getInt(r, \"SibSp\") + df.getInt(r, \"Parch\")).name(\"FamilySize\");\n",
    "        Var ticket = VarNominal.from(df.rowCount(), r -> df.getLabel(r, \"Ticket\").substring(0, 1).toUpperCase()).name(\"Ticket\");\n",
    "        Var cabin = VarNominal.from(df.rowCount(), r -> df.getLabel(r, \"Cabin\").substring(0, 1).toUpperCase()).name(\"Cabin\");\n",
    "\n",
    "        return df.removeVars(\"Ticket,Cabin\").bindVars(famSize, ticket, cabin, title).copy();\n",
    "    }\n",
    "\n",
    "    public CustomFilter newInstance() {\n",
    "        return new CustomFilter();\n",
    "    }\n",
    "\n",
    "    public String[] varNames() {\n",
    "        return new String[0];\n",
    "    }\n",
    "}"
   ]
  },
  {
   "cell_type": "markdown",
   "metadata": {},
   "source": [
    "### 5.4 Another try with random forests\n",
    "\n",
    "So we have some new features and we look to learn from them. We can use a previous classifierModel like random forests to test it before submit.\n",
    "\n",
    "But we know that we are in danger to overfit is rf. One idea is to transform numeric features into nominal ones by a process named discretization. For this purpose we use a filter from the library called `FQuantileDiscrete`. This filter computes a given number of quantile intervals and put labels according with those intervals on numerical values. Let's see how we proceed and how the data looks like:\n"
   ]
  },
  {
   "cell_type": "code",
   "execution_count": 36,
   "metadata": {},
   "outputs": [
    {
     "name": "stdout",
     "output_type": "stream",
     "text": [
      "Frame Summary\n",
      "=============\n",
      "* rowCount: 891\n",
      "* complete: 183/891\n",
      "* varCount: 12\n",
      "* varNames: \n",
      "\n",
      " 0.   Survived : nom |  4.      SibSp : nom |  8. FamilySize : nom | \n",
      " 1.     Pclass : nom |  5.      Parch : nom |  9.     Ticket : nom | \n",
      " 2.        Sex : nom |  6.       Fare : nom | 10.      Cabin : nom | \n",
      " 3.        Age : nom |  7.   Embarked : nom | 11.      Title : nom | \n",
      "\n",
      "* summary: \n",
      " Survived [nom]  Pclass [nom]      Sex [nom]       Age [nom]    SibSp [nom]    Parch [nom]            Fare [nom]  Embarked [nom]  FamilySize [nom]    Ticket [nom]     Cabin [nom]     Title [nom] \n",
      "      0 :   549     3 :   491   male :   577 31.8~36 :    91 -Inf~0 :   608 -Inf~0 :   678    7.854~8.05 :   106       S :   644    -Inf~1 :   537       3 :   301       C :    59      Mr :   520 \n",
      "      1 :   342     1 :   216 female :   314   14~19 :    87  0~Inf :   283  0~Inf :   213     -Inf~7.55 :    92       C :   168       1~2 :   161       2 :   183       B :    47    Miss :   184 \n",
      "                    2 :   184                  41~50 :    78                                   27~39.688 :    91       Q :    77       2~3 :   102       1 :   146       D :    33     Mrs :   128 \n",
      "                                             -Inf~14 :    77                               39.688~77.958 :    89                     3~Inf :    91       P :    65       E :    32  Master :    40 \n",
      "                                             (Other) :   381                                   21.679~27 :    89                                         S :    65 (Other) :    33      Dr :     7 \n",
      "                                                 NAs :   177                                     (Other) :   424     NAs :     2                   (Other) :   131     NAs :   687 (Other) :    12 \n",
      "                                                                                                                                                                                                   \n",
      "\n",
      "\n"
     ]
    }
   ],
   "source": [
    "var transform = FrameTransform.newTransform()\n",
    "    .filters.add(FCopy.filter())\n",
    "    .filters.add(new CustomFilter())\n",
    "    .filters.add(FQuantileDiscrete.split(VarRange.of(\"Age\"), 10))\n",
    "    .filters.add(FQuantileDiscrete.split(VarRange.of(\"Fare\"), 10))\n",
    "    .filters.add(FQuantileDiscrete.split(VarRange.of(\"SibSp\"), 3))\n",
    "    .filters.add(FQuantileDiscrete.split(VarRange.of(\"Parch\"), 3))\n",
    "    .filters.add(FQuantileDiscrete.split(VarRange.of(\"FamilySize\"), 8))\n",
    "    .filters.add(FRemoveVars.remove(VarRange.of(\"PassengerId,Name\")));\n",
    "\n",
    "// print a summary of the transformed data\n",
    "transform.fapply(train).printSummary();"
   ]
  },
  {
   "cell_type": "markdown",
   "metadata": {},
   "source": [
    "We can see that `\"Age\"` values are now intervals and still $177$ missing values.\n",
    "\n",
    "The values chosen for quantile numbers is more or less arbitrary. There is no *good* numbers in general, only for some specific purposes.\n",
    "\n",
    "As promised, we will give a try to another random forest to see if it can better generalize."
   ]
  },
  {
   "cell_type": "code",
   "execution_count": 37,
   "metadata": {},
   "outputs": [
    {
     "name": "stdout",
     "output_type": "stream",
     "text": [
      "Model:\n",
      "CForest{rowSampler=Bootstrap(p=1),runs=200}\n",
      "CV score in training data\n",
      "=========================\n",
      "    dataset  metric    mean       std    \n",
      "[0]    test Accuracy 0.8192884 0.0234768 \n",
      "[1]   train Accuracy 0.908592  0.0028867 \n",
      "\n",
      "\n"
     ]
    }
   ],
   "source": [
    "RandomSource.setSeed(123);\n",
    "CForest rf3 = CForest.newModel().runs.set(200);\n",
    "\n",
    "tr = transform.fapply(train);\n",
    "\n",
    "rf3.fit(tr, \"Survived\");\n",
    "ClassifierEvaluation.cv(tr, \"Survived\", rf3, 10, Accuracy.newMetric()).run().printContent();"
   ]
  },
  {
   "cell_type": "markdown",
   "metadata": {},
   "source": [
    "I tried some ideas to make the forest to generalize better.\n",
    "\n",
    "* Smaller bootstrap percentage - this could lead to increased independence of trees\n",
    "* Use `GainRatio` as purity function because sometimes is more conservative\n",
    "* Use `MinGain` to avoid growing trees to have many leaves with a single instance\n",
    "* Use `mCols=4`, number of variables used for testing - more than default value, to improve the quality of each tree\n",
    "\n",
    "These are the results. At a first look might seem like an astonishing result. But we know that the irreducible error for this data set is high and is close to $0.2$. It seems obvious that we failed to reduce the variance and we still overfit a lot using this construct. Since this is a tutorial I will not insist on improving this model, but I think that even if it would be improved, the gain would be very small. Perhaps another approach would be better."
   ]
  },
  {
   "cell_type": "markdown",
   "metadata": {},
   "source": [
    "## 6. SVM model\n",
    "\n",
    "SVM (Support Vector Machines) is a nice framework to test new ideas for various types of problems. The power of SMVs comes from their kernels. A kernel is basically a transformation of the original space generated by the input features into another space, often with more dimensions. It's like a feature engineering in a singe function.\n",
    "\n",
    "But SVMs have a practical problem. The features needs to be numeric and does not allows missing values. This is not a constrain on the algorithm itself. At any moment one can build a kernel for nominal features. But the implemented ones allows only numeric non missing values and is much simpler to shape our data into this format.\n",
    "\n",
    "How can we do that?\n",
    "\n",
    "### 6.1 Data preparation\n",
    "\n",
    "We can use a filter to impute data for missing values. The filter we use is an imputation with a classifierModel of imputation with a regression. The logic is the following: train a classifierModel from a specified set of input features to predict the field with missing values. The data set inside the filter is filtered to contain only instances with non-missing target values.\n",
    "\n",
    "After we impute the missing values we encode nominal features into numeric features. We can accomplish this task using, again, another filter for this purpose. The name of this filter is `FOneHotEncoding`. What it does is to create a number of numeric feature for level of the nominal variable. Than the values on these numeric variables receives the value of the indicator function. We have $1$ if the level equals the numeric variable's name, $0$ otherwise.\n",
    "\n",
    "After we have numerical variables, is better to make all the variables to be in the same range. This is not a requirement for SMVs in general. The meaning is to give same weight to all the involved variables. As a side effect it makes the algorithm to run faster. This is due to the fact that the convex optimization problem has smaller chances to have a close-to-flat big surfaces.\n",
    "\n",
    "Finally, we will remove the not used variables from the frame in order to be prepared for learning."
   ]
  },
  {
   "cell_type": "code",
   "execution_count": 54,
   "metadata": {},
   "outputs": [
    {
     "name": "stdout",
     "output_type": "stream",
     "text": [
      "Frame Summary\n",
      "=============\n",
      "* rowCount: 891\n",
      "* complete: 891/891\n",
      "* varCount: 44\n",
      "* varNames: \n",
      "\n",
      " 0.       Survived : nom |  8.     Embarked.S : bin | 16.       Ticket.3 : bin | 24.       Ticket.9 : bin | 32.        Cabin.A : bin | 40. Title.Military : bin | \n",
      " 1.       Pclass.3 : bin |  9.     Embarked.C : bin | 17.       Ticket.2 : bin | 25.       Ticket.6 : bin | 33.        Cabin.B : bin | 41.       Title.Dr : bin | \n",
      " 2.       Pclass.1 : bin | 10.     Embarked.Q : bin | 18.       Ticket.C : bin | 26.       Ticket.5 : bin | 34.        Cabin.F : bin | 42.       Title.Mr : bin | \n",
      " 3.       Pclass.2 : bin | 11.     FamilySize : dbl | 19.       Ticket.7 : bin | 27.       Ticket.8 : bin | 35.        Cabin.T : bin | 43.   Title.Master : bin | \n",
      " 4.       Sex.male : bin | 12.       Ticket.A : bin | 20.       Ticket.W : bin | 28.        Cabin.C : bin | 36.        Title.? : bin | \n",
      " 5.     Sex.female : bin | 13.       Ticket.P : bin | 21.       Ticket.4 : bin | 29.        Cabin.E : bin | 37.      Title.Mrs : bin | \n",
      " 6.            Age : dbl | 14.       Ticket.S : bin | 22.       Ticket.F : bin | 30.        Cabin.G : bin | 38.      Title.Rev : bin | \n",
      " 7.           Fare : dbl | 15.       Ticket.1 : bin | 23.       Ticket.L : bin | 31.        Cabin.D : bin | 39.     Title.Miss : bin | \n",
      "\n",
      "* summary: \n",
      " Survived [nom]  Pclass.3 [bin]  Pclass.1 [bin]  Pclass.2 [bin]  Sex.male [bin]  Sex.female [bin]       Age [dbl]           Fare [dbl]       Embarked.S [bin]  Embarked.C [bin]  Embarked.Q [bin]  FamilySize [dbl]      \n",
      "      0 :   549 0 :         400 0 :         675 0 :         707 0 :         314 0 :           577    Min. : -2.1230285    Min. : -0.6480577 0 :           246 0 :           722 0 :           814      Min. : -0.5606599 \n",
      "      1 :   342 1 :         491 1 :         216 1 :         184 1 :         577 1 :           314 1st Qu. : -0.6276938 1st Qu. : -0.4888737 1 :           645 1 :           169 1 :            77   1st Qu. : -0.5606599 \n",
      "                NAs :         0 NAs :         0 NAs :         0 NAs :         0 NAs :           0  Median : -0.0787372  Median : -0.3571902 NAs :           0 NAs :           0 NAs :           0    Median : -0.5606599 \n",
      "                                                                                                     Mean : -0.0000000    Mean :  0.0000000                                                            Mean :  0.0000000 \n",
      "                                                                                                  2nd Qu. :  0.6075195 2nd Qu. : -0.0242327                                                         2nd Qu. :  0.0591267 \n",
      "                                                                                                     Max. :  3.6592229    Max. :  9.6617401                                                            Max. :  5.6372062 \n",
      "                                                                                                                                                                                                                         \n",
      "\n",
      " Ticket.A [bin]  Ticket.P [bin]  Ticket.S [bin]  Ticket.1 [bin]  Ticket.3 [bin]  Ticket.2 [bin]  Ticket.C [bin]  Ticket.7 [bin]  Ticket.W [bin]  Ticket.4 [bin]  Ticket.F [bin]  Ticket.L [bin]  Ticket.9 [bin]  Ticket.6 [bin] \n",
      "0 :         862 0 :         826 0 :         826 0 :         745 0 :         590 0 :         708 0 :         844 0 :         882 0 :         878 0 :         881 0 :         884 0 :         887 0 :         890 0 :         885 \n",
      "1 :          29 1 :          65 1 :          65 1 :         146 1 :         301 1 :         183 1 :          47 1 :           9 1 :          13 1 :          10 1 :           7 1 :           4 1 :           1 1 :           6 \n",
      "NAs :         0 NAs :         0 NAs :         0 NAs :         0 NAs :         0 NAs :         0 NAs :         0 NAs :         0 NAs :         0 NAs :         0 NAs :         0 NAs :         0 NAs :         0 NAs :         0 \n",
      "                                                                                                                                                                                                                                \n",
      "                                                                                                                                                                                                                                \n",
      "                                                                                                                                                                                                                                \n",
      "                                                                                                                                                                                                                                \n",
      "\n",
      " Ticket.5 [bin]  Ticket.8 [bin]  Cabin.C [bin]  Cabin.E [bin]  Cabin.G [bin]  Cabin.D [bin]  Cabin.A [bin]  Cabin.B [bin]  Cabin.F [bin]  Cabin.T [bin]  Title.? [bin]  Title.Mrs [bin]  Title.Rev [bin]  Title.Miss [bin] \n",
      "0 :         888 0 :         889 0 :        810 0 :        757 0 :        824 0 :        822 0 :        869 0 :        835 0 :        430 0 :        890 0 :        891 0 :          763 0 :          885 0 :           707 \n",
      "1 :           3 1 :           2 1 :         81 1 :        134 1 :         67 1 :         69 1 :         22 1 :         56 1 :        461 1 :          1 1 :          0 1 :          128 1 :            6 1 :           184 \n",
      "NAs :         0 NAs :         0 NAs :        0 NAs :        0 NAs :        0 NAs :        0 NAs :        0 NAs :        0 NAs :        0 NAs :        0 NAs :        0 NAs :          0 NAs :          0 NAs :           0 \n",
      "                                                                                                                                                                                                                           \n",
      "                                                                                                                                                                                                                           \n",
      "                                                                                                                                                                                                                           \n",
      "                                                                                                                                                                                                                           \n",
      "\n",
      " Title.Military [bin]  Title.Dr [bin]  Title.Mr [bin]  Title.Master [bin] \n",
      "0 :               885 0 :         884 0 :         371 0 :             851 \n",
      "1 :                 6 1 :           7 1 :         520 1 :              40 \n",
      "NAs :               0 NAs :         0 NAs :         0 NAs :             0 \n",
      "                                                                          \n",
      "                                                                          \n",
      "                                                                          \n",
      "                                                                          \n",
      "\n",
      "\n",
      "\n"
     ]
    }
   ],
   "source": [
    "var transform = FrameTransform.newTransform()\n",
    "                .filters.add(FCopy.filter())\n",
    "                .filters.add(new CustomFilter())\n",
    "                .filters.add(FImputeRegression.of(RForest.newRF().runs.set(100), VarRange.of(\"Age,Pclass,Embarked,Sex,Fare,Title\"), \"Age\"))\n",
    "                .filters.add(FImputeClassifier.of(CForest.newModel().runs.set(10), VarRange.of(\"Embarked,Age,Pclass,Sex,Title\"), \"Embarked\"))\n",
    "                .filters.add(FImputeClassifier.of(CForest.newModel().runs.set(100), VarRange.of(\"Age,Pclass,Embarked,Sex,Fare,Ticket\"),\"Ticket\"))\n",
    "                .filters.add(FImputeClassifier.of(CForest.newModel().runs.set(100), VarRange.of(\"Age,Pclass,Embarked,Sex,Fare,Cabin\"), \"Cabin\"))\n",
    "                .filters.add(FOneHotEncoding.on(\"Title\"))\n",
    "                .filters.add(FOneHotEncoding.on(false, false, \"Embarked,Sex,Ticket,Cabin,Pclass\"))\n",
    "                .filters.add(FStandardize.on(VarRange.onlyTypes(VarType.DOUBLE)))\n",
    "                .filters.add(FRemoveVars.remove(VarRange.of(\"PassengerId,Name,SibSp,Parch\")));\n",
    "transform.fapply(train).printSummary();"
   ]
  },
  {
   "cell_type": "markdown",
   "metadata": {},
   "source": [
    "There is a lot of content. Notice that we have numerical variables for each ticket first letter, title, cabin first letter, etc.\n",
    "## Train a polynomial SVM\n",
    "A linear kernel is a polynomial kernel with degree 1. We let the $C$ parameter to the default value which is $1$."
   ]
  },
  {
   "cell_type": "code",
   "execution_count": 94,
   "metadata": {},
   "outputs": [
    {
     "name": "stdout",
     "output_type": "stream",
     "text": [
      "Model:\n",
      "SVMClassifier{kernel=PolyKernel(exp=1,bias=1,slope=1),probability=true}\n",
      "Raw scores:\n",
      "===========\n",
      "     dataset round fold Accuracy       dataset round fold Accuracy       dataset round fold Accuracy       dataset round fold Accuracy  \n",
      " [0]    test     0    0 0.8        [5]    test     0    5 0.8539326 [10]   train     0    0 0.8489388 [15]   train     0    5 0.8379052 \n",
      " [1]    test     0    1 0.8988764  [6]    test     0    6 0.8651685 [11]   train     0    1 0.8366584 [16]   train     0    6 0.8416459 \n",
      " [2]    test     0    2 0.8089888  [7]    test     0    7 0.7752809 [12]   train     0    2 0.840399  [17]   train     0    7 0.8491272 \n",
      " [3]    test     0    3 0.8651685  [8]    test     0    8 0.8876404 [13]   train     0    3 0.8341646 [18]   train     0    8 0.840399  \n",
      " [4]    test     0    4 0.8426966  [9]    test     0    9 0.7640449 [14]   train     0    4 0.8441397 [19]   train     0    9 0.8503741 \n",
      "\n",
      "Round scores:\n",
      "=============\n",
      "    dataset round Accuracy_mean Accuracy_std \n",
      "[0]    test     0   0.8361798    0.0442468   \n",
      "[1]   train     0   0.8423752    0.0053309   \n",
      "\n",
      "CV score in training data\n",
      "=========================\n",
      "    dataset  metric    mean       std    \n",
      "[0]    test Accuracy 0.8361798 0.0466403 \n",
      "[1]   train Accuracy 0.8423752 0.0056193 \n",
      "\n",
      "\n"
     ]
    }
   ],
   "source": [
    "var model = new SvmClassifier()\n",
    "    .c.set(1.0)\n",
    "    .kernel.set(new PolyKernel(1))\n",
    "    .probability.set(true);\n",
    "\n",
    "var tr = transform.fapply(train);\n",
    "model.fit(tr, \"Survived\");\n",
    "\n",
    "ClassifierEvaluation.cv(tr, \"Survived\", model, 10, Accuracy.newMetric()).run().printFullContent();"
   ]
  },
  {
   "cell_type": "code",
   "execution_count": 92,
   "metadata": {},
   "outputs": [
    {
     "name": "stdout",
     "output_type": "stream",
     "text": [
      "Model:\n",
      "SVMClassifier{cost=0.01,kernel=PolyKernel(exp=3,bias=1,slope=1),probability=true}\n",
      "CV score in training data\n",
      "=========================\n",
      "    dataset  metric    mean       std    \n",
      "[0]    test Accuracy 0.8359848 0.0453235 \n",
      "[1]   train Accuracy 0.9018841 0.0028349 \n",
      "\n",
      "\n"
     ]
    }
   ],
   "source": [
    "var model = new SvmClassifier()\n",
    "    .c.set(0.01)\n",
    "    .kernel.set(new PolyKernel(3))\n",
    "    .probability.set(true);\n",
    "\n",
    "var tr = transform.fapply(train);\n",
    "model.fit(tr, \"Survived\");\n",
    "\n",
    "ClassifierEvaluation.cv(tr, \"Survived\", model, 20, Accuracy.newMetric()).run().printContent();"
   ]
  },
  {
   "cell_type": "markdown",
   "metadata": {},
   "source": [
    "The results are not promising. This is better than random but it is not enough for our purpose. There are some explanations for this result. First one could be that if the space would be linear, than the original feature space would be the same as transformed. This means that a classifierModel as random forest would work well if the linear svm would have worked. This might not be true in general, but in this case it looks like a good explanation. We need to be more flexible.\n",
    "\n",
    "To increase the flexibility of the model and to allow features to interact with one another we change the degree of the polynomial kernel. This time we will use `degree=3`. Also, we use $$C=0.0001$$ to allow for some errors. This parameter is the factor of the slack regularization constraints of the SVM optimization problem. The bigger the value the more is the penalty for wrong decisions. If the space would be linear separable than one can theoretically set this value as high as possible. But we know it is not. Also we know that we have plenty of irreducible error. As a consequence, it looks like we should decrease the value of this parameter."
   ]
  },
  {
   "cell_type": "markdown",
   "metadata": {},
   "source": [
    "```java\n",
    "Classifier model = new BinarySMO()\n",
    ".withInputFilters(inputFilters)\n",
    ".withC(0.0001)\n",
    ".withKernel(new PolyKernel(1));\n",
    "model.train(train, \"Survived\");\n",
    "CFit fit = model.fit(test);\n",
    "new Confusion(train.getVar(\"Survived\"), model.fit(train).firstClasses()).printSummary();\n",
    "Csv.instance().withQuotes(false).write(SolidFrame.wrapOf(\n",
    "test.getVar(\"PassengerId\"),\n",
    "fit.firstClasses().withName(\"Survived\")\n",
    "), root + \"svm1-submit.csv\");\n",
    "cv(train, model);\n",
    "```"
   ]
  },
  {
   "cell_type": "markdown",
   "metadata": {},
   "source": [
    "```\n",
    "> Confusion\n",
    "\n",
    "Ac\\Pr | 0 1 | total\n",
    "----- | - - | -----\n",
    "0 | >472 77 | 549\n",
    "1 | 48 >294 | 342\n",
    "----- | - - | -----\n",
    "total | 520 371 | 891\n",
    "\n",
    "\n",
    "Complete cases 891 from 891\n",
    "Acc: 0.8597082 (Accuracy )\n",
    "F1: 0.8830683 (F1 score / F-measure)\n",
    "MCC: 0.7097044 (Matthew correlation coefficient)\n",
    "Pre: 0.9076923 (Precision)\n",
    "Rec: 0.859745 (Recall)\n",
    "G: 0.8833934 (G-measure)\n",
    "Cross validation 10-fold\n",
    "CV fold: 1, acc: 0.822222, mean: 0.822222, se: NaN\n",
    "CV fold: 2, acc: 0.786517, mean: 0.804370, se: 0.025248\n",
    "CV fold: 3, acc: 0.853933, mean: 0.820891, se: 0.033728\n",
    "CV fold: 4, acc: 0.808989, mean: 0.817915, se: 0.028174\n",
    "CV fold: 5, acc: 0.797753, mean: 0.813883, se: 0.026012\n",
    "CV fold: 6, acc: 0.786517, mean: 0.809322, se: 0.025809\n",
    "CV fold: 7, acc: 0.831461, mean: 0.812484, se: 0.025002\n",
    "CV fold: 8, acc: 0.876404, mean: 0.820474, se: 0.032350\n",
    "CV fold: 9, acc: 0.764045, mean: 0.814204, se: 0.035631\n",
    "CV fold:10, acc: 0.820225, mean: 0.814806, se: 0.033647\n",
    "=================\n",
    "mean: 0.814806, se: 0.033647\n",
    "```"
   ]
  },
  {
   "cell_type": "markdown",
   "metadata": {},
   "source": [
    "This time the results are promising. We achieved a training error which is not close to zero and the cross validation errors are close to our desired results. We definitely should try this classifierModel."
   ]
  },
  {
   "cell_type": "markdown",
   "metadata": {},
   "source": [
    "![SVM1](images/titanic-svm1-submit.png)"
   ]
  },
  {
   "cell_type": "markdown",
   "metadata": {},
   "source": [
    "We have a better score also on public leader board. Which is very fine. Usually in this competition a score in $$0.75-0.78$$ is fine and one in $$0.78-0.81$$ is excellent.\n",
    "\n",
    "## Tuning manually the SVM\n",
    "\n",
    "We can work more on SVMs. One thing which deserves a try is the radial basis kernel. This is similar with working in an infinite dimensional space! We tried some `RBFKernel` approaches, but much better results gave the `CauchyKernel`. The `CauchyKernel` works in a similar way like a RBF kernel. The difference which sometimes is important is that it is a distribution with tails fatter than Gaussian distribution. This produces an effect of long distance influence. This is reasonable to use in this problem because we know we have noise. We can think that a kernel which acts on wider ranges is better if it is combined with a small value for $$C$$.\n",
    "\n",
    "After some manual tuning we arrived at the following classifierModel."
   ]
  },
  {
   "cell_type": "markdown",
   "metadata": {},
   "source": [
    "```java\n",
    "Classifier model = new BinarySMO()\n",
    ".withInputFilters(inputFilters)\n",
    ".withC(1)\n",
    ".withTol(1e-10)\n",
    ".withKernel(new CauchyKernel(25));\n",
    "```"
   ]
  },
  {
   "cell_type": "markdown",
   "metadata": {},
   "source": [
    "```\n",
    "> Confusion\n",
    "\n",
    "Ac\\Pr | 0 1 | total\n",
    "----- | - - | -----\n",
    "0 | >520 29 | 549\n",
    "1 | 104 >238 | 342\n",
    "----- | - - | -----\n",
    "total | 624 267 | 891\n",
    "\n",
    "\n",
    "Complete cases 891 from 891\n",
    "Acc: 0.8507295 (Accuracy )\n",
    "F1: 0.8866155 (F1 score / F-measure)\n",
    "MCC: 0.6826819 (Matthew correlation coefficient)\n",
    "Pre: 0.8333333 (Precision)\n",
    "Rec: 0.9471767 (Recall)\n",
    "G: 0.8884334 (G-measure)\n",
    "Cross validation 10-fold\n",
    "CV fold: 1, acc: 0.811111, mean: 0.811111, se: NaN\n",
    "CV fold: 2, acc: 0.786517, mean: 0.798814, se: 0.017391\n",
    "CV fold: 3, acc: 0.865169, mean: 0.820932, se: 0.040235\n",
    "CV fold: 4, acc: 0.797753, mean: 0.815137, se: 0.034836\n",
    "CV fold: 5, acc: 0.831461, mean: 0.818402, se: 0.031040\n",
    "CV fold: 6, acc: 0.842697, mean: 0.822451, se: 0.029481\n",
    "CV fold: 7, acc: 0.820225, mean: 0.822133, se: 0.026926\n",
    "CV fold: 8, acc: 0.820225, mean: 0.821895, se: 0.024937\n",
    "CV fold: 9, acc: 0.797753, mean: 0.819212, se: 0.024676\n",
    "CV fold:10, acc: 0.831461, mean: 0.820437, se: 0.023585\n",
    "=================\n",
    "mean: 0.820437, se: 0.023585\n",
    "```"
   ]
  },
  {
   "cell_type": "markdown",
   "metadata": {},
   "source": [
    "This classifierModel has similar results, but there are reasons to believe that it is slightly better than previous. The training error smaller. But we know that training error is not a good estimator. The 10 fold cv is greater. This is a good sign. A better interpretation would be that the gap between those two has shrunken and this is a good thing. A new submit on kaggle follows.\n",
    "\n",
    "![SVM2](images/titanic-svm2-submit.png)\n",
    "\n",
    "Well we are really, really close to our psychological milestone of $$0.8$$. Perhaps some tuning will give more results. This is true in general. However, next section provides you with a better approach which usually provides some gain in accuracy: stacking."
   ]
  },
  {
   "cell_type": "markdown",
   "metadata": {},
   "source": [
    "## 7. Stacking classifiers\n",
    "\n",
    "Using random forests or SVMs did not provided us with a result over $$0.8$$. We have two very different types of models which performed well. For the sole purpose of prediction we use a nice ensemble technique which often provides good prediction performance gain. This technique is called stacking.\n",
    "\n",
    "The idea behind stacking is that one can explore the space of the solutions with different approaches. Each approach (or statistical model) is basically an interpretation of the solution. But often times a proper interpretation is really hard to find. Each interpretation of the solution can have good points and weak points. The idea is to blend those interpretations into a single one in a way that we try somehow to keep what is string from each individual classifierModel.\n",
    "\n",
    "A stacking classifierModel take some base learners and train them on training data. The results of the base learners are used as input for a stacking learner. This stacking learner is trained on the output of base learners and target variable and is finally used for prediction.\n",
    "\n",
    "```java\n",
    "Classifier model = new CStacking()\n",
    ".withLearners(\n",
    "new BinarySMO()\n",
    ".withInputFilters(inputFilters)\n",
    ".withC(1)\n",
    ".withTol(1e-10)\n",
    ".withKernel(new CauchyKernel(20)),\n",
    "CForest.newRF()\n",
    ".withInputFilters(inputFilters)\n",
    ".withMCols(4)\n",
    ".withBootstrap(0.07)\n",
    ".withClassifier(CTree.newCART()\n",
    ".withFunction(CTreePurityFunction.GainRatio)\n",
    ".withMinGain(0.001))\n",
    ".withRuns(200)\n",
    ").withStacker(CForest.newRF().withBootstrap(0.3)\n",
    ".withRuns(200)\n",
    ".withClassifier(CTree.newCART()\n",
    ".withFunction(CTreePurityFunction.GainRatio)\n",
    ".withMinGain(0.05)));\n",
    "```\n",
    "\n",
    "Usually one uses a binary logistic regression model but it provided weak results. What looked much better is another random forrest classifierModel. However the stacking model uses a big value for minimum gain parameter because we want to act as an draft average over the results.\n",
    "\n",
    "```\n",
    "> Confusion\n",
    "\n",
    "Ac\\Pr | 0 1 | total\n",
    "----- | - - | -----\n",
    "0 | >522 27 | 549\n",
    "1 | 87 >255 | 342\n",
    "----- | - - | -----\n",
    "total | 609 282 | 891\n",
    "\n",
    "\n",
    "Complete cases 891 from 891\n",
    "Acc: 0.8720539 (Accuracy )\n",
    "F1: 0.9015544 (F1 score / F-measure)\n",
    "MCC: 0.7281918 (Matthew correlation coefficient)\n",
    "Pre: 0.8571429 (Precision)\n",
    "Rec: 0.9508197 (Recall)\n",
    "G: 0.902767 (G-measure)\n",
    "Cross validation 10-fold\n",
    "CV fold: 1, acc: 0.888889, mean: 0.888889, se: NaN\n",
    "CV fold: 2, acc: 0.786517, mean: 0.837703, se: 0.072388\n",
    "CV fold: 3, acc: 0.842697, mean: 0.839367, se: 0.051267\n",
    "CV fold: 4, acc: 0.820225, mean: 0.834582, se: 0.042940\n",
    "CV fold: 5, acc: 0.808989, mean: 0.829463, se: 0.038908\n",
    "CV fold: 6, acc: 0.853933, mean: 0.833541, se: 0.036206\n",
    "CV fold: 7, acc: 0.786517, mean: 0.826824, se: 0.037527\n",
    "CV fold: 8, acc: 0.898876, mean: 0.835830, se: 0.043082\n",
    "CV fold: 9, acc: 0.831461, mean: 0.835345, se: 0.040326\n",
    "CV fold:10, acc: 0.775281, mean: 0.829338, se: 0.042500\n",
    "=================\n",
    "mean: 0.829338, se: 0.042500\n",
    "```\n",
    "Again, the results are promising. The space between training error and cross validation error is smaller and our expectations grows.\n",
    "\n",
    "![Stacking with a random forest](images/titanic-stacking1-submit.png)\n",
    "\n",
    "Finally our target performance was achieved!!\n",
    "\n",
    "**Note:**\n",
    "\n",
    "The general advice in real life is to not fight for each piece of performance measure. It really depends on the question one wants to answer. Often measures like ROC or partial ROC are much better than error frequency. We fixed this milestone because we know it is possible and because it looks like a psychological difficulty. (that $$0.799$$ is outrageous)."
   ]
  },
  {
   "cell_type": "code",
   "execution_count": null,
   "metadata": {
    "collapsed": true,
    "jupyter": {
     "outputs_hidden": true
    }
   },
   "outputs": [],
   "source": []
  }
 ],
 "metadata": {
  "kernelspec": {
   "display_name": "Java",
   "language": "java",
   "name": "java"
  },
  "language_info": {
   "codemirror_mode": "java",
   "file_extension": ".jshell",
   "mimetype": "text/x-java-source",
   "name": "Java",
   "pygments_lexer": "java",
   "version": "18.0.1.1+2-6"
  }
 },
 "nbformat": 4,
 "nbformat_minor": 4
}
