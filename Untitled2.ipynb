{
 "cells": [
  {
   "cell_type": "code",
   "execution_count": 2,
   "id": "4ae23dd5-3a0e-4ee1-8cb0-46703798eef5",
   "metadata": {},
   "outputs": [],
   "source": [
    "%load rapaio-bootstrap"
   ]
  },
  {
   "cell_type": "code",
   "execution_count": 3,
   "id": "1b5317c8-d836-47bd-8399-620aed31bdcd",
   "metadata": {},
   "outputs": [],
   "source": [
    "double[] array = DoubleArrays.newSeq(0, 10)"
   ]
  },
  {
   "cell_type": "code",
   "execution_count": 7,
   "id": "8199723f-366b-4c05-8c38-04ac7755ba9e",
   "metadata": {},
   "outputs": [],
   "source": [
    "DVector v = DVectorDense.wrap(0, array.length, array)"
   ]
  },
  {
   "cell_type": "code",
   "execution_count": 8,
   "id": "153328d6-d46e-455a-97fe-d97b9f9752b9",
   "metadata": {},
   "outputs": [
    {
     "name": "stdout",
     "output_type": "stream",
     "text": [
      "[0] 0 [4] 4 [8] 8 \n",
      "[1] 1 [5] 5 [9] 9 \n",
      "[2] 2 [6] 6 \n",
      "[3] 3 [7] 7 \n",
      "\n"
     ]
    }
   ],
   "source": [
    "v.printContent()"
   ]
  },
  {
   "cell_type": "code",
   "execution_count": 9,
   "id": "3e745e0d-744c-4c99-a32f-d758f2c8a8b8",
   "metadata": {},
   "outputs": [
    {
     "data": {
      "text/plain": [
       "45.0"
      ]
     },
     "execution_count": 9,
     "metadata": {},
     "output_type": "execute_result"
    }
   ],
   "source": [
    "v.sum()"
   ]
  },
  {
   "cell_type": "code",
   "execution_count": 10,
   "id": "6edffd48-ad05-495a-9718-03bf6def7378",
   "metadata": {},
   "outputs": [
    {
     "ename": "CompilationException",
     "evalue": "",
     "output_type": "error",
     "traceback": [
      "\u001b[1m\u001b[30m|   \u001b[1m\u001b[30mimport \u001b[0m\u001b[1m\u001b[30m\u001b[41mjdk.incubator.vector\u001b[0m\u001b[1m\u001b[30m.*;\u001b[0m",
      "\u001b[1m\u001b[31mpackage jdk.incubator.vector is not visible\u001b[0m",
      "\u001b[1m\u001b[31m  (package jdk.incubator.vector is declared in module jdk.incubator.vector, which is not in the module graph)\u001b[0m",
      ""
     ]
    }
   ],
   "source": [
    "import jdk.incubator.vector.*;"
   ]
  },
  {
   "cell_type": "code",
   "execution_count": null,
   "id": "6b4e8ee7-3e1e-4657-aff2-d5576b69cd90",
   "metadata": {},
   "outputs": [],
   "source": []
  }
 ],
 "metadata": {
  "kernelspec": {
   "display_name": "Java",
   "language": "java",
   "name": "java"
  },
  "language_info": {
   "codemirror_mode": "java",
   "file_extension": ".jshell",
   "mimetype": "text/x-java-source",
   "name": "Java",
   "pygments_lexer": "java",
   "version": "17.0.2+8"
  }
 },
 "nbformat": 4,
 "nbformat_minor": 5
}
