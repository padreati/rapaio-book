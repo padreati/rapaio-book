{
 "cells": [
  {
   "cell_type": "code",
   "execution_count": null,
   "id": "4ae23dd5-3a0e-4ee1-8cb0-46703798eef5",
   "metadata": {},
   "outputs": [],
   "source": [
    "1+2"
   ]
  },
  {
   "cell_type": "code",
   "execution_count": null,
   "id": "1b5317c8-d836-47bd-8399-620aed31bdcd",
   "metadata": {},
   "outputs": [],
   "source": []
  }
 ],
 "metadata": {
  "kernelspec": {
   "display_name": "Java",
   "language": "java",
   "name": "java"
  },
  "language_info": {
   "name": ""
  }
 },
 "nbformat": 4,
 "nbformat_minor": 5
}
