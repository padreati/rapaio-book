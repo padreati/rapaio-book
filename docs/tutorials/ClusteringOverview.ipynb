{
 "cells": [
  {
   "cell_type": "code",
   "execution_count": 1,
   "metadata": {
    "tags": []
   },
   "outputs": [
    {
     "name": "stdout",
     "output_type": "stream",
     "text": [
      "\u001b[0m\u001b[32mAdd /home/ati/work/rapaio/rapaio-core/target/rapaio-core-5.0.1.jar to classpath\u001b[0m"
     ]
    }
   ],
   "source": [
    "%load ../../rapaio-bootstrap.ipynb"
   ]
  },
  {
   "cell_type": "code",
   "execution_count": null,
   "metadata": {},
   "outputs": [],
   "source": []
  }
 ],
 "metadata": {
  "kernelspec": {
   "display_name": "Rapaio Kernel",
   "language": "java",
   "name": "rapaio-jupyter-kernel"
  },
  "language_info": {
   "codemirror_mode": "java",
   "file_extension": ".jshell",
   "mimetype": "text/x-java-source",
   "name": "java",
   "nbconvert_exporter": "script",
   "pygments_lexer": "java",
   "version": "20.0.1+9-FR"
  }
 },
 "nbformat": 4,
 "nbformat_minor": 4
}
