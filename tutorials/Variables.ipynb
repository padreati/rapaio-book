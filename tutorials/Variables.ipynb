{
 "cells": [
  {
   "cell_type": "markdown",
   "metadata": {},
   "source": [
    "# Variables"
   ]
  },
  {
   "cell_type": "code",
   "execution_count": 1,
   "metadata": {},
   "outputs": [],
   "source": [
    "%load ../rapaio-bootstrap"
   ]
  },
  {
   "cell_type": "markdown",
   "metadata": {
    "toc-hr-collapsed": false
   },
   "source": [
    "Variable represents unidimensional sets of observations which comes from the same random variable (hence the name). Because the values of a variable are supposed to be generated from the same process, they have the same type and semantic. Variables have names and are of some given types. `Var` implementations can be categorized as storage variables and view variables. Storage variables are those variables which directly contains and maintain data. View variables are higher constructs obtained by filtering and/or merging other variables. View variables does not contain data directly, but maintain refferences to storage variables it wrap and allows reading and updating operations in the same way as storage variables. "
   ]
  },
  {
   "cell_type": "markdown",
   "metadata": {
    "toc-hr-collapsed": false
   },
   "source": [
    "Strorage variables implemented have different storage types and representations. We have `VarDouble`, `VarInt`, `VarNominal`, `VarBinary`, `VarLong`, `VarString` and `VarInstant`."
   ]
  },
  {
   "cell_type": "markdown",
   "metadata": {
    "toc-hr-collapsed": false
   },
   "source": [
    "## VarDouble"
   ]
  },
  {
   "cell_type": "markdown",
   "metadata": {
    "toc-hr-collapsed": false
   },
   "source": [
    "Numeric double variables are implemented by `VarDouble` and are used to handle discrete or continuous numerical values. Double variables offers value and label representations. All other representations can be used, but with caution since it can alter the content. For example int representation truncates floating point values to the biggest integer values, however the int setter sets a correct value since an integer can be converted to a double with no information loss."
   ]
  },
  {
   "cell_type": "markdown",
   "metadata": {
    "toc-hr-collapsed": false
   },
   "source": [
    "### Various builders\n",
    "\n",
    "Double variables can be built in various was and there are handy shortcuts for various scenarios."
   ]
  },
  {
   "cell_type": "code",
   "execution_count": 2,
   "metadata": {},
   "outputs": [],
   "source": [
    "// builds a variable with no data\n",
    "Var empty1 = VarDouble.empty();\n",
    "\n",
    "// builds a variable of a given size which contains only missing data\n",
    "Var empty2 = VarDouble.empty(100);\n",
    "\n",
    "// a sequence of numbers, starting from 0, ending with 5 with step 1\n",
    "Var seq1 = VarDouble.seq(5);\n",
    "\n",
    "// a sequence of numbers, starting from 1, ending with 5 with step 1\n",
    "Var seq2 = VarDouble.seq(1, 5);\n",
    "\n",
    "// a sequence of numbers starting at 0, ending at 1 with step 0.1\n",
    "Var seq3 = VarDouble.seq(0, 1, 0.1);\n",
    "\n",
    "// build a variable of a given size which contains only zeros\n",
    "Var fill1 = VarDouble.fill(5);\n",
    "\n",
    "// builds a variable of a given size which contains only ones\n",
    "Var fill2 = VarDouble.fill(5, 1);\n",
    "\n",
    "// numeric variable which contains the values copied from another variable\n",
    "Var copy1 = VarDouble.copy(seq1);\n",
    "\n",
    "// numeric variable with values copied from a collection\n",
    "Normal normal = Normal.std();\n",
    "List<Double> list1 = DoubleStream.generate(normal::sampleNext).limit(10).boxed().collect(Collectors.toList());\n",
    "Var copy2 = VarDouble.copy(list1);\n",
    "\n",
    "// numeric variable with values copied from a double array\n",
    "Var copy3 = VarDouble.copy(1, 3, 4.0, 7);\n",
    "\n",
    "// numeric variable with values copied from an int array\n",
    "Var copy4 = VarDouble.copy(1, 3, 4, 7);\n",
    "\n",
    "// numeric variables with values generated as the sqrt of the row number\n",
    "Var from1 = VarDouble.from(10, Math::sqrt);\n",
    "\n",
    "// numeric variable with values generated using a function which receives a row value\n",
    "// as parameter and outputs a double value; in this case we generate values as\n",
    "// a sum of the values of other two variables\n",
    "Var from2 = VarDouble.from(4, row -> copy3.getDouble(row) + copy4.getDouble(row));\n",
    "\n",
    "// numeric variable with values generated from values of another variable using\n",
    "// a transformation provided via a lambda function\n",
    "Var from3 = VarDouble.from(from1, x -> x + 1);"
   ]
  },
  {
   "cell_type": "markdown",
   "metadata": {},
   "source": [
    "**Wrapper around a double array**\n",
    "This builder creates a new numeric variable instance as a wrapper around a double array of values. Notice that it is not the same as the copy builder, since in the wrapper case any change in the new numerical variable is reflected also in the original array of numbers. In the case of the copy builder this is not true, since the copy builder \\(as its name implies\\) creates an internal copy of the array.\n"
   ]
  },
  {
   "cell_type": "code",
   "execution_count": 3,
   "metadata": {},
   "outputs": [
    {
     "name": "stdout",
     "output_type": "stream",
     "text": [
      "VarDouble [name:\"?\", rowCount:4, values: 1.0, 4.0, 9.0, 16.0]\n",
      "VarDouble [name:\"?\", rowCount:4, values: 1.0, 4.0, 17.0, 16.0]\n"
     ]
    }
   ],
   "source": [
    "double[] array = DoubleArrays.newFrom(1, 5, x -> x*x);\n",
    "Var wrap1 = VarDouble.wrap(array);\n",
    "\n",
    "wrap1.printString();\n",
    "array[2] = 17;\n",
    "wrap1.printString();"
   ]
  },
  {
   "cell_type": "markdown",
   "metadata": {},
   "source": [
    "#### Printing variables"
   ]
  },
  {
   "cell_type": "markdown",
   "metadata": {},
   "source": [
    "Most of the objects which contains information implements the `Printable` interface. This interface allows one to display a summary of the content of the given object. This is the case also with the numerical variables. Additionally, the numerical variables implements also two other methods, one which displays all the values and another one which displays only the first values."
   ]
  },
  {
   "cell_type": "code",
   "execution_count": 4,
   "metadata": {},
   "outputs": [
    {
     "name": "stdout",
     "output_type": "stream",
     "text": [
      "VarDouble [name:\"x\", rowCount:200, values: 0.0, 1.0, 1.4142135623730951, 1.7320508075688772, 2.0, 2.23606797749979, 2.449489742783178, 2.6457513110645907, 2.8284271247461903, 3.0, ..., 14.071247279470288, 14.106735979665885]\n",
      "VarDouble [name:\"x\", rowCount:200]\n",
      " row    value     row    value     row    value     row    value     row    value     row    value     row    value     row    value     row    value     row    value    \n",
      "  [0]  0          [11]  3.3166248  [22]  4.6904158  [33]  5.7445626  [44]  6.6332496  [55]  7.4161985  [66]  8.1240384  [77]  8.7749644 [188] 13.7113092 [199] 14.106736  \n",
      "  [1]  1          [12]  3.4641016  [23]  4.7958315  [34]  5.8309519  [45]  6.7082039  [56]  7.4833148  [67]  8.1853528  [78]  8.8317609 [189] 13.7477271                  \n",
      "  [2]  1.4142136  [13]  3.6055513  [24]  4.8989795  [35]  5.9160798  [46]  6.78233    [57]  7.5498344  [68]  8.2462113  ...     ...     [190] 13.7840488 \n",
      "  [3]  1.7320508  [14]  3.7416574  [25]  5          [36]  6          [47]  6.8556546  [58]  7.6157731  [69]  8.3066239 [180] 13.4164079 [191] 13.820275  \n",
      "  [4]  2          [15]  3.8729833  [26]  5.0990195  [37]  6.0827625  [48]  6.9282032  [59]  7.6811457  [70]  8.3666003 [181] 13.453624  [192] 13.8564065 \n",
      "  [5]  2.236068   [16]  4          [27]  5.1961524  [38]  6.164414   [49]  7          [60]  7.7459667  [71]  8.4261498 [182] 13.4907376 [193] 13.892444  \n",
      "  [6]  2.4494897  [17]  4.1231056  [28]  5.2915026  [39]  6.244998   [50]  7.0710678  [61]  7.8102497  [72]  8.4852814 [183] 13.5277493 [194] 13.9283883 \n",
      "  [7]  2.6457513  [18]  4.2426407  [29]  5.3851648  [40]  6.3245553  [51]  7.1414284  [62]  7.8740079  [73]  8.5440037 [184] 13.56466   [195] 13.96424   \n",
      "  [8]  2.8284271  [19]  4.3588989  [30]  5.4772256  [41]  6.4031242  [52]  7.2111026  [63]  7.9372539  [74]  8.6023253 [185] 13.6014705 [196] 14         \n",
      "  [9]  3          [20]  4.472136   [31]  5.5677644  [42]  6.4807407  [53]  7.2801099  [64]  8          [75]  8.660254  [186] 13.6381817 [197] 14.0356688 \n",
      " [10]  3.1622777  [21]  4.5825757  [32]  5.6568542  [43]  6.5574385  [54]  7.3484692  [65]  8.0622577  [76]  8.7177979 [187] 13.6747943 [198] 14.0712473 \n",
      "\n",
      "VarDouble [name:\"x\", rowCount:200]\n",
      " row    value     row    value     row    value     row    value     row    value     row    value     row    value     row    value     row    value     row    value     row    value     row    value     row    value    \n",
      "  [0]  0          [16]  4          [32]  5.6568542  [48]  6.9282032  [64]  8          [80]  8.9442719  [96]  9.797959  [112] 10.5830052 [128] 11.3137085 [144] 12         [160] 12.6491106 [176] 13.2664992 [192] 13.8564065 \n",
      "  [1]  1          [17]  4.1231056  [33]  5.7445626  [49]  7          [65]  8.0622577  [81]  9          [97]  9.8488578 [113] 10.6301458 [129] 11.3578167 [145] 12.0415946 [161] 12.6885775 [177] 13.3041347 [193] 13.892444  \n",
      "  [2]  1.4142136  [18]  4.2426407  [34]  5.8309519  [50]  7.0710678  [66]  8.1240384  [82]  9.0553851  [98]  9.8994949 [114] 10.6770783 [130] 11.4017543 [146] 12.083046  [162] 12.7279221 [178] 13.3416641 [194] 13.9283883 \n",
      "  [3]  1.7320508  [19]  4.3588989  [35]  5.9160798  [51]  7.1414284  [67]  8.1853528  [83]  9.1104336  [99]  9.9498744 [115] 10.7238053 [131] 11.4455231 [147] 12.1243557 [163] 12.7671453 [179] 13.3790882 [195] 13.96424   \n",
      "  [4]  2          [20]  4.472136   [36]  6          [52]  7.2111026  [68]  8.2462113  [84]  9.1651514 [100] 10         [116] 10.7703296 [132] 11.4891253 [148] 12.1655251 [164] 12.8062485 [180] 13.4164079 [196] 14         \n",
      "  [5]  2.236068   [21]  4.5825757  [37]  6.0827625  [53]  7.2801099  [69]  8.3066239  [85]  9.2195445 [101] 10.0498756 [117] 10.8166538 [133] 11.5325626 [149] 12.2065556 [165] 12.8452326 [181] 13.453624  [197] 14.0356688 \n",
      "  [6]  2.4494897  [22]  4.6904158  [38]  6.164414   [54]  7.3484692  [70]  8.3666003  [86]  9.2736185 [102] 10.0995049 [118] 10.8627805 [134] 11.5758369 [150] 12.2474487 [166] 12.8840987 [182] 13.4907376 [198] 14.0712473 \n",
      "  [7]  2.6457513  [23]  4.7958315  [39]  6.244998   [55]  7.4161985  [71]  8.4261498  [87]  9.3273791 [103] 10.1488916 [119] 10.9087121 [135] 11.61895   [151] 12.2882057 [167] 12.922848  [183] 13.5277493 [199] 14.106736  \n",
      "  [8]  2.8284271  [24]  4.8989795  [40]  6.3245553  [56]  7.4833148  [72]  8.4852814  [88]  9.3808315 [104] 10.198039  [120] 10.9544512 [136] 11.6619038 [152] 12.328828  [168] 12.9614814 [184] 13.56466   \n",
      "  [9]  3          [25]  5          [41]  6.4031242  [57]  7.5498344  [73]  8.5440037  [89]  9.4339811 [105] 10.2469508 [121] 11         [137] 11.7046999 [153] 12.3693169 [169] 13         [185] 13.6014705 \n",
      " [10]  3.1622777  [26]  5.0990195  [42]  6.4807407  [58]  7.6157731  [74]  8.6023253  [90]  9.486833  [106] 10.2956301 [122] 11.045361  [138] 11.7473401 [154] 12.4096736 [170] 13.0384048 [186] 13.6381817 \n",
      " [11]  3.3166248  [27]  5.1961524  [43]  6.5574385  [59]  7.6811457  [75]  8.660254   [91]  9.539392  [107] 10.3440804 [123] 11.0905365 [139] 11.7898261 [155] 12.4498996 [171] 13.0766968 [187] 13.6747943 \n",
      " [12]  3.4641016  [28]  5.2915026  [44]  6.6332496  [60]  7.7459667  [76]  8.7177979  [92]  9.591663  [108] 10.3923048 [124] 11.1355287 [140] 11.8321596 [156] 12.489996  [172] 13.114877  [188] 13.7113092 \n",
      " [13]  3.6055513  [29]  5.3851648  [45]  6.7082039  [61]  7.8102497  [77]  8.7749644  [93]  9.6436508 [109] 10.4403065 [125] 11.1803399 [141] 11.8743421 [157] 12.5299641 [173] 13.1529464 [189] 13.7477271 \n",
      " [14]  3.7416574  [30]  5.4772256  [46]  6.78233    [62]  7.8740079  [78]  8.8317609  [94]  9.6953597 [110] 10.4880885 [126] 11.2249722 [142] 11.9163753 [158] 12.5698051 [174] 13.190906  [190] 13.7840488 \n",
      " [15]  3.8729833  [31]  5.5677644  [47]  6.8556546  [63]  7.9372539  [79]  8.8881944  [95]  9.7467943 [111] 10.5356538 [127] 11.2694277 [143] 11.9582607 [159] 12.6095202 [175] 13.2287566 [191] 13.820275  \n",
      "\n",
      "> summary(name: x, type: DOUBLE)\n",
      "rows: 200, complete: 200, missing: 0\n",
      "        x [dbl]      \n",
      "   Min. :  0.0000000 \n",
      "1st Qu. :  7.0533009 \n",
      " Median :  9.9749372 \n",
      "   Mean :  9.3917104 \n",
      "2nd Qu. : 12.2167789 \n",
      "   Max. : 14.1067360 \n",
      "                     \n",
      "\n",
      "\n"
     ]
    }
   ],
   "source": [
    "// build a numerical variable with values as the sqrt\n",
    "// of the first 200 integer values\n",
    "Var x = VarDouble.from(200, Math::sqrt).name(\"x\");\n",
    "\n",
    "// prints the text produced by toString \n",
    "x.printString();\n",
    "\n",
    "// print a reasonable part of value\n",
    "x.printContent();\n",
    "\n",
    "// print all values of the variable\n",
    "x.printFullContent();\n",
    "\n",
    "// print a summary of the content of the variable\n",
    "x.printSummary();"
   ]
  },
  {
   "cell_type": "code",
   "execution_count": 5,
   "metadata": {},
   "outputs": [
    {
     "data": {
      "image/png": "[encoded data removed]",
      "text/plain": [
       "BufferedImage@68853ee2: type = 7 ColorModel: #pixelBits = 32 numComponents = 4 color space = java.awt.color.ICC_ColorSpace@330fa988 transparency = 3 has alpha = true isAlphaPre = true ByteInterleavedRaster: width = 600 height = 300 #numDataElements 4 dataOff[0] = 3"
      ]
     },
     "execution_count": 5,
     "metadata": {},
     "output_type": "execute_result"
    }
   ],
   "source": [
    "WS.image(points(x, VarDouble.from(x.size(), Normal.std()::sampleNext), color(1), pch(3)), 600, 300);"
   ]
  },
  {
   "cell_type": "markdown",
   "metadata": {},
   "source": [
    "#### VarOp interface\n",
    "There are various mathemaical operations available under VarOp interface. The interface to those operators can be called using `op()` method on any variable. The fllowing examples uses some of those operators."
   ]
  },
  {
   "cell_type": "code",
   "execution_count": 7,
   "metadata": {},
   "outputs": [
    {
     "data": {
      "text/plain": [
       "1878.3420754046178"
      ]
     },
     "execution_count": 7,
     "metadata": {},
     "output_type": "execute_result"
    }
   ],
   "source": [
    "// computes the sum of all values in variable\n",
    "x.dv().nansum();"
   ]
  },
  {
   "cell_type": "code",
   "execution_count": 8,
   "metadata": {},
   "outputs": [
    {
     "name": "stdout",
     "output_type": "stream",
     "text": [
      "  [0] 0.6123724356957945   [6] 1.6806218321749773  [12] 1.9593625532651568  [18] 2.1488696300891044 \n",
      "  [1] 1.1726039399558574   [7] 1.7380308717236845  [13] 1.9951318942526053  [19] 2.175752500524973  \n",
      "  [2] 1.337614878196671    [8] 1.7898120361496597  [14] 2.0289547522736777  ...         ...         \n",
      "  [3] 1.4515683957598682   [9] 1.8371173070873836  [15] 2.061063644385446  [198] 3.8008219215677927 \n",
      "  [4] 1.541103500742244   [10] 1.8807651794331954  [16] 2.091650066335189  [199] 3.80548761391571   \n",
      "  [5] 1.6158799390733798  [11] 1.9213601407220355  [17] 2.120873788233911  \n",
      "\n"
     ]
    }
   ],
   "source": [
    "// apply a lambda function on a copy of the varialble\n",
    "x.copy().dv().apply(v -> Math.sqrt(v + 3./8)).printContent();"
   ]
  },
  {
   "cell_type": "code",
   "execution_count": 10,
   "metadata": {},
   "outputs": [
    {
     "data": {
      "text/plain": [
       "DVectorDense{size:200, values:[2.7182818,3.7182818,4.1324954,4.4503326,4.7182818,4.9543498,5.1677716,5.3640331,5.546709,5.7182818,5.8805595,6.0349066,6.1823834,6.3238331,6.4599392,6.5912652,6.7182818,6.8413875,6.9609225,7.0771808,...]}"
      ]
     },
     "execution_count": 10,
     "metadata": {},
     "output_type": "execute_result"
    }
   ],
   "source": [
    "// add a constant to all values of a copy\n",
    "x.copy().dv().add(Math.E);"
   ]
  },
  {
   "cell_type": "markdown",
   "metadata": {},
   "source": [
    "## Nominal variables"
   ]
  },
  {
   "cell_type": "markdown",
   "metadata": {},
   "source": [
    "Nominal variables are defined by`VarNominal`and contains string valued categories. Nominal variables offers integer and label representations. The label representation describes the categories as labels or texts, while integer representation is an integer indexe on categories. The index representation does not imply an order between categories/labels. "
   ]
  },
  {
   "cell_type": "markdown",
   "metadata": {},
   "source": [
    "### Various builders"
   ]
  },
  {
   "cell_type": "markdown",
   "metadata": {},
   "source": [
    "Nominal variables can be built in various was and are handy shortcuts for various scenarios."
   ]
  },
  {
   "cell_type": "code",
   "execution_count": 11,
   "metadata": {},
   "outputs": [
    {
     "data": {
      "text/plain": [
       "[?, a, b]"
      ]
     },
     "execution_count": 11,
     "metadata": {},
     "output_type": "execute_result"
    }
   ],
   "source": [
    "// creates an empty nominal variable with provided levels\n",
    "var nom1 = VarNominal.empty(10, \"a\", \"b\");\n",
    "// note the first label which is a placeholder for missing values\n",
    "nom1.levels();"
   ]
  },
  {
   "cell_type": "code",
   "execution_count": 12,
   "metadata": {},
   "outputs": [
    {
     "name": "stdout",
     "output_type": "stream",
     "text": [
      "VarNominal [name:\"?\", rowCount:10, values: even, odd, even, odd, even, odd, even, odd, even, odd]\n"
     ]
    }
   ],
   "source": [
    "VarNominal.from(10, row -> row % 2 == 0 ? \"even\" : \"odd\").printString();"
   ]
  },
  {
   "cell_type": "code",
   "execution_count": 13,
   "metadata": {},
   "outputs": [
    {
     "name": "stdout",
     "output_type": "stream",
     "text": [
      "VarNominal [name:\"?\", rowCount:4]\n",
      "row value \n",
      "[0]   a   \n",
      "[1]   b   \n",
      "[2]   c   \n",
      "[3]   b   \n",
      "\n"
     ]
    }
   ],
   "source": [
    "VarNominal.copy(\"a\", \"b\", \"c\", \"b\").printContent()"
   ]
  },
  {
   "cell_type": "code",
   "execution_count": 14,
   "metadata": {},
   "outputs": [
    {
     "data": {
      "text/plain": [
       "UniqueLabel{count=3, values=[a:1,b:2,c:1]}"
      ]
     },
     "execution_count": 14,
     "metadata": {},
     "output_type": "execute_result"
    }
   ],
   "source": [
    "Unique.of(VarNominal.copy(\"a\",\"b\",\"c\",\"b\"))"
   ]
  },
  {
   "cell_type": "markdown",
   "metadata": {},
   "source": [
    "## Overview of variable types"
   ]
  },
  {
   "cell_type": "markdown",
   "metadata": {},
   "source": [
    "All variables implements a common API making easy the manipulation of it's content in a generic way. However, depending on type, some variables might not implement some operations or rely back on specific implementations which makes sense for that variable type. For example, for a numeric variable it makes sense to set the value at some specific index in order to change it. For nominal variables, the same operation would not make sense. Instead of the meaning 'change numerical value at some given position' will have the following semantic 'change the string value to that category associated with the rounded integer value of the double parameter'. Let's see an example:  "
   ]
  },
  {
   "cell_type": "code",
   "execution_count": 15,
   "metadata": {},
   "outputs": [
    {
     "name": "stdout",
     "output_type": "stream",
     "text": [
      "VarNominal [name:\"?\", rowCount:2, values: a, b]\n",
      "VarNominal [name:\"?\", rowCount:2, values: b, b]\n"
     ]
    }
   ],
   "source": [
    "// we create a nominal value with label `a` of first position and label `b` on the second position\n",
    "var nom = VarNominal.copy(\"a\", \"b\");\n",
    "nom.printString();\n",
    "\n",
    "// set the value from the first position to the label which corresponds to indexed label 2, which is `b`\n",
    "nom.setDouble(0, 2.1);\n",
    "// let's see the result\n",
    "nom.printString();"
   ]
  },
  {
   "cell_type": "markdown",
   "metadata": {},
   "source": [
    "### Missing values"
   ]
  },
  {
   "cell_type": "markdown",
   "metadata": {},
   "source": [
    "All variables offers API for missing values. A missing value is a special value which is used as placeholder for an unspecified value. We can have missing values for various reasons. There are cases when the data set does not contains some values because the experimenter did not collect it. Sometimes having a value does not make sense, for example a male cannot be pregnant, so measuring any metric related with pregnancy have missing value for male subjects. Also, missing values can appear as an effect of data manipulation operations, like joining two data frames which does not present a one-to-one presence relation.\n",
    "\n",
    "Missing values are different for each representation, which makes sense since a double value have a different type than a String. "
   ]
  },
  {
   "cell_type": "code",
   "execution_count": 16,
   "metadata": {},
   "outputs": [
    {
     "name": "stdout",
     "output_type": "stream",
     "text": [
      "NaN\n",
      "?\n",
      "2.147483647E9\n"
     ]
    }
   ],
   "source": [
    "WS.println(VarDouble.MISSING_VALUE);\n",
    "WS.println(VarNominal.MISSING_VALUE);\n",
    "WS.println(VarInt.MISSING_VALUE);"
   ]
  },
  {
   "cell_type": "markdown",
   "metadata": {},
   "source": [
    "Most of time we do not have to deals directly with the missing value placeholders, since `Var` and `Frame` interfaces offers a way to handle gracefully missing value operations. Below is an illustrative example:"
   ]
  },
  {
   "cell_type": "code",
   "execution_count": 17,
   "metadata": {},
   "outputs": [
    {
     "name": "stdout",
     "output_type": "stream",
     "text": [
      "VarDouble [name:\"x\", rowCount:11, values: 0.0, 1.0, 2.0, 3.0, 4.0, 5.0, 6.0, 7.0, 8.0, 9.0, 10.0]\n"
     ]
    }
   ],
   "source": [
    "var x = VarDouble.seq(10).name(\"x\");\n",
    "x.printString();"
   ]
  },
  {
   "cell_type": "code",
   "execution_count": 18,
   "metadata": {},
   "outputs": [
    {
     "name": "stdout",
     "output_type": "stream",
     "text": [
      "VarDouble [name:\"x\", rowCount:11, values: 0.0, 1.0, ?, 3.0, ?, 5.0, ?, 7.0, 8.0, 9.0, 10.0]\n"
     ]
    }
   ],
   "source": [
    "// put missing on values from indexes 2,4 and 6\n",
    "x.setMissing(2);\n",
    "x.setMissing(4);\n",
    "x.setMissing(6);\n",
    "x.printString();"
   ]
  },
  {
   "cell_type": "code",
   "execution_count": 19,
   "metadata": {},
   "outputs": [
    {
     "data": {
      "text/plain": [
       "8"
      ]
     },
     "execution_count": 19,
     "metadata": {},
     "output_type": "execute_result"
    }
   ],
   "source": [
    "// count the number of non missing values\n",
    "x.stream().complete().count();"
   ]
  },
  {
   "cell_type": "code",
   "execution_count": 21,
   "metadata": {},
   "outputs": [
    {
     "data": {
      "text/plain": [
       "43.0"
      ]
     },
     "execution_count": 21,
     "metadata": {},
     "output_type": "execute_result"
    }
   ],
   "source": [
    "// compute the sum of all non missing values\n",
    "x.dv().nansum();"
   ]
  },
  {
   "cell_type": "markdown",
   "metadata": {},
   "source": [
    "### Var Iterators"
   ]
  },
  {
   "cell_type": "markdown",
   "metadata": {},
   "source": [
    "Each `Var` allows easy data manipulation through iterators. There is a generic construct available for each variable implementation which under the form of `VSpot`. In the terminology used in `rapaio` a spot is a position in a variable which can contain a value. Since that value can have different reporesentation, the `VSpot` interface is used to manipulate what happen in a given position. Additionally there are various iterators which can be used for other data representations. The example below are illustrative:"
   ]
  },
  {
   "cell_type": "code",
   "execution_count": 22,
   "metadata": {},
   "outputs": [],
   "source": [
    "var d = VarDouble.seq(3).name(\"d\");"
   ]
  },
  {
   "cell_type": "code",
   "execution_count": 23,
   "metadata": {},
   "outputs": [
    {
     "name": "stdout",
     "output_type": "stream",
     "text": [
      "0.0\n",
      "1.0\n",
      "2.0\n",
      "3.0\n"
     ]
    }
   ],
   "source": [
    "// iterate through double values, we can do this because we have the specific type VarDouble\n",
    "for(double value : d) WS.println(value)"
   ]
  },
  {
   "cell_type": "code",
   "execution_count": 24,
   "metadata": {},
   "outputs": [
    {
     "name": "stdout",
     "output_type": "stream",
     "text": [
      "0.0\n",
      "1.0\n",
      "2.0\n",
      "3.0\n"
     ]
    }
   ],
   "source": [
    "// for each spot print the string representation\n",
    "d.forEachSpot(s -> WS.println(s.getLabel()))"
   ]
  },
  {
   "cell_type": "code",
   "execution_count": 26,
   "metadata": {},
   "outputs": [
    {
     "name": "stdout",
     "output_type": "stream",
     "text": [
      "6.0\n",
      "6.0\n"
     ]
    }
   ],
   "source": [
    "// compute the sum using spot iterator and streaming API\n",
    "WS.println(d.stream().mapToDouble(VSpot::getDouble).sum());\n",
    "WS.println(d.dv().nansum());"
   ]
  },
  {
   "cell_type": "code",
   "execution_count": 27,
   "metadata": {},
   "outputs": [
    {
     "name": "stdout",
     "output_type": "stream",
     "text": [
      "VarInt [name:\"?\", rowCount:3, values: 0, 2, 4]\n"
     ]
    }
   ],
   "source": [
    "// display the row indexes of all values which are missing\n",
    "var y = VarDouble.copy(1, Double.NaN, 2, Double.NaN, 3);\n",
    "// collect indexes to an int array\n",
    "int[] indexes = y.stream().filter(s -> !s.isMissing()).mapToInt(s -> s.row()).toArray();\n",
    "// create a var int wrapper to see the content\n",
    "VarInt.wrap(indexes).printString();"
   ]
  }
 ],
 "metadata": {
  "kernelspec": {
   "display_name": "Java",
   "language": "java",
   "name": "java"
  },
  "language_info": {
   "codemirror_mode": "java",
   "file_extension": ".jshell",
   "mimetype": "text/x-java-source",
   "name": "Java",
   "pygments_lexer": "java",
   "version": "17.0.2+8-LTS"
  }
 },
 "nbformat": 4,
 "nbformat_minor": 4
}
