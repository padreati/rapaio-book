{
 "cells": [
  {
   "cell_type": "markdown",
   "metadata": {},
   "source": [
    "# Linear Algebra Overview"
   ]
  },
  {
   "cell_type": "code",
   "execution_count": 1,
   "metadata": {},
   "outputs": [],
   "source": [
    "%load ../rapaio-bootstrap"
   ]
  },
  {
   "cell_type": "code",
   "execution_count": 16,
   "metadata": {},
   "outputs": [],
   "source": [
    "DMatrix m = DMatrixStripe.fill(10, 10, (i,j)-> i*10+j)"
   ]
  },
  {
   "cell_type": "code",
   "execution_count": 17,
   "metadata": {},
   "outputs": [
    {
     "data": {
      "text/plain": [
       "DMatrixStripeR{rowCount:10, colCount:10, values:\n",
       "[\n",
       " [  0  1  2  3  4  5  6  7  8  9 ], \n",
       " [ 10 11 12 13 14 15 16 17 18 19 ], \n",
       " [ 20 21 22 23 24 25 26 27 28 29 ], \n",
       " [ 30 31 32 33 34 35 36 37 38 39 ], \n",
       " [ 40 41 42 43 44 45 46 47 48 49 ], \n",
       " [ 50 51 52 53 54 55 56 57 58 59 ], \n",
       " [ 60 61 62 63 64 65 66 67 68 69 ], \n",
       " [ 70 71 72 73 74 75 76 77 78 79 ], \n",
       " [ 80 81 82 83 84 85 86 87 88 89 ], \n",
       " [ 90 91 92 93 94 95 96 97 98 99 ], \n",
       "]}"
      ]
     },
     "execution_count": 17,
     "metadata": {},
     "output_type": "execute_result"
    }
   ],
   "source": [
    "m"
   ]
  },
  {
   "cell_type": "code",
   "execution_count": 18,
   "metadata": {},
   "outputs": [
    {
     "data": {
      "text/plain": [
       "DMatrixStripeR{rowCount:10, colCount:10, values:\n",
       "[\n",
       " [   0  10  20  30  40  50  60  70  80  90 ], \n",
       " [ 100 110 120 130 140 150 160 170 180 190 ], \n",
       " [ 200 210 220 230 240 250 260 270 280 290 ], \n",
       " [ 300 310 320 330 340 350 360 370 380 390 ], \n",
       " [ 400 410 420 430 440 450 460 470 480 490 ], \n",
       " [ 500 510 520 530 540 550 560 570 580 590 ], \n",
       " [ 600 610 620 630 640 650 660 670 680 690 ], \n",
       " [ 700 710 720 730 740 750 760 770 780 790 ], \n",
       " [ 800 810 820 830 840 850 860 870 880 890 ], \n",
       " [ 900 910 920 930 940 950 960 970 980 990 ], \n",
       "]}"
      ]
     },
     "execution_count": 18,
     "metadata": {},
     "output_type": "execute_result"
    }
   ],
   "source": [
    "m.mult(10);"
   ]
  },
  {
   "cell_type": "code",
   "execution_count": null,
   "metadata": {},
   "outputs": [],
   "source": []
  }
 ],
 "metadata": {
  "kernelspec": {
   "display_name": "Java",
   "language": "java",
   "name": "java"
  },
  "language_info": {
   "codemirror_mode": "java",
   "file_extension": ".jshell",
   "mimetype": "text/x-java-source",
   "name": "Java",
   "pygments_lexer": "java",
   "version": "15+36-1562"
  }
 },
 "nbformat": 4,
 "nbformat_minor": 4
}
