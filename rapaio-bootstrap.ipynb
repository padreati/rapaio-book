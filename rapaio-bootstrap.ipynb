{
 "cells": [
  {
   "cell_type": "markdown",
   "metadata": {},
   "source": [
    "This notebook is used to bootstrap rapaio library usage in jupyter notebooks. The activities included are:\n",
    "\n",
    "* include maved dependency on rapaio library\n",
    "* inlcude an extensive list of imports from rapaio library to make life easier\n",
    "* include a list of useful imports from java jdk\n",
    "* set up printer with default values for printer (text width and image sizes)"
   ]
  },
  {
   "cell_type": "code",
   "execution_count": 3,
   "metadata": {},
   "outputs": [],
   "source": [
    "// repositories for beta versions\n",
    "//%mavenRepo oss-sonatype-snapshots https://oss.sonatype.org/content/repositories/snapshots/\n",
    "\n",
    "// maven central\n",
    "%maven io.github.padreati:rapaio:3.0.0\n",
    "\n",
    "// local jars\n",
    "// %jars /home/ati/rapaio/rapaio/out/artifacts/rapaio_jar/rapaio.jar"
   ]
  },
  {
   "cell_type": "code",
   "execution_count": 2,
   "metadata": {},
   "outputs": [
    {
     "ename": "CompilationException",
     "evalue": "",
     "output_type": "error",
     "traceback": [
      "\u001b[1m\u001b[30m|   \u001b[1m\u001b[30m\u001b[0m\u001b[1m\u001b[30m\u001b[41m\u001b[0m\u001b[1m\u001b[30mimport rapaio.core.*;\u001b[0m",
      "\u001b[1m\u001b[31mpackage rapaio.core does not exist\u001b[0m",
      ""
     ]
    }
   ],
   "source": [
    "\n",
    "// extensive list of useful imports from rapaio library\n",
    "\n",
    "import rapaio.core.*;\n",
    "import rapaio.core.correlation.*;\n",
    "import rapaio.core.distributions.*;\n",
    "import rapaio.core.tests.*;\n",
    "import rapaio.core.tools.*;\n",
    "import rapaio.core.stat.*;\n",
    "\n",
    "import rapaio.data.*;\n",
    "import rapaio.data.filter.*;\n",
    "import rapaio.data.group.*;\n",
    "import rapaio.data.unique.*;\n",
    "import rapaio.data.stream.*;\n",
    "\n",
    "import static rapaio.data.Group.*;\n",
    "\n",
    "import rapaio.datasets.*;\n",
    "\n",
    "import rapaio.graphics.*;\n",
    "import rapaio.graphics.plot.*;\n",
    "import static rapaio.graphics.Plotter.*;\n",
    "import rapaio.graphics.opt.*;\n",
    "\n",
    "import rapaio.io.*;\n",
    "\n",
    "import rapaio.math.linear.*;\n",
    "import rapaio.math.linear.dense.*;\n",
    "import rapaio.math.linear.decomposition.*;\n",
    "\n",
    "import rapaio.sys.*;\n",
    "import rapaio.printer.*;\n",
    "import static rapaio.printer.Printer.*;\n",
    "\n",
    "import rapaio.ml.eval.*;\n",
    "import rapaio.ml.eval.metric.*;\n",
    "import rapaio.ml.eval.split.*;\n",
    "import rapaio.ml.common.*;\n",
    "import rapaio.ml.common.kernel.*;\n",
    "\n",
    "import rapaio.ml.classifier.*;\n",
    "import rapaio.ml.classifier.bayes.*;\n",
    "import rapaio.ml.classifier.boost.*;\n",
    "import rapaio.ml.classifier.linear.*;\n",
    "import rapaio.ml.classifier.rule.*;\n",
    "import rapaio.ml.classifier.svm.*;\n",
    "import rapaio.ml.classifier.tree.*;\n",
    "import rapaio.ml.classifier.ensemble.*;\n",
    "\n",
    "import rapaio.ml.regression.*;\n",
    "import rapaio.ml.regression.linear.*;\n",
    "import rapaio.ml.regression.boost.*;\n",
    "import rapaio.ml.regression.ensemble.*;\n",
    "import rapaio.ml.regression.simple.*;\n",
    "import rapaio.ml.regression.tree.*;\n",
    "import rapaio.ml.regression.rvm.*;\n",
    "\n",
    "import rapaio.ml.clustering.km.*;\n",
    "\n",
    "import rapaio.util.*;\n",
    "import rapaio.util.collection.*;\n",
    "import rapaio.util.function.*;\n",
    "import rapaio.util.hash.*;"
   ]
  },
  {
   "cell_type": "code",
   "execution_count": 3,
   "metadata": {},
   "outputs": [],
   "source": [
    "// list of useful imports from jdk\n",
    "\n",
    "import java.awt.Color;\n",
    "import java.awt.Font;\n",
    "\n",
    "import java.util.function.*;\n",
    "import java.util.stream.*;"
   ]
  },
  {
   "cell_type": "code",
   "execution_count": 4,
   "metadata": {},
   "outputs": [
    {
     "data": {
      "text/plain": [
       "rapaio.printer.standard.StandardPrinter@41f61e25"
      ]
     },
     "execution_count": 4,
     "metadata": {},
     "output_type": "execute_result"
    }
   ],
   "source": [
    "WS.getPrinter().withOptions(textWidth(200));\n",
    "WS.getPrinter().withGraphicShape(1024, 600);"
   ]
  }
 ],
 "metadata": {
  "kernelspec": {
   "display_name": "Java",
   "language": "java",
   "name": "java"
  },
  "language_info": {
   "codemirror_mode": "java",
   "file_extension": ".jshell",
   "mimetype": "text/x-java-source",
   "name": "Java",
   "pygments_lexer": "java",
   "version": "17+35-LTS"
  }
 },
 "nbformat": 4,
 "nbformat_minor": 4
}
