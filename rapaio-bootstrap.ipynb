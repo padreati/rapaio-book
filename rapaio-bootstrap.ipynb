{
 "cells": [
  {
   "cell_type": "markdown",
   "metadata": {},
   "source": [
    "This notebook is used to bootstrap rapaio library usage in jupyter notebooks. The activities included are:\n",
    "\n",
    "* include maved dependency on rapaio library\n",
    "* inlcude an extensive list of imports from rapaio library to make life easier\n",
    "* include a list of useful imports from java jdk\n",
    "* set up printer with default values for printer (text width and image sizes)"
   ]
  },
  {
   "cell_type": "code",
   "execution_count": 1,
   "metadata": {},
   "outputs": [
    {
     "name": "stdout",
     "output_type": "stream",
     "text": [
      "\u001b[0m\u001b[32mAdd /home/ati/work/rapaio-notebooks/./rapaio-core-5.1.0.jar to classpath\u001b[0m"
     ]
    }
   ],
   "source": [
    "// maven central\n",
    "// %maven io.github.padreati:rapaio-core:5.1.0\n",
    "\n",
    "// on binder we work offline, so load library from local\n",
    "%jar ./rapaio-core-5.1.0.jar"
   ]
  },
  {
   "cell_type": "code",
   "execution_count": 9,
   "metadata": {},
   "outputs": [],
   "source": [
    "// extensive list of useful imports from rapaio library\n",
    "\n",
    "import rapaio.core.*;\n",
    "import rapaio.core.correlation.*;\n",
    "import rapaio.core.distributions.*;\n",
    "import rapaio.core.tests.*;\n",
    "import rapaio.core.tools.*;\n",
    "import rapaio.core.stat.*;\n",
    "\n",
    "import rapaio.data.*;\n",
    "import rapaio.data.preprocessing.*;\n",
    "import rapaio.data.group.*;\n",
    "import rapaio.data.unique.*;\n",
    "import rapaio.data.sample.*;\n",
    "import rapaio.data.stream.*;\n",
    "\n",
    "import static rapaio.data.Group.*;\n",
    "\n",
    "import rapaio.datasets.*;\n",
    "\n",
    "import rapaio.graphics.*;\n",
    "import rapaio.graphics.plot.*;\n",
    "import static rapaio.graphics.Plotter.*;\n",
    "import static rapaio.graphics.opt.GOptions.*;\n",
    "import rapaio.graphics.opt.*;\n",
    "import rapaio.image.*;\n",
    "\n",
    "import rapaio.io.*;\n",
    "\n",
    "import static rapaio.math.MathTools.*;\n",
    "import rapaio.math.linear.*;\n",
    "import rapaio.math.linear.dense.*;\n",
    "import rapaio.math.linear.decomposition.*;\n",
    "\n",
    "import rapaio.sys.*;\n",
    "import rapaio.printer.*;\n",
    "import static rapaio.printer.Printer.*;\n",
    "import static rapaio.printer.opt.POpts.*;\n",
    "\n",
    "import rapaio.ml.eval.*;\n",
    "import rapaio.ml.eval.metric.*;\n",
    "import rapaio.ml.eval.split.*;\n",
    "import rapaio.ml.common.*;\n",
    "import rapaio.ml.common.kernel.*;\n",
    "\n",
    "import rapaio.ml.model.*;\n",
    "import rapaio.ml.model.bayes.*;\n",
    "import rapaio.ml.model.boost.*;\n",
    "import rapaio.ml.model.meta.*;\n",
    "import rapaio.ml.model.linear.*;\n",
    "import rapaio.ml.model.rule.*;\n",
    "import rapaio.ml.model.svm.*;\n",
    "import rapaio.ml.model.tree.*;\n",
    "import rapaio.ml.model.tree.ctree.*;\n",
    "import rapaio.ml.model.ensemble.*;\n",
    "    \n",
    "import rapaio.ml.model.simple.*;\n",
    "import rapaio.ml.model.rvm.*;\n",
    "\n",
    "import rapaio.ml.model.km.*;\n",
    "\n",
    "import rapaio.util.*;\n",
    "import rapaio.util.collection.*;\n",
    "import rapaio.util.function.*;\n",
    "import rapaio.util.hash.*;"
   ]
  },
  {
   "cell_type": "code",
   "execution_count": 3,
   "metadata": {},
   "outputs": [],
   "source": [
    "// list of useful imports from jdk\n",
    "\n",
    "import java.awt.Color;\n",
    "import java.awt.Font;\n",
    "\n",
    "import java.util.function.*;\n",
    "import java.util.stream.*;"
   ]
  },
  {
   "cell_type": "code",
   "execution_count": 6,
   "metadata": {},
   "outputs": [
    {
     "data": {
      "text/plain": [
       "rapaio.printer.standard.StandardPrinter@33b52550"
      ]
     },
     "execution_count": 6,
     "metadata": {},
     "output_type": "execute_result"
    }
   ],
   "source": [
    "WS.getPrinter().withOptions(textWidth(90), graphicWidth(800), graphicHeight(600));"
   ]
  },
  {
   "cell_type": "code",
   "execution_count": null,
   "metadata": {},
   "outputs": [],
   "source": []
  }
 ],
 "metadata": {
  "kernelspec": {
   "display_name": "Rapaio Kernel",
   "language": "java",
   "name": "rapaio-jupyter-kernel"
  },
  "language_info": {
   "codemirror_mode": "java",
   "file_extension": ".jshell",
   "mimetype": "text/x-java-source",
   "name": "java",
   "nbconvert_exporter": "script",
   "pygments_lexer": "java",
   "version": "20.0.1+9-FR"
  }
 },
 "nbformat": 4,
 "nbformat_minor": 4
}
